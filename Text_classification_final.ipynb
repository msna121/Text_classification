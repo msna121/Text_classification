{
  "nbformat": 4,
  "nbformat_minor": 0,
  "metadata": {
    "colab": {
      "name": "Text_classification_final_V1.ipynb",
      "provenance": [],
      "collapsed_sections": []
    },
    "kernelspec": {
      "name": "python3",
      "display_name": "Python 3"
    },
    "language_info": {
      "name": "python"
    }
  },
  "cells": [
    {
      "cell_type": "markdown",
      "source": [
        "**Importing necessary libraries and dataset**"
      ],
      "metadata": {
        "id": "o7ok5jxOSp2h"
      }
    },
    {
      "cell_type": "code",
      "source": [
        "! pip install pyLDAvis"
      ],
      "metadata": {
        "colab": {
          "base_uri": "https://localhost:8080/"
        },
        "id": "6iT9KHl8Xn8e",
        "outputId": "6cf247a5-af91-4fe4-c8bc-7f1e66f1e80f"
      },
      "execution_count": 1,
      "outputs": [
        {
          "output_type": "stream",
          "name": "stdout",
          "text": [
            "Requirement already satisfied: pyLDAvis in /usr/local/lib/python3.7/dist-packages (3.3.1)\n",
            "Requirement already satisfied: gensim in /usr/local/lib/python3.7/dist-packages (from pyLDAvis) (3.6.0)\n",
            "Requirement already satisfied: funcy in /usr/local/lib/python3.7/dist-packages (from pyLDAvis) (1.17)\n",
            "Requirement already satisfied: future in /usr/local/lib/python3.7/dist-packages (from pyLDAvis) (0.16.0)\n",
            "Requirement already satisfied: sklearn in /usr/local/lib/python3.7/dist-packages (from pyLDAvis) (0.0)\n",
            "Requirement already satisfied: numexpr in /usr/local/lib/python3.7/dist-packages (from pyLDAvis) (2.8.1)\n",
            "Requirement already satisfied: numpy>=1.20.0 in /usr/local/lib/python3.7/dist-packages (from pyLDAvis) (1.21.5)\n",
            "Requirement already satisfied: jinja2 in /usr/local/lib/python3.7/dist-packages (from pyLDAvis) (2.11.3)\n",
            "Requirement already satisfied: scikit-learn in /usr/local/lib/python3.7/dist-packages (from pyLDAvis) (1.0.2)\n",
            "Requirement already satisfied: pandas>=1.2.0 in /usr/local/lib/python3.7/dist-packages (from pyLDAvis) (1.3.5)\n",
            "Requirement already satisfied: scipy in /usr/local/lib/python3.7/dist-packages (from pyLDAvis) (1.4.1)\n",
            "Requirement already satisfied: joblib in /usr/local/lib/python3.7/dist-packages (from pyLDAvis) (1.1.0)\n",
            "Requirement already satisfied: setuptools in /usr/local/lib/python3.7/dist-packages (from pyLDAvis) (57.4.0)\n",
            "Requirement already satisfied: python-dateutil>=2.7.3 in /usr/local/lib/python3.7/dist-packages (from pandas>=1.2.0->pyLDAvis) (2.8.2)\n",
            "Requirement already satisfied: pytz>=2017.3 in /usr/local/lib/python3.7/dist-packages (from pandas>=1.2.0->pyLDAvis) (2018.9)\n",
            "Requirement already satisfied: six>=1.5 in /usr/local/lib/python3.7/dist-packages (from python-dateutil>=2.7.3->pandas>=1.2.0->pyLDAvis) (1.15.0)\n",
            "Requirement already satisfied: smart-open>=1.2.1 in /usr/local/lib/python3.7/dist-packages (from gensim->pyLDAvis) (5.2.1)\n",
            "Requirement already satisfied: MarkupSafe>=0.23 in /usr/local/lib/python3.7/dist-packages (from jinja2->pyLDAvis) (2.0.1)\n",
            "Requirement already satisfied: packaging in /usr/local/lib/python3.7/dist-packages (from numexpr->pyLDAvis) (21.3)\n",
            "Requirement already satisfied: pyparsing!=3.0.5,>=2.0.2 in /usr/local/lib/python3.7/dist-packages (from packaging->numexpr->pyLDAvis) (3.0.7)\n",
            "Requirement already satisfied: threadpoolctl>=2.0.0 in /usr/local/lib/python3.7/dist-packages (from scikit-learn->pyLDAvis) (3.1.0)\n"
          ]
        }
      ]
    },
    {
      "cell_type": "code",
      "execution_count": 2,
      "metadata": {
        "colab": {
          "base_uri": "https://localhost:8080/"
        },
        "id": "12J5RXyTSXJS",
        "outputId": "79bdba6d-8509-40f6-c221-5c43a896ae6f"
      },
      "outputs": [
        {
          "output_type": "stream",
          "name": "stderr",
          "text": [
            "/usr/local/lib/python3.7/dist-packages/past/types/oldstr.py:5: DeprecationWarning: Using or importing the ABCs from 'collections' instead of from 'collections.abc' is deprecated since Python 3.3,and in 3.9 it will stop working\n",
            "  from collections import Iterable\n"
          ]
        }
      ],
      "source": [
        "import numpy as np\n",
        "import pandas as pd\n",
        "import nltk, spacy, gensim\n",
        "\n",
        "# Sklearn\n",
        "from sklearn.decomposition import LatentDirichletAllocation, PCA\n",
        "from sklearn.feature_extraction.text import CountVectorizer\n",
        "from sklearn.cluster import KMeans\n",
        "from sklearn.preprocessing import normalize\n",
        "from pprint import pprint\n",
        "\n",
        "# Plotting tools\n",
        "import pyLDAvis\n",
        "import pyLDAvis.sklearn\n",
        "import matplotlib.pyplot as plt\n",
        "%matplotlib inline\n",
        "plt.style.use('ggplot')\n",
        "\n",
        "# pickle to save model\n",
        "import pickle\n",
        "\n",
        "import warnings\n",
        "warnings.filterwarnings(\"ignore\",category=DeprecationWarning)"
      ]
    },
    {
      "cell_type": "code",
      "source": [
        "# Import Dataset\n",
        "df = pd.read_csv('/content/User_Reviews.csv')\n",
        "df.head()"
      ],
      "metadata": {
        "colab": {
          "base_uri": "https://localhost:8080/",
          "height": 206
        },
        "id": "rIgCGlFjSxIH",
        "outputId": "2db406cd-6b67-44b6-d74c-de4d2efb987b"
      },
      "execution_count": 3,
      "outputs": [
        {
          "output_type": "execute_result",
          "data": {
            "text/plain": [
              "                                                Text\n",
              "0  I absolutly love this modle. It is soooooooo c...\n",
              "1  I love this parfum spray. I was very pleased a...\n",
              "2  We love this collar! It's sturdy, convenient, ...\n",
              "3  The game that made me the most competitive foo...\n",
              "4  Got this for my boyfriend after smelling it in..."
            ],
            "text/html": [
              "\n",
              "  <div id=\"df-305bb41d-b1ec-4ee3-bec8-9bcd0e42a427\">\n",
              "    <div class=\"colab-df-container\">\n",
              "      <div>\n",
              "<style scoped>\n",
              "    .dataframe tbody tr th:only-of-type {\n",
              "        vertical-align: middle;\n",
              "    }\n",
              "\n",
              "    .dataframe tbody tr th {\n",
              "        vertical-align: top;\n",
              "    }\n",
              "\n",
              "    .dataframe thead th {\n",
              "        text-align: right;\n",
              "    }\n",
              "</style>\n",
              "<table border=\"1\" class=\"dataframe\">\n",
              "  <thead>\n",
              "    <tr style=\"text-align: right;\">\n",
              "      <th></th>\n",
              "      <th>Text</th>\n",
              "    </tr>\n",
              "  </thead>\n",
              "  <tbody>\n",
              "    <tr>\n",
              "      <th>0</th>\n",
              "      <td>I absolutly love this modle. It is soooooooo c...</td>\n",
              "    </tr>\n",
              "    <tr>\n",
              "      <th>1</th>\n",
              "      <td>I love this parfum spray. I was very pleased a...</td>\n",
              "    </tr>\n",
              "    <tr>\n",
              "      <th>2</th>\n",
              "      <td>We love this collar! It's sturdy, convenient, ...</td>\n",
              "    </tr>\n",
              "    <tr>\n",
              "      <th>3</th>\n",
              "      <td>The game that made me the most competitive foo...</td>\n",
              "    </tr>\n",
              "    <tr>\n",
              "      <th>4</th>\n",
              "      <td>Got this for my boyfriend after smelling it in...</td>\n",
              "    </tr>\n",
              "  </tbody>\n",
              "</table>\n",
              "</div>\n",
              "      <button class=\"colab-df-convert\" onclick=\"convertToInteractive('df-305bb41d-b1ec-4ee3-bec8-9bcd0e42a427')\"\n",
              "              title=\"Convert this dataframe to an interactive table.\"\n",
              "              style=\"display:none;\">\n",
              "        \n",
              "  <svg xmlns=\"http://www.w3.org/2000/svg\" height=\"24px\"viewBox=\"0 0 24 24\"\n",
              "       width=\"24px\">\n",
              "    <path d=\"M0 0h24v24H0V0z\" fill=\"none\"/>\n",
              "    <path d=\"M18.56 5.44l.94 2.06.94-2.06 2.06-.94-2.06-.94-.94-2.06-.94 2.06-2.06.94zm-11 1L8.5 8.5l.94-2.06 2.06-.94-2.06-.94L8.5 2.5l-.94 2.06-2.06.94zm10 10l.94 2.06.94-2.06 2.06-.94-2.06-.94-.94-2.06-.94 2.06-2.06.94z\"/><path d=\"M17.41 7.96l-1.37-1.37c-.4-.4-.92-.59-1.43-.59-.52 0-1.04.2-1.43.59L10.3 9.45l-7.72 7.72c-.78.78-.78 2.05 0 2.83L4 21.41c.39.39.9.59 1.41.59.51 0 1.02-.2 1.41-.59l7.78-7.78 2.81-2.81c.8-.78.8-2.07 0-2.86zM5.41 20L4 18.59l7.72-7.72 1.47 1.35L5.41 20z\"/>\n",
              "  </svg>\n",
              "      </button>\n",
              "      \n",
              "  <style>\n",
              "    .colab-df-container {\n",
              "      display:flex;\n",
              "      flex-wrap:wrap;\n",
              "      gap: 12px;\n",
              "    }\n",
              "\n",
              "    .colab-df-convert {\n",
              "      background-color: #E8F0FE;\n",
              "      border: none;\n",
              "      border-radius: 50%;\n",
              "      cursor: pointer;\n",
              "      display: none;\n",
              "      fill: #1967D2;\n",
              "      height: 32px;\n",
              "      padding: 0 0 0 0;\n",
              "      width: 32px;\n",
              "    }\n",
              "\n",
              "    .colab-df-convert:hover {\n",
              "      background-color: #E2EBFA;\n",
              "      box-shadow: 0px 1px 2px rgba(60, 64, 67, 0.3), 0px 1px 3px 1px rgba(60, 64, 67, 0.15);\n",
              "      fill: #174EA6;\n",
              "    }\n",
              "\n",
              "    [theme=dark] .colab-df-convert {\n",
              "      background-color: #3B4455;\n",
              "      fill: #D2E3FC;\n",
              "    }\n",
              "\n",
              "    [theme=dark] .colab-df-convert:hover {\n",
              "      background-color: #434B5C;\n",
              "      box-shadow: 0px 1px 3px 1px rgba(0, 0, 0, 0.15);\n",
              "      filter: drop-shadow(0px 1px 2px rgba(0, 0, 0, 0.3));\n",
              "      fill: #FFFFFF;\n",
              "    }\n",
              "  </style>\n",
              "\n",
              "      <script>\n",
              "        const buttonEl =\n",
              "          document.querySelector('#df-305bb41d-b1ec-4ee3-bec8-9bcd0e42a427 button.colab-df-convert');\n",
              "        buttonEl.style.display =\n",
              "          google.colab.kernel.accessAllowed ? 'block' : 'none';\n",
              "\n",
              "        async function convertToInteractive(key) {\n",
              "          const element = document.querySelector('#df-305bb41d-b1ec-4ee3-bec8-9bcd0e42a427');\n",
              "          const dataTable =\n",
              "            await google.colab.kernel.invokeFunction('convertToInteractive',\n",
              "                                                     [key], {});\n",
              "          if (!dataTable) return;\n",
              "\n",
              "          const docLinkHtml = 'Like what you see? Visit the ' +\n",
              "            '<a target=\"_blank\" href=https://colab.research.google.com/notebooks/data_table.ipynb>data table notebook</a>'\n",
              "            + ' to learn more about interactive tables.';\n",
              "          element.innerHTML = '';\n",
              "          dataTable['output_type'] = 'display_data';\n",
              "          await google.colab.output.renderOutput(dataTable, element);\n",
              "          const docLink = document.createElement('div');\n",
              "          docLink.innerHTML = docLinkHtml;\n",
              "          element.appendChild(docLink);\n",
              "        }\n",
              "      </script>\n",
              "    </div>\n",
              "  </div>\n",
              "  "
            ]
          },
          "metadata": {},
          "execution_count": 3
        }
      ]
    },
    {
      "cell_type": "code",
      "source": [
        "len(df)"
      ],
      "metadata": {
        "colab": {
          "base_uri": "https://localhost:8080/"
        },
        "id": "pJxPSGb7VRdM",
        "outputId": "2405f76d-dc7d-4f96-a9e3-e2270453be77"
      },
      "execution_count": 4,
      "outputs": [
        {
          "output_type": "execute_result",
          "data": {
            "text/plain": [
              "3227"
            ]
          },
          "metadata": {},
          "execution_count": 4
        }
      ]
    },
    {
      "cell_type": "markdown",
      "source": [
        "**Preprocessing data**"
      ],
      "metadata": {
        "id": "x8qQHA88THlH"
      }
    },
    {
      "cell_type": "markdown",
      "source": [
        "1. Tokenize and Clean-up using gensim’s simple_preprocess()"
      ],
      "metadata": {
        "id": "WktHYAhFTBHJ"
      }
    },
    {
      "cell_type": "code",
      "source": [
        "# Convert to list\n",
        "data = df['Text'].values.tolist()\n",
        "\n",
        "def sent_to_words(sentences):\n",
        "    \"\"\"Tokenizing the sentences to words\"\"\"\n",
        "    for sentence in sentences:\n",
        "        yield(gensim.utils.simple_preprocess(str(sentence), deacc=True))  # deacc=True removes punctuations and accent marks from letters\n",
        "\n",
        "data_words = list(sent_to_words(data))\n",
        "\n",
        "print(data_words[:1])"
      ],
      "metadata": {
        "colab": {
          "base_uri": "https://localhost:8080/"
        },
        "id": "BdhO8DvQSyZf",
        "outputId": "7433322a-f0bd-4c59-9394-52725b4e1c74"
      },
      "execution_count": 5,
      "outputs": [
        {
          "output_type": "stream",
          "name": "stdout",
          "text": [
            "[['absolutly', 'love', 'this', 'modle', 'it', 'is', 'soooooooo', 'cool', 'am', 'big', 'smarty', 'jones', 'fan', 'so', 'this', 'was', 'must', 'have', 'it', 'is', 'not', 'really', 'made', 'for', 'playing', 'with', 'more', 'like', 'on', 'display', 'shelf', 'half', 'special', 'section', 'for', 'him']]\n"
          ]
        }
      ]
    },
    {
      "cell_type": "markdown",
      "source": [
        "2. Lemmatization\n",
        "  - Lemmatization is a process where we convert words to its root word.\n",
        "\n",
        "  - For example: ‘Studying’ becomes ‘Study’, ‘Meeting becomes ‘Meet’, ‘Better’ and ‘Best’ becomes ‘Good’."
      ],
      "metadata": {
        "id": "kan_iiRpTv2b"
      }
    },
    {
      "cell_type": "code",
      "source": [
        "def lemmatization(texts, allowed_postags=['NOUN', 'ADJ', 'VERB', 'ADV']):\n",
        "    \"\"\"https://spacy.io/api/annotation\n",
        "       Extracting root words   \n",
        "    \"\"\"\n",
        "    texts_out = []\n",
        "    for sent in texts:\n",
        "        doc = nlp(\" \".join(sent)) \n",
        "        texts_out.append(\" \".join([token.lemma_ if token.lemma_ not in ['-PRON-'] else '' for token in doc if token.pos_ in allowed_postags]))\n",
        "    return texts_out"
      ],
      "metadata": {
        "id": "x_ow5uzYSycY"
      },
      "execution_count": 6,
      "outputs": []
    },
    {
      "cell_type": "code",
      "source": [
        "# Initialize spacy 'en' model, keeping only tagger component (for efficiency)\n",
        "# Run in terminal: python3 -m spacy download en\n",
        "nlp = spacy.load('en', disable=['parser', 'ner'])\n",
        "\n",
        "# Do lemmatization keeping only Noun, Adj, Verb, Adverb\n",
        "data_lemmatized = lemmatization(data_words, allowed_postags=['NOUN', 'ADJ', 'VERB', 'ADV'])\n",
        "\n",
        "print(data_lemmatized[:2])"
      ],
      "metadata": {
        "colab": {
          "base_uri": "https://localhost:8080/"
        },
        "id": "N7Xu9wl3Syhn",
        "outputId": "9912e7d4-d2ee-4c4a-a0df-b5417e62ddf9"
      },
      "execution_count": 7,
      "outputs": [
        {
          "output_type": "stream",
          "name": "stdout",
          "text": [
            "['absolutly love modle soooooooo cool fan must really make play more like display shelf half special section', 'love parfum spray very pleased price as well size bottle will last very long time old cologne difficult find store impossible yet find problem com so reliable will definitely order again again']\n"
          ]
        }
      ]
    },
    {
      "cell_type": "markdown",
      "source": [
        "3. Create the Document-Word matrix"
      ],
      "metadata": {
        "id": "XpsCTOrdVIqR"
      }
    },
    {
      "cell_type": "code",
      "source": [
        "vectorizer = CountVectorizer(\n",
        "                             min_df=2,                         # minimum reqd occurences of a word\n",
        "                             max_df=0.9,                       # ignore terms that have a document frequency strictly higher than max_df\n",
        "                             stop_words='english',             # remove stop words\n",
        "                             lowercase=True,                   # convert all words to lowercase\n",
        "                             ngram_range=(1,3)                 # considering unigrams, bigrams and trigrams\n",
        "                            )\n",
        "\n",
        "data_vectorized = vectorizer.fit_transform(data_lemmatized)"
      ],
      "metadata": {
        "id": "dYuM4KsXSyka"
      },
      "execution_count": 8,
      "outputs": []
    },
    {
      "cell_type": "markdown",
      "source": [
        "4. Check the Sparsicity"
      ],
      "metadata": {
        "id": "NWQpYlO3W1Vf"
      }
    },
    {
      "cell_type": "code",
      "source": [
        "# Materialize the sparse data\n",
        "data_dense = data_vectorized.todense()\n",
        "\n",
        "# Compute Sparsicity = Percentage of Non-Zero cells\n",
        "print(\"Sparsicity: \", ((data_dense > 0).sum()/data_dense.size)*100, \"%\")"
      ],
      "metadata": {
        "colab": {
          "base_uri": "https://localhost:8080/"
        },
        "id": "bF71dpmMSym3",
        "outputId": "ce2c8224-eaec-4215-ee28-fa35b2faa500"
      },
      "execution_count": 9,
      "outputs": [
        {
          "output_type": "stream",
          "name": "stdout",
          "text": [
            "Sparsicity:  0.2335220305836238 %\n"
          ]
        }
      ]
    },
    {
      "cell_type": "markdown",
      "source": [
        "**Model selection and model building**"
      ],
      "metadata": {
        "id": "nCf8bZ3i6WZ_"
      }
    },
    {
      "cell_type": "code",
      "source": [
        "# Build LDA Model\n",
        "lda_model = LatentDirichletAllocation(n_components=10,           # Number of topics\n",
        "                                      max_iter=10,               # Max learning iterations\n",
        "                                      learning_method='online',   \n",
        "                                      random_state=100,          # Random state\n",
        "                                      batch_size=128,            # n docs in each learning iter\n",
        "                                      evaluate_every = -1,       # compute perplexity every n iters, default: Don't\n",
        "                                      n_jobs = -1,               # Use all available CPUs\n",
        "                                     )\n",
        "lda_output = lda_model.fit_transform(data_vectorized)\n",
        "\n",
        "print(lda_model)  # Model attributes"
      ],
      "metadata": {
        "colab": {
          "base_uri": "https://localhost:8080/"
        },
        "id": "mITgYVEoSypf",
        "outputId": "1df55fb1-40ae-484e-9f6d-a3e5f901139d"
      },
      "execution_count": 10,
      "outputs": [
        {
          "output_type": "stream",
          "name": "stdout",
          "text": [
            "LatentDirichletAllocation(learning_method='online', n_jobs=-1, random_state=100)\n"
          ]
        }
      ]
    },
    {
      "cell_type": "code",
      "source": [
        "# Log Likelyhood: Higher the better\n",
        "print(\"Log Likelihood: \", lda_model.score(data_vectorized))\n",
        "\n",
        "# Perplexity: Lower the better. Perplexity = exp(-1. * log-likelihood per word)\n",
        "print(\"Perplexity: \", lda_model.perplexity(data_vectorized))\n",
        "\n",
        "# See model parameters\n",
        "pprint(lda_model.get_params())"
      ],
      "metadata": {
        "colab": {
          "base_uri": "https://localhost:8080/"
        },
        "id": "uvbR4jq2SysJ",
        "outputId": "8f55c158-683b-4bc3-bd68-f4dfb4e915ed"
      },
      "execution_count": 11,
      "outputs": [
        {
          "output_type": "stream",
          "name": "stdout",
          "text": [
            "Log Likelihood:  -1141345.5246782233\n",
            "Perplexity:  4244.70513828538\n",
            "{'batch_size': 128,\n",
            " 'doc_topic_prior': None,\n",
            " 'evaluate_every': -1,\n",
            " 'learning_decay': 0.7,\n",
            " 'learning_method': 'online',\n",
            " 'learning_offset': 10.0,\n",
            " 'max_doc_update_iter': 100,\n",
            " 'max_iter': 10,\n",
            " 'mean_change_tol': 0.001,\n",
            " 'n_components': 10,\n",
            " 'n_jobs': -1,\n",
            " 'perp_tol': 0.1,\n",
            " 'random_state': 100,\n",
            " 'topic_word_prior': None,\n",
            " 'total_samples': 1000000.0,\n",
            " 'verbose': 0}\n"
          ]
        }
      ]
    },
    {
      "cell_type": "markdown",
      "source": [
        "Topic model visualization"
      ],
      "metadata": {
        "id": "5Hf-N79E8S6x"
      }
    },
    {
      "cell_type": "code",
      "source": [
        "pyLDAvis.enable_notebook()\n",
        "panel = pyLDAvis.sklearn.prepare(lda_model, data_vectorized, vectorizer, mds='tsne')\n",
        "panel"
      ],
      "metadata": {
        "colab": {
          "base_uri": "https://localhost:8080/",
          "height": 1000
        },
        "id": "5_-OFkjob2bO",
        "outputId": "812e0b5b-7ec7-4e00-c59d-8007611418ee"
      },
      "execution_count": 12,
      "outputs": [
        {
          "output_type": "stream",
          "name": "stderr",
          "text": [
            "/usr/local/lib/python3.7/dist-packages/sklearn/utils/deprecation.py:87: FutureWarning: Function get_feature_names is deprecated; get_feature_names is deprecated in 1.0 and will be removed in 1.2. Please use get_feature_names_out instead.\n",
            "  warnings.warn(msg, category=FutureWarning)\n",
            "/usr/local/lib/python3.7/dist-packages/pyLDAvis/_prepare.py:247: FutureWarning: In a future version of pandas all arguments of DataFrame.drop except for the argument 'labels' will be keyword-only\n",
            "  by='saliency', ascending=False).head(R).drop('saliency', 1)\n",
            "/usr/local/lib/python3.7/dist-packages/sklearn/manifold/_t_sne.py:783: FutureWarning: The default initialization in TSNE will change from 'random' to 'pca' in 1.2.\n",
            "  FutureWarning,\n",
            "/usr/local/lib/python3.7/dist-packages/sklearn/manifold/_t_sne.py:793: FutureWarning: The default learning rate in TSNE will change from 200.0 to 'auto' in 1.2.\n",
            "  FutureWarning,\n",
            "/usr/local/lib/python3.7/dist-packages/sklearn/manifold/_t_sne.py:827: FutureWarning: 'square_distances' has been introduced in 0.24 to help phase out legacy squaring behavior. The 'legacy' setting will be removed in 1.1 (renaming of 0.26), and the default setting will be changed to True. In 1.3, 'square_distances' will be removed altogether, and distances will be squared by default. Set 'square_distances'=True to silence this warning.\n",
            "  FutureWarning,\n"
          ]
        },
        {
          "output_type": "execute_result",
          "data": {
            "text/plain": [
              "PreparedData(topic_coordinates=               x          y  topics  cluster       Freq\n",
              "topic                                                  \n",
              "9      32.420952   8.115230       1        1  50.524210\n",
              "2       0.648955  71.707100       2        1  22.170345\n",
              "6      71.019684   9.971006       3        1  14.596731\n",
              "3       3.785981  33.185135       4        1   3.478974\n",
              "4     -42.666500  -9.222070       5        1   2.377776\n",
              "0      -3.621689 -43.526516       6        1   2.232346\n",
              "8      -3.632402  -4.171708       7        1   1.874426\n",
              "7     -36.584400  35.804413       8        1   1.032629\n",
              "5      44.391380  50.615383       9        1   0.920263\n",
              "1      40.235809 -31.591665      10        1   0.792299, topic_info=               Term        Freq       Total Category  logprob  loglift\n",
              "4902           game  689.000000  689.000000  Default  30.0000  30.0000\n",
              "13670           toy  904.000000  904.000000  Default  29.0000  29.0000\n",
              "9586           play  779.000000  779.000000  Default  28.0000  28.0000\n",
              "5570           hair  920.000000  920.000000  Default  27.0000  27.0000\n",
              "1626            cat  621.000000  621.000000  Default  26.0000  26.0000\n",
              "...             ...         ...         ...      ...      ...      ...\n",
              "8297    miss rubber    1.409891    2.079703  Topic10  -6.6435   4.4493\n",
              "2668          creep    1.400691    2.070573  Topic10  -6.6501   4.4471\n",
              "10259  professional    2.089619   12.990057  Topic10  -6.2501   3.0108\n",
              "8295           miss    1.782384   29.066384  Topic10  -6.4091   2.0464\n",
              "1579        careful    1.767030   41.512711  Topic10  -6.4178   1.6813\n",
              "\n",
              "[538 rows x 6 columns], token_table=       Topic      Freq         Term\n",
              "term                               \n",
              "137        1  0.514882     addition\n",
              "137        2  0.220664     addition\n",
              "137        6  0.245182     addition\n",
              "146        9  0.947314     adhesive\n",
              "187        1  0.996112          age\n",
              "...      ...       ...          ...\n",
              "15326      1  0.995917     year old\n",
              "15393      8  0.656547   year worth\n",
              "15406      1  0.989707        young\n",
              "15418     10  0.474535  young woman\n",
              "15433      6  0.862418         zoid\n",
              "\n",
              "[762 rows x 3 columns], R=30, lambda_step=0.01, plot_opts={'xlab': 'PC1', 'ylab': 'PC2'}, topic_order=[10, 3, 7, 4, 5, 1, 9, 8, 6, 2])"
            ],
            "text/html": [
              "\n",
              "<link rel=\"stylesheet\" type=\"text/css\" href=\"https://cdn.jsdelivr.net/gh/bmabey/pyLDAvis@3.3.1/pyLDAvis/js/ldavis.v1.0.0.css\">\n",
              "\n",
              "\n",
              "<div id=\"ldavis_el6031401980879209769315781181\"></div>\n",
              "<script type=\"text/javascript\">\n",
              "\n",
              "var ldavis_el6031401980879209769315781181_data = {\"mdsDat\": {\"x\": [32.42095184326172, 0.648955225944519, 71.01968383789062, 3.7859814167022705, -42.666500091552734, -3.6216893196105957, -3.632401704788208, -36.58440017700195, 44.391380310058594, 40.235809326171875], \"y\": [8.115229606628418, 71.70709991455078, 9.971006393432617, 33.18513488769531, -9.22206974029541, -43.52651596069336, -4.171707630157471, 35.804412841796875, 50.61538314819336, -31.591665267944336], \"topics\": [1, 2, 3, 4, 5, 6, 7, 8, 9, 10], \"cluster\": [1, 1, 1, 1, 1, 1, 1, 1, 1, 1], \"Freq\": [50.524209568273015, 22.170345133032523, 14.596731425321178, 3.478974261422136, 2.377775881437323, 2.23234645625772, 1.8744261166037006, 1.0326285626400251, 0.9202632071727237, 0.7922993878396654]}, \"tinfo\": {\"Term\": [\"game\", \"toy\", \"play\", \"hair\", \"cat\", \"month\", \"fun\", \"use\", \"product\", \"smell\", \"dog\", \"box\", \"card\", \"skin\", \"food\", \"litter\", \"figure\", \"baby\", \"large\", \"item\", \"old\", \"size\", \"scent\", \"order\", \"kid\", \"like\", \"player\", \"bottle\", \"receive\", \"year\", \"old\", \"year old\", \"child\", \"piece\", \"place\", \"month old\", \"age\", \"family\", \"floor\", \"durable\", \"stand\", \"walk\", \"young\", \"pad\", \"sound\", \"car\", \"battery\", \"flea\", \"number\", \"puppy\", \"push\", \"cute\", \"ask\", \"chew\", \"husband\", \"sleep\", \"educational\", \"grow\", \"shape\", \"word\", \"son\", \"learn\", \"daughter\", \"gift\", \"enjoy\", \"toy\", \"thing\", \"kid\", \"set\", \"play\", \"love\", \"like\", \"year\", \"buy\", \"ball\", \"great\", \"make\", \"little\", \"think\", \"just\", \"time\", \"come\", \"really\", \"new\", \"good\", \"purchase\", \"work\", \"month\", \"dog\", \"use\", \"say\", \"know\", \"look\", \"cat\", \"try\", \"hair\", \"iron\", \"dryer\", \"curl\", \"heat\", \"hot\", \"fountain\", \"bowl\", \"drink\", \"blow\", \"dry hair\", \"comb\", \"long hair\", \"effective\", \"curly\", \"water\", \"hurt\", \"leave hair\", \"flat iron\", \"hair look\", \"make hair\", \"wet\", \"straightener\", \"pug\", \"hair feel\", \"easy clean\", \"hair use\", \"gel\", \"curly hair\", \"shiny\", \"brush\", \"bag\", \"vet\", \"shampoo\", \"scalp\", \"collar\", \"product\", \"dog\", \"eat\", \"conditioner\", \"flat\", \"use product\", \"use\", \"food\", \"great product\", \"dry\", \"work\", \"look\", \"stop\", \"leave\", \"long\", \"good\", \"try\", \"easy\", \"make\", \"just\", \"really\", \"great\", \"time\", \"love\", \"cat\", \"recommend\", \"buy\", \"purchase\", \"week\", \"day\", \"need\", \"skin\", \"litter\", \"scent\", \"perfume\", \"fragrance\", \"cologne\", \"litter box\", \"cream\", \"moisturizer\", \"sweet\", \"odor\", \"dry skin\", \"subtle\", \"oily\", \"floral\", \"smell good\", \"oil\", \"sensitive skin\", \"breakout\", \"sticky\", \"fade\", \"sample\", \"spice\", \"vanilla\", \"blend\", \"smell great\", \"soap\", \"makeup\", \"rich\", \"cat litter\", \"smell\", \"bottle\", \"lotion\", \"compliment\", \"stain\", \"clump\", \"face\", \"wear\", \"box\", \"scoop\", \"dark\", \"woman\", \"clean\", \"color\", \"use\", \"note\", \"product\", \"eye\", \"try\", \"spray\", \"dry\", \"day\", \"cat\", \"good\", \"light\", \"feel\", \"time\", \"just\", \"say\", \"buy\", \"love\", \"great\", \"year\", \"work\", \"board\", \"play game\", \"board game\", \"player\", \"game fun\", \"game kid\", \"card game\", \"game game\", \"game board\", \"angel\", \"game time\", \"game play\", \"game good\", \"good game\", \"angel eye\", \"spinner\", \"familiar\", \"game\", \"strategy\", \"strategic\", \"expansion\", \"easy learn\", \"version game\", \"game lot\", \"clicker\", \"set game\", \"reasoning\", \"field\", \"beware\", \"perfect time\", \"card\", \"rule\", \"clue\", \"puzzle\", \"lot fun\", \"sequence\", \"play play\", \"fun\", \"question\", \"score\", \"play\", \"battle\", \"movie\", \"city\", \"version\", \"people\", \"character\", \"lot\", \"risk\", \"kid\", \"favorite\", \"tape\", \"monopoly\", \"organic\", \"warranty\", \"member\", \"stretch\", \"photo\", \"chicken\", \"voice\", \"wellness\", \"soak\", \"corn\", \"used\", \"department store\", \"stretch mark\", \"driger\", \"biscuit\", \"stop bark\", \"property\", \"cutter\", \"son birthday\", \"great choice\", \"just need\", \"grateful\", \"item arrive\", \"cd\", \"old time\", \"birthday love\", \"use lotion\", \"great item\", \"bark\", \"mail\", \"department\", \"food\", \"twice\", \"item\", \"feed\", \"receive\", \"ingredient\", \"edition\", \"order\", \"return\", \"barking\", \"ago\", \"year ago\", \"likely\", \"shipping\", \"arrive\", \"year\", \"day\", \"twice day\", \"charge\", \"pill\", \"panel\", \"cleanser\", \"indoor\", \"omega\", \"omega paw\", \"cover litter box\", \"fun family\", \"bikini area\", \"vehicle\", \"make difference\", \"lover\", \"disk\", \"use old\", \"sugar\", \"box easy\", \"plenty room\", \"silly\", \"smell nice\", \"este\", \"buy large\", \"make cheap\", \"zoid\", \"difficult time\", \"rabbit\", \"cat large\", \"neighborhood\", \"factor\", \"small think\", \"bikini\", \"cover litter\", \"large size\", \"doll\", \"cat love\", \"foster\", \"paw\", \"cat\", \"box\", \"large\", \"difference\", \"size\", \"room\", \"awesome\", \"addition\", \"cord\", \"plenty\", \"yard\", \"nice\", \"decent\", \"daughter month\", \"toy son\", \"pose\", \"camera\", \"articulation\", \"toy month old\", \"daughter month old\", \"love music\", \"play music\", \"just great\", \"patch\", \"gift friend\", \"day recommend\", \"broad\", \"look work\", \"baby love\", \"reccomend\", \"glad make\", \"live far\", \"piano\", \"significant\", \"music play\", \"volume control\", \"baby month\", \"frownie\", \"frown\", \"vader\", \"month month\", \"toy baby\", \"music\", \"buy daughter\", \"baby\", \"great toy\", \"toy month\", \"pooh\", \"song\", \"month\", \"toy\", \"arm\", \"love toy\", \"forehead\", \"figure\", \"eye\", \"light\", \"mobile\", \"great\", \"deck card\", \"carrier\", \"play like\", \"playset\", \"recomend\", \"fish\", \"purchase different\", \"tho\", \"love taste\", \"life live\", \"horrendous\", \"mesh\", \"good choice\", \"simple make\", \"piece cardboard\", \"miniature\", \"dog try\", \"fortunately\", \"time come\", \"girly\", \"star rating\", \"smile face\", \"year worth\", \"coffee\", \"recipient\", \"second time use\", \"artist\", \"runny\", \"price pay\", \"apparent\", \"use make\", \"stool\", \"taste\", \"groomer\", \"service\", \"resort\", \"customer service\", \"choice\", \"beat\", \"german\", \"customer\", \"excited\", \"switch\", \"like\", \"rating\", \"tennis\", \"attract\", \"female\", \"tennis ball\", \"dog size\", \"cat attract\", \"adhesive\", \"preschool\", \"rottweiler\", \"bat\", \"little kid\", \"cootie\", \"say day\", \"just regular\", \"think fun\", \"dancing\", \"confine\", \"great say\", \"little large\", \"great shape\", \"foul\", \"think maybe\", \"perfume girlfriend\", \"hall\", \"dot\", \"object game\", \"female cat\", \"perfect solution\", \"peanut butter\", \"peanut\", \"male\", \"kitten\", \"smell\", \"cat\", \"ball\", \"bad\", \"dragon\", \"therapy\", \"tongue\", \"perfume wear\", \"physical\", \"tissue\", \"therapist\", \"sport\", \"vinyl\", \"scleraderma\", \"red eye\", \"supervision\", \"make hair grow\", \"help daughter\", \"use follow\", \"run away\", \"schnoodle\", \"dragon look\", \"therapy hand\", \"obtain\", \"dragon make\", \"black dragon\", \"eye black\", \"red eye black\", \"purchase unit\", \"disorder\", \"month old favorite\", \"young woman\", \"miss rubber\", \"creep\", \"professional\", \"miss\", \"careful\"], \"Freq\": [689.0, 904.0, 779.0, 920.0, 621.0, 382.0, 313.0, 1506.0, 1104.0, 367.0, 860.0, 334.0, 185.0, 317.0, 185.0, 260.0, 189.0, 121.0, 199.0, 155.0, 700.0, 190.0, 204.0, 240.0, 238.0, 310.0, 90.0, 168.0, 133.0, 718.0, 698.7891513725135, 306.4199331631097, 206.16313472697408, 170.23048803660663, 168.06871679351502, 146.98053502754513, 118.84445389885204, 115.54738367993166, 105.82856908787426, 101.68076519479095, 97.5270309904536, 93.93888743333908, 92.33514960793947, 89.6603330385349, 116.11295639168192, 87.27149508506955, 90.93375549932998, 78.79256361767428, 78.77997151202443, 77.73079970168475, 77.27500398128896, 74.38470789144323, 72.1470422438784, 94.8158710966754, 68.8994009486965, 66.9508311878164, 66.48516455051242, 66.25759782804657, 76.95624388736177, 63.25032537574792, 286.2671951818519, 165.5658704106058, 255.7149591028669, 149.61372002366627, 178.47360357714683, 838.1875946791831, 320.4259265325723, 217.75571279362583, 200.0672573380032, 612.8995455136927, 858.9788156839231, 260.61133981617104, 534.2370470285762, 661.7853784139039, 162.76927222364844, 611.0479498953495, 600.2015867050508, 367.63933300193577, 365.180361718246, 567.890833812718, 538.314660240113, 301.4730123470017, 388.3664002427968, 182.592300136944, 416.756453440465, 264.86508980328506, 424.7835379661894, 254.22326933842308, 334.894399176782, 424.2069609208404, 242.33946529664348, 207.76612401513339, 230.13340825717998, 238.59670367958074, 208.78007582743453, 919.6055143946732, 96.61158751239087, 72.22204372324263, 70.57468993976592, 67.33962545400826, 66.66880096391769, 53.73897169962502, 70.8842189934646, 49.12764956016464, 41.41872666156072, 40.5185261751952, 56.78633918196371, 33.506893244225715, 35.43706711274346, 31.920566290583853, 191.9897960004726, 31.681258573244254, 30.361370093285245, 29.713795638509637, 29.445115342445614, 28.542205506739577, 29.588272882852195, 27.89952317282892, 26.331084443979968, 25.026156845025852, 23.95736009171899, 23.38204298527974, 23.32543490069962, 23.013475418727133, 22.751814369261222, 107.08701786893008, 82.38668919866076, 48.33886642290664, 135.49718542665155, 45.921158697195736, 126.70550423634019, 663.1253687385854, 524.7606835254696, 92.98372087159338, 59.84606467731925, 50.30258753169124, 83.79319545966536, 661.9946785359558, 124.46555000291802, 60.300498220998094, 139.90414254954518, 326.76901444731806, 204.6044292646944, 91.20703570057448, 109.41668496481458, 140.56164682753925, 228.1916467734823, 174.12109102510547, 131.57798909116798, 219.691083503581, 201.25659625872106, 163.82592827163614, 192.43755823773407, 177.04958852732753, 198.58171836602418, 156.05810003301548, 128.18414169749076, 167.18527856520518, 123.98237833753284, 108.44064047725512, 119.26519867017227, 107.4255232209101, 317.0758054201727, 259.5120479307476, 204.10840879274048, 130.75164987281025, 126.3746813106001, 98.84611443349085, 79.7475005325481, 75.72996740420176, 45.17997180477546, 39.33805039042087, 37.04117347232539, 31.00040478832796, 30.0443198779108, 29.614206157167057, 27.430220631852947, 25.190236951717075, 70.7670446349895, 21.976194666362513, 20.776134499394633, 20.297595696680066, 19.45551742696217, 19.357228596986563, 17.64800360885334, 17.511524851467474, 17.49881883070503, 17.229911200261945, 23.51140028667068, 16.55463937168104, 16.380062814121786, 16.34337921283062, 352.328132146076, 161.12433417930487, 78.98680690422658, 40.509450798242376, 26.11994425146618, 33.186288742222025, 93.37760868317196, 122.79493303625196, 219.21451365166791, 40.84271964511436, 54.43073414938675, 42.5077184979774, 112.27403614756021, 127.82132228522705, 417.9053322062071, 50.19643108008429, 288.5954559682108, 71.96839134820127, 166.3670117127181, 72.02656384063042, 95.20961763082197, 126.12579621037477, 140.20790524028547, 137.37583457700143, 72.25971210965335, 76.64210574233607, 121.28519251061027, 114.5939698711926, 89.79482057515267, 104.34217439405697, 107.46167508159945, 93.29796855506311, 79.02786374282955, 77.86564073204345, 82.33859693444408, 57.295771403950134, 24.326064331139087, 87.89390942553192, 20.948469965925664, 16.494605925965903, 13.809442900980793, 12.712759259919755, 10.106828596669992, 9.57210604628323, 9.552509023122324, 31.352150370162644, 9.925267801187466, 8.378647153083026, 7.967021379157352, 7.857526508833075, 7.723978764406349, 636.1950747229761, 27.16342842121822, 7.557225605245218, 7.379578247673017, 7.285785933113119, 7.328884870494671, 6.924517674641468, 6.920190823704948, 6.665889157305391, 6.503753256877294, 6.416584882631216, 6.329686392838619, 6.251926615303373, 165.15924850491237, 25.595845574040418, 15.544286227847563, 16.81574398727347, 22.14273430644438, 10.363794225067565, 9.722141984906324, 111.54727111119689, 27.79716002031669, 10.6526996649945, 166.20352268786226, 17.501913933220244, 14.062972342411012, 10.140683323851604, 27.240021397084046, 28.02758105596217, 14.182807933133958, 27.77672468505018, 12.020502054941243, 20.46078120051762, 10.508790631654094, 12.849024277495566, 12.384326064876515, 10.341710264396943, 9.833300107188998, 9.30508280401954, 8.702408862939087, 8.540691649555026, 13.767706756223767, 8.436429681790907, 8.396297720958, 8.105138163699648, 7.622056013945654, 7.5983742228800955, 7.040420300431897, 6.791085887051625, 6.54917859960289, 6.337695922155721, 6.281923513859642, 5.897620418026789, 5.719701106399378, 5.715078974514939, 5.679362180460001, 5.636574611638553, 5.607857804235541, 5.5708116724109615, 5.266942526972029, 5.258770074999805, 5.262068476154245, 5.111660079076036, 5.082814199392255, 44.30101752626771, 12.16320279072634, 7.401568930150656, 52.79090251716907, 20.437287736476442, 38.656915734855026, 16.862944044717644, 25.30899729955793, 13.294665446078229, 7.176036841891208, 21.480999086433215, 14.123517955615872, 7.900709946845602, 12.761650864380352, 10.362296445901036, 7.840681341950485, 10.417260167112257, 10.411134184706844, 13.576256431366867, 7.798725838876067, 7.637407065017954, 24.49831228563395, 21.43075973694611, 17.798027046734642, 17.552339651114256, 13.557098728187688, 13.008476848119882, 11.82622188735042, 8.965875436247329, 8.736625962210269, 8.510569855996923, 8.048017718380995, 7.994846991855376, 7.328524368673543, 7.3924641646104705, 7.330438638679707, 7.10854378207691, 6.930539532387498, 6.970102087031938, 6.6523216283713404, 6.634381433156086, 6.595643662516151, 6.468983789333367, 6.40463073573321, 6.30626583067694, 5.901967167352806, 5.7537607512375635, 5.736794342816317, 5.811635964870045, 5.480443862821301, 5.433447021757089, 8.502499844475247, 8.725642380067626, 17.10850328456802, 13.27872669451378, 17.08862164985872, 7.044011009479172, 16.378933941178712, 81.61117968229816, 36.013672105146064, 28.138764662302105, 16.089341791761623, 23.923085146851463, 18.215301420384225, 11.66152924127032, 10.3720348425451, 9.237189873590669, 8.119573814735338, 8.131389656686931, 8.426826427251076, 18.058357202456612, 9.891248266896893, 9.364823542459176, 9.293311548057888, 8.280779709725149, 7.95916977000572, 7.248501442694084, 6.867984711097762, 6.663924464980521, 6.14678415687173, 5.948799339389351, 5.645873834624088, 5.64238805596647, 5.670128741211672, 5.312547020110518, 5.211745654026027, 4.779852881436603, 4.712192727959733, 4.687269359118514, 4.585215125705393, 4.552171859811132, 4.525828884412162, 4.511808989577473, 4.389853500756263, 4.165827339274984, 3.9757825964709865, 3.961124339303868, 3.891424048194783, 3.8653071008512776, 3.793583387748352, 52.130407216049264, 7.146468116519016, 59.98546936665645, 19.359363425603966, 7.6049537676741545, 6.377154351027499, 14.258403556846824, 50.58344591117443, 65.57509970695867, 13.643374156753078, 14.594459271344583, 5.50541582345839, 20.763720470830624, 13.498266907649269, 9.591355141672611, 6.214226556988897, 5.633113251620534, 7.142303320484895, 5.99758147948745, 5.6430134065010185, 5.214389096129141, 5.101954310573582, 4.957057224370002, 4.914360171975758, 4.283009627985815, 4.2384252903450355, 3.6015267550482957, 3.5830591863103227, 3.428059490511185, 3.383378695774495, 4.185658215552565, 3.6273203034644728, 3.208190208876795, 3.2037132382944162, 3.123620409322283, 2.783880596358835, 2.5695405967957266, 2.429883481931457, 2.413849285348942, 2.3828164073885856, 2.334474042720992, 2.3320170899991557, 2.3387411529507762, 2.324646951248321, 2.307328373039618, 2.2083835492030257, 2.1621082641176095, 4.862219262616062, 4.205473619891877, 8.380140903463538, 5.002329156054411, 8.156341170704618, 2.756180205917527, 5.2281174732580205, 5.115046260625321, 3.9634742964029552, 3.6638779341750487, 4.720738140162594, 4.199913769602598, 4.041825189261198, 3.7067204823429747, 3.316076958529791, 6.624155823183909, 6.364945740393324, 6.115622149061231, 5.760703684784104, 5.187994234759774, 3.693066408194619, 3.5549732612024605, 3.415636704462443, 3.186680657805501, 2.8889278261498674, 2.84370947068633, 2.7865821837403217, 2.6258709714503587, 2.623800958323435, 2.572835456386721, 2.252812090217268, 2.2522907371856764, 2.1644896832926883, 2.1538888851554208, 2.1342655821043572, 2.1193313894756356, 2.1043130617657675, 2.0622158563230966, 2.051953794313321, 2.0816296405294343, 1.950420954601693, 1.9477413274087703, 1.8834364523238392, 1.8142874245140292, 1.8142373879938547, 3.4939569201798704, 3.322890406086955, 4.588071003320674, 4.499489789695096, 2.2863937799836034, 2.1407807189943813, 15.248986788527631, 4.870831741606821, 3.2666772820171093, 3.215913783900742, 2.548503324612619, 2.4908773347185793, 2.378101778241003, 2.146138278690701, 2.1391394829536874, 1.9948300924031683, 1.946786425894718, 1.7733175373581391, 1.5866279056018184, 1.5715020583544972, 1.5211468809222914, 1.501547101837459, 1.490658623299308, 1.4877847574674459, 1.4817119363095232, 1.4771981167728343, 1.4695504046982235, 1.467026050841395, 1.4670182771095313, 1.4670034104345735, 1.4635720830158243, 1.4632929964504737, 1.4417766868629986, 1.437215489577107, 1.4098907758116737, 1.4006905364870432, 2.0896193058977706, 1.782384007280755, 1.7670299537910212], \"Total\": [689.0, 904.0, 779.0, 920.0, 621.0, 382.0, 313.0, 1506.0, 1104.0, 367.0, 860.0, 334.0, 185.0, 317.0, 185.0, 260.0, 189.0, 121.0, 199.0, 155.0, 700.0, 190.0, 204.0, 240.0, 238.0, 310.0, 90.0, 168.0, 133.0, 718.0, 700.1511484575872, 307.2546617697744, 206.7832220018156, 170.85087493543335, 168.68835195117938, 147.6001092989776, 119.46444512121072, 116.1718389762865, 106.44820330150874, 102.31942300741612, 98.14675420208086, 94.56015038543075, 92.95680949030749, 90.28240594128938, 116.92805563938023, 87.89346926554383, 91.58613379110933, 79.41206790043736, 79.40011053250203, 78.35573522863076, 77.90030932421487, 75.00604843478962, 72.76675630220588, 95.63243834603277, 69.5191379768799, 67.57173478739156, 67.1046203038658, 66.87746489629782, 77.68909817866141, 63.87190860686532, 290.49166017757915, 167.34051447142366, 260.2883357111269, 151.84888325383946, 183.21453223472946, 904.3763043296557, 353.4393820655054, 238.75890680180143, 222.12074066193244, 779.6534643053658, 1171.3088911598368, 310.0773729709276, 718.6591447743779, 934.2568296270922, 182.49693011944493, 904.426683985746, 897.7664212606279, 496.04410688143474, 497.42262709927536, 884.7294702792476, 839.8890875514672, 412.1707772834311, 610.9367854882505, 219.44458950363364, 790.1790728686034, 389.6605989939856, 830.0083933524506, 382.12165385360026, 860.211701310103, 1506.3491947920602, 433.8140948166599, 298.21127623158503, 509.6838564320117, 621.2918542212005, 549.813756110691, 920.4962075748072, 97.23743820871043, 72.84605545914427, 71.19886533096606, 67.9641718095096, 67.29323317847427, 54.36457158018699, 71.94791760679708, 49.86707159460806, 42.04292148256213, 41.14259285363389, 57.76094744670121, 34.130981866902104, 36.10719116627936, 32.5446893938299, 195.75456829169232, 32.30547682946289, 30.985331367668604, 30.337768619399117, 30.069121258199285, 29.166357876314258, 30.238592089445568, 28.523501847961448, 26.955266781472083, 25.650231461584603, 24.581810204420233, 24.006080179399365, 23.95013631907719, 23.637750263542365, 23.375971785294816, 110.878280354763, 85.08275902324903, 49.66564025822327, 143.09498305587064, 48.37028255482748, 140.84689870638516, 1104.4798242865118, 860.211701310103, 115.54648869034577, 69.30858792321908, 56.830387931938596, 109.98292237460846, 1506.3491947920602, 185.63296029878683, 75.62774067484222, 235.67375676356272, 830.0083933524506, 509.6838564320117, 149.6378301720886, 207.15642747155184, 319.88414879808494, 790.1790728686034, 549.813756110691, 326.40152767938173, 897.7664212606279, 884.7294702792476, 610.9367854882505, 904.426683985746, 839.8890875514672, 1171.3088911598368, 621.2918542212005, 383.31097453409836, 934.2568296270922, 389.6605989939856, 253.087220200575, 452.619192711845, 317.0290933076624, 317.82759568681496, 260.1391039264899, 204.73401418244828, 131.38825280320043, 126.99989700090896, 99.47214287031714, 80.37158777361695, 76.36109693697284, 45.805545732748755, 39.96204750538738, 37.66786303812119, 31.625808639097237, 30.668598319869705, 30.239727389160855, 28.05413646824446, 25.8140395508385, 72.62258938714011, 22.599989162734083, 21.403808479515938, 20.921725445545007, 20.07937773330732, 19.98563136511928, 18.271857387050485, 18.135481120124336, 18.122689862757053, 17.85384988849607, 24.384614402341604, 17.182760545135707, 17.004160767481174, 16.96783213648485, 367.1843758081241, 168.11387367638636, 83.0424819112877, 42.760912693328436, 27.791169649609383, 36.022287357546496, 120.52432496476622, 169.59734415021924, 334.14050254728903, 48.266410648557866, 68.57001910097175, 50.763818225080705, 204.09387128480648, 255.35176815367504, 1506.3491947920602, 70.62567223868628, 1104.4798242865118, 127.07745027391525, 549.813756110691, 137.17328180189756, 235.67375676356272, 452.619192711845, 621.2918542212005, 790.1790728686034, 172.55484110282723, 227.62360054077072, 839.8890875514672, 884.7294702792476, 433.8140948166599, 934.2568296270922, 1171.3088911598368, 904.426683985746, 718.6591447743779, 830.0083933524506, 82.99659424129463, 58.33872806121776, 24.963617631960947, 90.7401722990201, 21.646673771635903, 17.136719533443046, 14.486002911459094, 13.422054941781232, 10.744620180109408, 10.209809956568638, 10.191906289537908, 33.45350732171559, 10.591417192396936, 9.032466325199643, 8.60471811787092, 8.495117711418734, 8.363216493700264, 689.7053669972482, 29.467514091529576, 8.20220982740538, 8.018167191735653, 7.923379929309216, 7.973588098181333, 7.563242451558347, 7.563541804053544, 7.316040097381331, 7.1418099512016004, 7.0543289331200265, 6.9679842259258375, 6.890020689092916, 185.8187733266509, 29.95627205123107, 18.59680320728388, 21.27900790621052, 30.559568985231408, 12.422252388599643, 11.608468714560175, 313.8587843045224, 51.740309356685934, 13.546292306702584, 779.6534643053658, 28.823079566102294, 23.50183813650733, 13.603042450399819, 102.85035801342259, 146.98578415940733, 31.48925054066423, 269.22854892938886, 20.572036380273286, 238.75890680180143, 138.82381924254886, 13.492704998704617, 13.028116918183509, 10.985209048561634, 10.477015749851493, 9.94848966670795, 9.345810995212217, 9.184810575028857, 14.815524055291366, 9.080021467229209, 9.039931669908405, 8.787287170390572, 8.265468982056014, 8.242029467642945, 7.683822343692232, 7.43608389464231, 7.192582514264582, 6.982959100073441, 6.925419813018121, 6.5413647403466335, 6.363257363276739, 6.358841439950394, 6.326443132023199, 6.279985927500631, 6.251949080447937, 6.214168633530191, 5.910325532009944, 5.9023908787554635, 5.906113769820059, 5.755040610629996, 5.726209380468242, 57.25388212118791, 15.125281535905724, 9.07934829806681, 185.63296029878683, 46.22011616370924, 155.66515505557712, 51.55130653263075, 133.37728780163317, 36.688596827868906, 11.751174707256524, 240.5634303420183, 86.6589605512001, 16.484404202241194, 98.38128479580493, 48.34609386050395, 16.24351531699304, 61.9951458594384, 74.36114716291377, 718.6591447743779, 452.619192711845, 15.072049602247091, 25.148147630103526, 22.08331285777453, 18.501938154141595, 18.328992479891976, 14.208992851028999, 13.658068441263698, 12.478031363398403, 9.61949124497347, 9.38660840765814, 9.160132842062394, 8.697500508187396, 8.644492311083045, 7.978042074968569, 8.047727200281578, 7.980312168795011, 7.758477281919761, 7.580878077586568, 7.64863036169821, 7.301879401886397, 7.284445037033668, 7.245216189292159, 7.118720247608609, 7.054784445242399, 6.957182167040476, 6.551713516170919, 6.409537649281544, 6.391449978906678, 6.496849924932671, 6.130374574402207, 6.083493932312727, 10.112972300624262, 10.700266069552008, 25.51977330226022, 18.57032734552672, 33.54715966073183, 8.723540016254463, 35.058160278088444, 621.2918542212005, 334.14050254728903, 199.36321856178557, 67.96505210020221, 190.55512654509704, 97.23626942188871, 56.46896497079539, 40.78603772061809, 26.287517828772213, 20.899439095063784, 24.420949552863636, 200.31862402279347, 18.70805679770083, 10.540690132997188, 10.013248896314817, 9.953417122897035, 8.93193913859942, 8.607653536829414, 7.918861542674872, 7.516965753375064, 7.314574943074205, 6.795530915669633, 6.597443783478725, 6.294373782758861, 6.298882447276649, 6.334645089334709, 5.961132467878431, 5.860623895384833, 5.428277695595493, 5.36088567831549, 5.336056253558443, 5.2346062440780985, 5.2006848227719775, 5.174382549115905, 5.160305913594845, 5.038677081860659, 4.814266625266623, 4.624697492009286, 4.609972602025498, 4.540296781146102, 4.513756938613163, 4.442169529095996, 64.22174793683546, 9.079628702663546, 121.16846805631565, 40.907541528905824, 11.993913475689865, 9.286017576073535, 39.62865565040568, 382.12165385360026, 904.3763043296557, 43.67992300465368, 57.96049639146715, 7.76504196929883, 189.16240170458136, 127.07745027391525, 172.55484110282723, 23.148838869732554, 904.426683985746, 7.823038688141132, 6.660863646536118, 6.309755616804626, 5.877741028849941, 5.774811475405581, 5.620634489374681, 5.577706794298402, 4.946410615902432, 4.901686041603084, 4.2655247998863635, 4.246409430692014, 4.091323538534937, 4.046601971305303, 5.028124673866842, 4.374580620608925, 3.871714679438714, 3.867210086263377, 3.7958646419598114, 3.447918776220574, 3.2334733804478764, 3.0931149760807672, 3.0771999721952654, 3.0462401291201284, 2.998396593155266, 2.9955004123959803, 3.0059176166085106, 2.9894079598149834, 2.970716879720352, 2.872094335601177, 2.8257701878757517, 7.338194694868658, 6.358686896386455, 15.093048266608026, 8.089248136635325, 44.28958658291576, 4.381122983971616, 20.568439425706057, 31.070791861450534, 15.025503285006694, 13.93491104029565, 44.19270043269262, 32.133094538848226, 44.713419567104665, 310.0773729709276, 20.190903918433357, 7.290026105745913, 7.030767082055933, 6.781448906807072, 6.426581794427939, 5.860500596559979, 4.35881979363645, 4.222466909919723, 4.0814955826529715, 3.854045694735803, 3.5549906107003033, 3.5095964200656415, 3.4523564071432555, 3.2918892734589833, 3.2897113785278607, 3.238895968542763, 2.9186428169047867, 2.9183771492358974, 2.8303426961352947, 2.8196868646124753, 2.8003336374103007, 2.7852459340555082, 2.770145835601963, 2.727964264877146, 2.717901841407315, 2.762654587719582, 2.616452065198267, 2.6134943689572503, 2.5524945350682957, 2.4803374351684084, 2.4803737272346678, 12.811773040690417, 17.220439307828425, 367.1843758081241, 621.2918542212005, 182.49693011944493, 168.6101421709905, 15.918497632257399, 5.5429210969351885, 3.936207651617753, 3.8854631277065947, 3.218277500868907, 3.16058277422279, 3.049447308920562, 2.815621610883927, 2.8087292430532553, 2.6643066777122355, 2.616309735166578, 2.443220684341831, 2.256193690980724, 2.2409299779670913, 2.190688904818658, 2.1710177215991866, 2.1601585730517483, 2.1572857735776005, 2.1511336446184237, 2.1469884126785175, 2.1389657263819633, 2.1365526570959608, 2.1365633521846497, 2.1365699463744536, 2.1330253388623985, 2.133239938315172, 2.1117196295627885, 2.107326036961141, 2.0797028329513614, 2.0705726633029666, 12.990057164568649, 29.06638373359079, 41.51271145370464], \"Category\": [\"Default\", \"Default\", \"Default\", \"Default\", \"Default\", \"Default\", \"Default\", \"Default\", \"Default\", \"Default\", \"Default\", \"Default\", \"Default\", \"Default\", \"Default\", \"Default\", \"Default\", \"Default\", \"Default\", \"Default\", \"Default\", \"Default\", \"Default\", \"Default\", \"Default\", \"Default\", \"Default\", \"Default\", \"Default\", \"Default\", \"Topic1\", \"Topic1\", \"Topic1\", \"Topic1\", \"Topic1\", \"Topic1\", \"Topic1\", \"Topic1\", \"Topic1\", \"Topic1\", \"Topic1\", \"Topic1\", \"Topic1\", \"Topic1\", \"Topic1\", \"Topic1\", \"Topic1\", \"Topic1\", \"Topic1\", \"Topic1\", \"Topic1\", \"Topic1\", \"Topic1\", \"Topic1\", \"Topic1\", \"Topic1\", \"Topic1\", \"Topic1\", \"Topic1\", \"Topic1\", \"Topic1\", \"Topic1\", \"Topic1\", \"Topic1\", \"Topic1\", \"Topic1\", \"Topic1\", \"Topic1\", \"Topic1\", \"Topic1\", \"Topic1\", \"Topic1\", \"Topic1\", \"Topic1\", \"Topic1\", \"Topic1\", \"Topic1\", \"Topic1\", \"Topic1\", \"Topic1\", \"Topic1\", \"Topic1\", \"Topic1\", \"Topic1\", \"Topic1\", \"Topic1\", \"Topic1\", \"Topic1\", \"Topic1\", \"Topic1\", \"Topic1\", \"Topic1\", \"Topic1\", \"Topic1\", \"Topic1\", \"Topic2\", \"Topic2\", \"Topic2\", \"Topic2\", \"Topic2\", \"Topic2\", \"Topic2\", \"Topic2\", \"Topic2\", \"Topic2\", \"Topic2\", \"Topic2\", \"Topic2\", \"Topic2\", \"Topic2\", \"Topic2\", \"Topic2\", \"Topic2\", \"Topic2\", \"Topic2\", \"Topic2\", \"Topic2\", \"Topic2\", \"Topic2\", \"Topic2\", \"Topic2\", \"Topic2\", \"Topic2\", \"Topic2\", \"Topic2\", \"Topic2\", \"Topic2\", \"Topic2\", \"Topic2\", \"Topic2\", \"Topic2\", \"Topic2\", \"Topic2\", \"Topic2\", \"Topic2\", \"Topic2\", \"Topic2\", \"Topic2\", \"Topic2\", \"Topic2\", \"Topic2\", \"Topic2\", \"Topic2\", \"Topic2\", \"Topic2\", \"Topic2\", \"Topic2\", \"Topic2\", \"Topic2\", \"Topic2\", \"Topic2\", \"Topic2\", \"Topic2\", \"Topic2\", \"Topic2\", \"Topic2\", \"Topic2\", \"Topic2\", \"Topic2\", \"Topic2\", \"Topic2\", \"Topic2\", \"Topic3\", \"Topic3\", \"Topic3\", \"Topic3\", \"Topic3\", \"Topic3\", \"Topic3\", \"Topic3\", \"Topic3\", \"Topic3\", \"Topic3\", \"Topic3\", \"Topic3\", \"Topic3\", \"Topic3\", \"Topic3\", \"Topic3\", \"Topic3\", \"Topic3\", \"Topic3\", \"Topic3\", \"Topic3\", \"Topic3\", \"Topic3\", \"Topic3\", \"Topic3\", \"Topic3\", \"Topic3\", \"Topic3\", \"Topic3\", \"Topic3\", \"Topic3\", \"Topic3\", \"Topic3\", \"Topic3\", \"Topic3\", \"Topic3\", \"Topic3\", \"Topic3\", \"Topic3\", \"Topic3\", \"Topic3\", \"Topic3\", \"Topic3\", \"Topic3\", \"Topic3\", \"Topic3\", \"Topic3\", \"Topic3\", \"Topic3\", \"Topic3\", \"Topic3\", \"Topic3\", \"Topic3\", \"Topic3\", \"Topic3\", \"Topic3\", \"Topic3\", \"Topic3\", \"Topic3\", \"Topic3\", \"Topic3\", \"Topic3\", \"Topic3\", \"Topic4\", \"Topic4\", \"Topic4\", \"Topic4\", \"Topic4\", \"Topic4\", \"Topic4\", \"Topic4\", \"Topic4\", \"Topic4\", \"Topic4\", \"Topic4\", \"Topic4\", \"Topic4\", \"Topic4\", \"Topic4\", \"Topic4\", \"Topic4\", \"Topic4\", \"Topic4\", \"Topic4\", \"Topic4\", \"Topic4\", \"Topic4\", \"Topic4\", \"Topic4\", \"Topic4\", \"Topic4\", \"Topic4\", \"Topic4\", \"Topic4\", \"Topic4\", \"Topic4\", \"Topic4\", \"Topic4\", \"Topic4\", \"Topic4\", \"Topic4\", \"Topic4\", \"Topic4\", \"Topic4\", \"Topic4\", \"Topic4\", \"Topic4\", \"Topic4\", \"Topic4\", \"Topic4\", \"Topic4\", \"Topic4\", \"Topic4\", \"Topic4\", \"Topic5\", \"Topic5\", \"Topic5\", \"Topic5\", \"Topic5\", \"Topic5\", \"Topic5\", \"Topic5\", \"Topic5\", \"Topic5\", \"Topic5\", \"Topic5\", \"Topic5\", \"Topic5\", \"Topic5\", \"Topic5\", \"Topic5\", \"Topic5\", \"Topic5\", \"Topic5\", \"Topic5\", \"Topic5\", \"Topic5\", \"Topic5\", \"Topic5\", \"Topic5\", \"Topic5\", \"Topic5\", \"Topic5\", \"Topic5\", \"Topic5\", \"Topic5\", \"Topic5\", \"Topic5\", \"Topic5\", \"Topic5\", \"Topic5\", \"Topic5\", \"Topic5\", \"Topic5\", \"Topic5\", \"Topic5\", \"Topic5\", \"Topic5\", \"Topic5\", \"Topic5\", \"Topic5\", \"Topic5\", \"Topic5\", \"Topic5\", \"Topic5\", \"Topic6\", \"Topic6\", \"Topic6\", \"Topic6\", \"Topic6\", \"Topic6\", \"Topic6\", \"Topic6\", \"Topic6\", \"Topic6\", \"Topic6\", \"Topic6\", \"Topic6\", \"Topic6\", \"Topic6\", \"Topic6\", \"Topic6\", \"Topic6\", \"Topic6\", \"Topic6\", \"Topic6\", \"Topic6\", \"Topic6\", \"Topic6\", \"Topic6\", \"Topic6\", \"Topic6\", \"Topic6\", \"Topic6\", \"Topic6\", \"Topic6\", \"Topic6\", \"Topic6\", \"Topic6\", \"Topic6\", \"Topic6\", \"Topic6\", \"Topic6\", \"Topic6\", \"Topic6\", \"Topic6\", \"Topic6\", \"Topic6\", \"Topic6\", \"Topic6\", \"Topic6\", \"Topic6\", \"Topic6\", \"Topic6\", \"Topic7\", \"Topic7\", \"Topic7\", \"Topic7\", \"Topic7\", \"Topic7\", \"Topic7\", \"Topic7\", \"Topic7\", \"Topic7\", \"Topic7\", \"Topic7\", \"Topic7\", \"Topic7\", \"Topic7\", \"Topic7\", \"Topic7\", \"Topic7\", \"Topic7\", \"Topic7\", \"Topic7\", \"Topic7\", \"Topic7\", \"Topic7\", \"Topic7\", \"Topic7\", \"Topic7\", \"Topic7\", \"Topic7\", \"Topic7\", \"Topic7\", \"Topic7\", \"Topic7\", \"Topic7\", \"Topic7\", \"Topic7\", \"Topic7\", \"Topic7\", \"Topic7\", \"Topic7\", \"Topic7\", \"Topic7\", \"Topic7\", \"Topic7\", \"Topic7\", \"Topic7\", \"Topic7\", \"Topic8\", \"Topic8\", \"Topic8\", \"Topic8\", \"Topic8\", \"Topic8\", \"Topic8\", \"Topic8\", \"Topic8\", \"Topic8\", \"Topic8\", \"Topic8\", \"Topic8\", \"Topic8\", \"Topic8\", \"Topic8\", \"Topic8\", \"Topic8\", \"Topic8\", \"Topic8\", \"Topic8\", \"Topic8\", \"Topic8\", \"Topic8\", \"Topic8\", \"Topic8\", \"Topic8\", \"Topic8\", \"Topic8\", \"Topic8\", \"Topic8\", \"Topic8\", \"Topic8\", \"Topic8\", \"Topic8\", \"Topic8\", \"Topic8\", \"Topic8\", \"Topic8\", \"Topic8\", \"Topic8\", \"Topic8\", \"Topic8\", \"Topic8\", \"Topic8\", \"Topic9\", \"Topic9\", \"Topic9\", \"Topic9\", \"Topic9\", \"Topic9\", \"Topic9\", \"Topic9\", \"Topic9\", \"Topic9\", \"Topic9\", \"Topic9\", \"Topic9\", \"Topic9\", \"Topic9\", \"Topic9\", \"Topic9\", \"Topic9\", \"Topic9\", \"Topic9\", \"Topic9\", \"Topic9\", \"Topic9\", \"Topic9\", \"Topic9\", \"Topic9\", \"Topic9\", \"Topic9\", \"Topic9\", \"Topic9\", \"Topic9\", \"Topic9\", \"Topic9\", \"Topic9\", \"Topic9\", \"Topic9\", \"Topic10\", \"Topic10\", \"Topic10\", \"Topic10\", \"Topic10\", \"Topic10\", \"Topic10\", \"Topic10\", \"Topic10\", \"Topic10\", \"Topic10\", \"Topic10\", \"Topic10\", \"Topic10\", \"Topic10\", \"Topic10\", \"Topic10\", \"Topic10\", \"Topic10\", \"Topic10\", \"Topic10\", \"Topic10\", \"Topic10\", \"Topic10\", \"Topic10\", \"Topic10\", \"Topic10\", \"Topic10\", \"Topic10\", \"Topic10\", \"Topic10\", \"Topic10\", \"Topic10\"], \"logprob\": [30.0, 29.0, 28.0, 27.0, 26.0, 25.0, 24.0, 23.0, 22.0, 21.0, 20.0, 19.0, 18.0, 17.0, 16.0, 15.0, 14.0, 13.0, 12.0, 11.0, 10.0, 9.0, 8.0, 7.0, 6.0, 5.0, 4.0, 3.0, 2.0, 1.0, -4.593, -5.4174, -5.8137, -6.0052, -6.018, -6.152, -6.3645, -6.3926, -6.4805, -6.5205, -6.5622, -6.5997, -6.6169, -6.6463, -6.3878, -6.6733, -6.6322, -6.7755, -6.7757, -6.7891, -6.795, -6.8331, -6.8636, -6.5904, -6.9097, -6.9384, -6.9454, -6.9488, -6.7991, -6.9952, -5.4854, -6.033, -5.5983, -6.1343, -5.9579, -4.4111, -5.3727, -5.759, -5.8437, -4.7241, -4.3866, -5.5793, -4.8615, -4.6474, -6.05, -4.7272, -4.7451, -5.2352, -5.2419, -4.8004, -4.8539, -5.4336, -5.1804, -5.9351, -5.1098, -5.5631, -5.0907, -5.6041, -5.3285, -5.0921, -5.652, -5.8059, -5.7037, -5.6676, -5.801, -3.4947, -5.7479, -6.0389, -6.062, -6.1089, -6.1189, -6.3345, -6.0576, -6.4242, -6.5949, -6.6169, -6.2793, -6.8069, -6.7509, -6.8554, -5.0612, -6.8629, -6.9055, -6.927, -6.9361, -6.9672, -6.9313, -6.99, -7.0479, -7.0987, -7.1424, -7.1667, -7.1691, -7.1826, -7.194, -5.645, -5.9072, -6.4404, -5.4097, -6.4917, -5.4768, -3.8217, -4.0557, -5.7862, -6.2269, -6.4006, -5.8903, -3.8234, -5.4946, -6.2193, -5.3777, -4.5294, -4.9976, -5.8055, -5.6235, -5.373, -4.8884, -5.1589, -5.439, -4.9264, -5.0141, -5.2198, -5.0589, -5.1422, -5.0274, -5.2684, -5.4652, -5.1995, -5.4985, -5.6324, -5.5373, -5.6418, -4.1415, -4.3419, -4.582, -5.0274, -5.0614, -5.3071, -5.5218, -5.5735, -6.09, -6.2285, -6.2886, -6.4667, -6.498, -6.5124, -6.589, -6.6742, -5.6413, -6.8107, -6.8669, -6.8902, -6.9325, -6.9376, -7.0301, -7.0378, -7.0385, -7.054, -6.7432, -7.094, -7.1046, -7.1069, -4.0361, -4.8185, -5.5314, -6.1991, -6.638, -6.3985, -5.364, -5.0902, -4.5106, -6.1909, -5.9037, -6.151, -5.1797, -5.05, -3.8654, -5.9847, -4.2356, -5.6244, -4.7865, -5.6236, -5.3446, -5.0634, -4.9575, -4.978, -5.6204, -5.5615, -5.1025, -5.1593, -5.4031, -5.253, -5.2235, -5.3649, -5.5309, -5.5457, -4.0558, -4.4184, -5.2751, -3.9905, -5.4245, -5.6636, -5.8413, -5.924, -6.1534, -6.2078, -6.2098, -5.0213, -6.1715, -6.3409, -6.3913, -6.4051, -6.4223, -2.0111, -5.1647, -6.4441, -6.4679, -6.4807, -6.4748, -6.5315, -6.5322, -6.5696, -6.5942, -6.6077, -6.6214, -6.6337, -3.3597, -5.2242, -5.7229, -5.6443, -5.3691, -6.1283, -6.1922, -3.7522, -5.1417, -6.1008, -3.3534, -5.6043, -5.8231, -6.1501, -5.1619, -5.1334, -5.8146, -5.1424, -5.98, -5.4481, -6.1144, -5.5328, -5.5696, -5.7499, -5.8003, -5.8555, -5.9224, -5.9412, -5.4637, -5.9535, -5.9583, -5.9935, -6.055, -6.0581, -6.1344, -6.1704, -6.2067, -6.2395, -6.2484, -6.3115, -6.3421, -6.3429, -6.3492, -6.3568, -6.3619, -6.3685, -6.4246, -6.4261, -6.4255, -6.4545, -6.4602, -4.295, -5.5876, -6.0843, -4.1197, -5.0687, -4.4313, -5.2609, -4.8549, -5.4987, -6.1153, -5.0189, -5.4382, -6.0191, -5.5396, -5.7479, -6.0267, -5.7426, -5.7432, -5.4777, -6.0321, -6.053, -4.8243, -4.9581, -5.1438, -5.1577, -5.416, -5.4573, -5.5526, -5.8295, -5.8554, -5.8816, -5.9375, -5.9441, -6.0312, -6.0225, -6.0309, -6.0616, -6.087, -6.0813, -6.128, -6.1307, -6.1365, -6.1559, -6.1659, -6.1814, -6.2476, -6.2731, -6.276, -6.2631, -6.3217, -6.3304, -5.8826, -5.8567, -5.1834, -5.4368, -5.1845, -6.0708, -5.2269, -3.621, -4.439, -4.6858, -5.2448, -4.8481, -5.1207, -5.5666, -5.6838, -5.7997, -5.9287, -5.9272, -5.8915, -4.9546, -5.5565, -5.6112, -5.6189, -5.7342, -5.7739, -5.8674, -5.9213, -5.9515, -6.0322, -6.065, -6.1173, -6.1179, -6.113, -6.1781, -6.1973, -6.2838, -6.298, -6.3033, -6.3253, -6.3326, -6.3384, -6.3415, -6.3689, -6.4213, -6.468, -6.4717, -6.4894, -6.4961, -6.5149, -3.8944, -5.8816, -3.7541, -4.885, -5.8194, -5.9955, -5.1908, -3.9246, -3.665, -5.2349, -5.1675, -6.1424, -4.815, -5.2456, -5.5873, -6.0213, -6.1195, -5.2859, -5.4606, -5.5216, -5.6006, -5.6224, -5.6512, -5.6598, -5.7973, -5.8078, -5.9706, -5.9758, -6.02, -6.0331, -5.8203, -5.9635, -6.0863, -6.0877, -6.113, -6.2281, -6.3083, -6.3641, -6.3708, -6.3837, -6.4042, -6.4053, -6.4024, -6.4084, -6.4159, -6.4597, -6.4809, -5.6705, -5.8156, -5.1261, -5.6421, -5.1532, -6.2381, -5.5979, -5.6198, -5.8749, -5.9535, -5.7, -5.8169, -5.8553, -5.9418, -6.0532, -5.2461, -5.286, -5.3259, -5.3857, -5.4904, -5.8303, -5.8684, -5.9084, -5.9778, -6.0759, -6.0917, -6.112, -6.1714, -6.1722, -6.1918, -6.3246, -6.3248, -6.3646, -6.3695, -6.3787, -6.3857, -6.3928, -6.413, -6.418, -6.4036, -6.4687, -6.4701, -6.5037, -6.5411, -6.5411, -5.8857, -5.9359, -5.6133, -5.6328, -6.3098, -6.3756, -4.2625, -5.4038, -5.8033, -5.8189, -6.0516, -6.0744, -6.1208, -6.2234, -6.2267, -6.2965, -6.3209, -6.4142, -6.5254, -6.535, -6.5676, -6.5806, -6.5878, -6.5898, -6.5939, -6.5969, -6.6021, -6.6038, -6.6038, -6.6038, -6.6062, -6.6064, -6.6212, -6.6244, -6.6435, -6.6501, -6.2501, -6.4091, -6.4178], \"loglift\": [30.0, 29.0, 28.0, 27.0, 26.0, 25.0, 24.0, 23.0, 22.0, 21.0, 20.0, 19.0, 18.0, 17.0, 16.0, 15.0, 14.0, 13.0, 12.0, 11.0, 10.0, 9.0, 8.0, 7.0, 6.0, 5.0, 4.0, 3.0, 2.0, 1.0, 0.6808, 0.68, 0.6797, 0.6791, 0.679, 0.6785, 0.6775, 0.6773, 0.6769, 0.6765, 0.6764, 0.6761, 0.676, 0.6758, 0.6757, 0.6756, 0.6756, 0.6749, 0.6749, 0.6747, 0.6747, 0.6744, 0.6742, 0.6741, 0.6738, 0.6735, 0.6734, 0.6734, 0.6732, 0.6729, 0.6681, 0.6721, 0.665, 0.6679, 0.6565, 0.6067, 0.5847, 0.5906, 0.5782, 0.4421, 0.3726, 0.5089, 0.3862, 0.3379, 0.5683, 0.2906, 0.2801, 0.3832, 0.3737, 0.2394, 0.2379, 0.37, 0.2297, 0.4989, 0.043, 0.2967, 0.0129, 0.2752, -0.2606, -0.5845, 0.1004, 0.3213, -0.1124, -0.2743, -0.2856, 1.5054, 1.5, 1.4978, 1.4976, 1.4972, 1.4971, 1.4948, 1.4915, 1.4915, 1.4915, 1.4911, 1.4894, 1.488, 1.4877, 1.4871, 1.487, 1.4869, 1.4861, 1.4856, 1.4854, 1.4848, 1.4847, 1.4843, 1.483, 1.4818, 1.4807, 1.4801, 1.48, 1.4796, 1.4794, 1.4716, 1.4742, 1.4793, 1.4519, 1.4545, 1.4006, 0.9962, 1.0122, 1.2892, 1.3596, 1.3844, 1.2344, 0.6842, 1.1067, 1.2799, 0.9849, 0.5742, 0.5937, 1.0113, 0.8681, 0.6841, 0.2643, 0.3566, 0.5979, 0.0987, 0.0257, 0.1902, -0.0411, -0.0504, -0.2683, 0.1248, 0.411, -0.2142, 0.3613, 0.6589, 0.1727, 0.4242, 1.922, 1.922, 1.9213, 1.9195, 1.9194, 1.9181, 1.9166, 1.9161, 1.9106, 1.9086, 1.9076, 1.9044, 1.9038, 1.9035, 1.9019, 1.8999, 1.8985, 1.8964, 1.8946, 1.8941, 1.8928, 1.8924, 1.8896, 1.8894, 1.8893, 1.8888, 1.8879, 1.8871, 1.887, 1.8869, 1.8831, 1.8819, 1.8743, 1.8703, 1.8624, 1.8424, 1.6692, 1.6015, 1.5029, 1.7574, 1.6934, 1.7469, 1.3267, 1.2324, 0.6422, 1.5829, 0.5823, 1.3558, 0.729, 1.2802, 1.018, 0.6466, 0.4357, 0.1748, 1.0539, 0.8358, -0.0108, -0.1195, 0.3493, -0.2677, -0.4644, -0.3471, -0.2832, -0.4421, 3.3505, 3.3404, 3.3326, 3.3266, 3.3256, 3.3202, 3.3106, 3.3041, 3.2972, 3.2939, 3.2936, 3.2936, 3.2935, 3.2833, 3.2814, 3.2804, 3.2789, 3.2777, 3.277, 3.2765, 3.2754, 3.2745, 3.2741, 3.2702, 3.2695, 3.2654, 3.2648, 3.2637, 3.2624, 3.2612, 3.2406, 3.2011, 3.1791, 3.123, 3.0363, 3.1773, 3.1811, 2.3239, 2.7371, 3.1181, 1.8128, 2.8596, 2.8449, 3.0647, 2.0298, 1.7013, 2.5608, 1.0871, 2.8211, 0.9015, 0.7774, 3.6901, 3.6883, 3.6786, 3.6756, 3.6721, 3.6677, 3.6663, 3.6657, 3.6655, 3.6651, 3.6582, 3.658, 3.6577, 3.6516, 3.6483, 3.6453, 3.642, 3.6415, 3.6354, 3.6324, 3.6323, 3.6311, 3.6309, 3.6303, 3.6297, 3.6238, 3.6235, 3.6235, 3.6205, 3.6198, 3.4825, 3.5211, 3.5347, 2.4816, 2.923, 2.346, 2.6215, 2.077, 2.7239, 3.2458, 1.3232, 1.9249, 3.0035, 1.6966, 2.1988, 3.0106, 1.9554, 1.7729, -0.2301, -0.3221, 3.0592, 3.7759, 3.7721, 3.7633, 3.7588, 3.7552, 3.7534, 3.7485, 3.7318, 3.7304, 3.7286, 3.7245, 3.724, 3.7172, 3.7172, 3.7172, 3.7146, 3.7124, 3.7092, 3.709, 3.7086, 3.7082, 3.7064, 3.7054, 3.7039, 3.6977, 3.6942, 3.6941, 3.6907, 3.69, 3.6891, 3.6287, 3.5981, 3.4022, 3.4667, 3.1276, 3.5883, 3.0411, 1.7723, 1.5745, 1.8441, 2.3613, 1.727, 2.1272, 2.2247, 2.4329, 2.7563, 2.8567, 2.7024, 0.6336, 3.9415, 3.9133, 3.9099, 3.9082, 3.9012, 3.8985, 3.8884, 3.8866, 3.8837, 3.8765, 3.8734, 3.8681, 3.8668, 3.866, 3.8617, 3.8595, 3.8497, 3.8479, 3.8472, 3.8444, 3.8437, 3.8429, 3.8426, 3.839, 3.8322, 3.8257, 3.8252, 3.8227, 3.8218, 3.819, 3.7683, 3.7375, 3.2738, 3.2287, 3.5213, 3.6011, 2.9547, 1.9548, 1.3528, 2.8132, 2.5977, 3.633, 1.7675, 1.7346, 1.087, 2.6618, -1.1018, 4.482, 4.4682, 4.4614, 4.4533, 4.4492, 4.4474, 4.4464, 4.4291, 4.4277, 4.4039, 4.4032, 4.3962, 4.3941, 4.3897, 4.3857, 4.3851, 4.3848, 4.3781, 4.3591, 4.3432, 4.3317, 4.3303, 4.3274, 4.3228, 4.3227, 4.3221, 4.3216, 4.3203, 4.3103, 4.3054, 4.1615, 4.1596, 3.9847, 4.0924, 2.8811, 4.1096, 3.2034, 2.769, 3.2404, 3.2372, 2.3365, 2.5382, 2.1695, 0.1464, 2.7666, 4.5925, 4.5888, 4.5849, 4.5789, 4.5664, 4.5225, 4.5162, 4.5102, 4.4981, 4.4808, 4.4779, 4.474, 4.4622, 4.4621, 4.458, 4.4293, 4.4292, 4.4201, 4.4189, 4.4166, 4.415, 4.4134, 4.4085, 4.4072, 4.4052, 4.3945, 4.3942, 4.3843, 4.3756, 4.3755, 3.3889, 3.043, 0.3059, -0.2396, 0.3085, 0.3218, 4.795, 4.7087, 4.6515, 4.6489, 4.6046, 4.5999, 4.5893, 4.5665, 4.5657, 4.5486, 4.5424, 4.5175, 4.4859, 4.4831, 4.4732, 4.4693, 4.467, 4.4664, 4.4652, 4.4641, 4.4626, 4.462, 4.462, 4.462, 4.4613, 4.461, 4.4564, 4.4553, 4.4493, 4.4471, 3.0108, 2.0464, 1.6813]}, \"token.table\": {\"Topic\": [1, 2, 6, 9, 1, 1, 2, 3, 5, 4, 4, 8, 1, 2, 7, 1, 2, 5, 7, 8, 1, 9, 1, 6, 1, 2, 7, 7, 7, 1, 2, 3, 8, 9, 2, 8, 1, 2, 9, 2, 5, 2, 5, 9, 1, 1, 4, 5, 1, 3, 8, 4, 3, 6, 6, 5, 5, 10, 3, 2, 4, 4, 2, 3, 1, 2, 1, 2, 3, 6, 6, 3, 7, 1, 2, 1, 2, 3, 6, 7, 6, 7, 1, 1, 4, 4, 1, 2, 10, 8, 1, 2, 3, 6, 9, 9, 6, 3, 2, 6, 5, 1, 2, 4, 6, 1, 5, 1, 1, 8, 1, 4, 1, 2, 3, 6, 4, 1, 4, 2, 3, 8, 1, 2, 3, 1, 2, 3, 10, 2, 1, 2, 3, 6, 3, 8, 2, 3, 9, 9, 2, 6, 5, 3, 6, 6, 3, 10, 2, 2, 2, 1, 2, 8, 1, 8, 1, 5, 9, 1, 3, 1, 2, 7, 7, 1, 2, 3, 5, 7, 7, 8, 3, 5, 5, 1, 2, 3, 6, 6, 6, 10, 1, 2, 9, 8, 1, 6, 9, 10, 10, 10, 5, 2, 2, 3, 2, 3, 2, 1, 1, 2, 6, 2, 4, 1, 2, 3, 1, 5, 1, 2, 1, 2, 6, 1, 5, 8, 4, 1, 2, 3, 7, 10, 1, 2, 3, 6, 3, 4, 1, 1, 2, 3, 4, 1, 2, 5, 1, 2, 3, 9, 9, 4, 1, 2, 7, 8, 1, 2, 2, 1, 1, 3, 1, 2, 5, 1, 7, 8, 3, 6, 9, 2, 3, 7, 7, 1, 4, 6, 1, 4, 4, 4, 4, 4, 4, 4, 1, 4, 4, 2, 2, 8, 1, 5, 7, 8, 7, 1, 2, 3, 4, 8, 4, 5, 1, 2, 3, 6, 7, 5, 5, 1, 2, 9, 9, 1, 7, 2, 8, 1, 2, 2, 2, 2, 9, 2, 10, 8, 2, 2, 1, 6, 3, 5, 8, 2, 1, 2, 5, 5, 1, 2, 3, 7, 5, 9, 1, 4, 2, 3, 9, 1, 2, 3, 6, 8, 1, 2, 6, 1, 2, 6, 1, 7, 1, 2, 3, 2, 8, 1, 2, 3, 7, 1, 3, 8, 1, 5, 3, 3, 1, 2, 3, 6, 9, 9, 7, 1, 2, 3, 2, 1, 2, 3, 7, 1, 2, 3, 4, 1, 4, 3, 5, 8, 1, 2, 3, 5, 7, 8, 7, 8, 1, 7, 6, 5, 6, 1, 2, 3, 6, 6, 2, 10, 3, 2, 9, 5, 8, 8, 1, 10, 10, 1, 7, 3, 5, 1, 2, 5, 7, 7, 1, 10, 1, 4, 1, 7, 7, 1, 2, 3, 6, 1, 2, 4, 1, 2, 3, 6, 1, 3, 1, 9, 10, 3, 1, 3, 3, 1, 2, 5, 6, 6, 1, 2, 3, 5, 5, 1, 6, 7, 1, 2, 6, 9, 9, 1, 2, 3, 4, 9, 4, 3, 9, 10, 5, 10, 7, 1, 8, 6, 1, 1, 4, 1, 4, 8, 7, 1, 4, 1, 4, 5, 8, 1, 2, 6, 6, 1, 4, 7, 7, 9, 8, 1, 2, 3, 2, 3, 10, 5, 2, 1, 1, 2, 8, 10, 1, 1, 4, 1, 4, 8, 6, 1, 8, 1, 2, 3, 4, 7, 1, 2, 3, 5, 6, 8, 8, 1, 2, 3, 6, 10, 10, 8, 9, 1, 2, 5, 3, 1, 2, 4, 1, 2, 6, 9, 1, 4, 10, 8, 3, 1, 2, 3, 9, 2, 3, 3, 10, 10, 2, 3, 1, 4, 5, 8, 3, 1, 4, 1, 8, 1, 2, 4, 2, 3, 1, 2, 1, 2, 3, 5, 7, 6, 8, 1, 2, 3, 6, 3, 1, 6, 2, 3, 9, 3, 3, 6, 8, 5, 3, 1, 5, 7, 5, 1, 7, 1, 3, 4, 10, 2, 3, 8, 1, 3, 1, 8, 3, 5, 8, 1, 2, 5, 2, 4, 1, 4, 5, 5, 3, 6, 10, 3, 1, 2, 5, 8, 5, 3, 8, 9, 9, 10, 10, 10, 1, 2, 1, 2, 3, 6, 8, 9, 9, 8, 1, 2, 3, 4, 5, 8, 10, 10, 1, 7, 7, 1, 7, 7, 7, 1, 2, 3, 2, 3, 5, 2, 5, 1, 2, 3, 5, 10, 5, 6, 8, 6, 2, 3, 5, 7, 3, 6, 1, 4, 4, 2, 6, 10, 5, 7, 1, 5, 1, 2, 1, 3, 1, 2, 3, 5, 5, 2, 1, 3, 8, 1, 1, 2, 3, 1, 2, 6, 1, 2, 3, 5, 8, 1, 2, 3, 5, 1, 8, 1, 10, 6], \"Freq\": [0.514882081555672, 0.22066374923814516, 0.24518194359793907, 0.947313522008405, 0.9961122732312574, 0.3760877902417647, 0.25411337178497617, 0.2439488369135771, 0.1321389533281876, 0.9794501604377412, 0.9297224953116132, 0.7077716399518967, 0.5723453312254349, 0.09157525299606957, 0.3205133854862435, 0.511019550528825, 0.3496449556249855, 0.1344788290865329, 0.929405437355319, 0.6690287932878125, 0.9894628214699926, 0.8533919457114889, 0.7791890646969696, 0.212506108553719, 0.48692536058620867, 0.01650594442665114, 0.4951783327995342, 0.9211024712418457, 0.8308638285646409, 0.5041215131281961, 0.2846803838841578, 0.18978692258943852, 0.005930841330919954, 0.011861682661839908, 0.9637675240126304, 0.023506524975917813, 0.893165709107084, 0.09315225187006398, 0.010959088455301646, 0.2095927744183336, 0.7685068395338899, 0.48530719714530735, 0.48530719714530735, 0.8438840853672537, 0.9936001906964848, 0.31224977120711805, 0.6244995424142361, 0.06938883804602623, 0.19966053336752929, 0.5324280889800781, 0.26621404449003905, 0.8610811685933142, 0.098882897161527, 0.889946074453743, 0.982518502206968, 0.8465803732988935, 0.8592345900947489, 0.4680436949114174, 0.9380505945166434, 0.9751938864906261, 0.9879923477534843, 0.9613991190632872, 0.035690094272348996, 0.9576841963080315, 0.013898942919586706, 0.9868249472906562, 0.20949271179746698, 0.023942024205424798, 0.6554129126235038, 0.10773910892441159, 0.9233758844764992, 0.9811338024304229, 0.8387667992520725, 0.027056696680371348, 0.9650221815999115, 0.7085845979464092, 0.17875170371155638, 0.11131842626348422, 0.1101366622741573, 0.7709566359191011, 0.84284812316028, 0.8956621709868084, 0.989834634211053, 0.10763175131310329, 0.8879619483331022, 0.9664501716291495, 0.3131570920029572, 0.6263141840059144, 0.04817801415430111, 0.9007840902313335, 0.38468233307129124, 0.2510897236783324, 0.22533693150619571, 0.13198305988220035, 0.006438198043034163, 0.9176795989225569, 0.9387541199260642, 0.9429607666613, 0.4769405267632414, 0.506749309685944, 0.8459770909267723, 0.5081099018008733, 0.031756868862554584, 0.4445961640757642, 0.9543446441069425, 0.9933867800824614, 0.9449547614888384, 0.9962123522680736, 0.8046141891548457, 0.16092283783096914, 0.22053889862791867, 0.7351296620930622, 0.09309441719338112, 0.35277884410123367, 0.5487670908241413, 0.9820507057192095, 0.9254923396137609, 0.16131804840656586, 0.8603629248350179, 0.05552118276523075, 0.9160995156263073, 0.6670231698387052, 0.09939870972370457, 0.9016882953507487, 0.9952535166460355, 0.22322148153560634, 0.27021547764836557, 0.5012692918694317, 0.003916166342729935, 0.986825918196661, 0.7302798174675444, 0.22806080678388432, 0.03639268193359856, 0.0024261787955732377, 0.9588195718375494, 0.04677168643109997, 0.8656935857136312, 0.1298540378570447, 0.6853123834675203, 0.8689716953303874, 0.6086538905734067, 0.34236781344754125, 0.9678821634159737, 0.093455620028509, 0.8411005802565811, 0.9356004149078906, 0.9952711923812346, 0.48295817757238485, 0.9972069030869855, 0.9832633402261579, 0.9730198408718279, 0.5657042849887862, 0.3167943995937203, 0.11314085699775724, 0.7292726341335005, 0.24309087804450016, 0.9865871025632782, 0.942913300132547, 0.6852500033289428, 0.20417086335333393, 0.7875161872200023, 0.9835246719780553, 0.015367572999657114, 0.9487044846044207, 0.9312268047592275, 0.43966319414716276, 0.262914171374434, 0.27837971086704777, 0.017674902277272874, 0.9471722433356002, 0.9621523066047218, 0.8947929671639272, 0.11014006371062135, 0.7709804459743494, 0.9110049252695708, 0.07356722088034894, 0.5149705461624425, 0.16184788593676766, 0.2354151068171166, 0.9157909583791811, 0.8698107957430615, 0.4687705222647377, 0.3894390177322568, 0.6103148785356264, 0.853169437937592, 0.775753044980987, 0.2692467346949819, 0.7000415102069528, 0.7239413891589281, 0.9422999799682009, 0.46354544782521767, 0.4675156724888196, 0.9732248446392314, 0.9826123418343696, 0.5940415340366197, 0.403099612381992, 0.9965341792107957, 0.9802120905037165, 0.9883857066273303, 0.9968781781793964, 0.5851688298089579, 0.4044098719098557, 0.012254844603328962, 0.9763316777901241, 0.8834613589721275, 0.17309050432158268, 0.8048708450953596, 0.01730905043215827, 0.34039150124539813, 0.5956851271794467, 0.9835388338557939, 0.9693359929001244, 0.9715386537785728, 0.021832329298394897, 0.9661547450227133, 0.8091346436791687, 0.062241126436859126, 0.12448225287371825, 0.8730174655393715, 0.19673041870223662, 0.12590746796943145, 0.5665836058624415, 0.10229981772516304, 0.4680413520046076, 0.19912992673484045, 0.024891240841855056, 0.7716284660975068, 0.8156108471540773, 0.9462444629687469, 0.9565697606926876, 0.9985208207272885, 0.5474564841586375, 0.021610124374683057, 0.35296536478648993, 0.0792371227071712, 0.4461574603437364, 0.21337965494700434, 0.3297685576453704, 0.2899523592597703, 0.36903027542152583, 0.338277752469732, 0.8847666748587207, 0.7652589665987968, 0.8505415691392049, 0.856406973797037, 0.03171877680729767, 0.11101571882554184, 0.8895792831667072, 0.10557731907770436, 0.8798109923142029, 0.9888663987244225, 0.9948110166208743, 0.9957894704879214, 0.9624249183560621, 0.04309579498771955, 0.6679848223096531, 0.285509641793642, 0.2575646091685705, 0.7726938275057115, 0.7903337666042525, 0.11463236233647264, 0.8024265363553085, 0.718069444261916, 0.9932939491733278, 0.9921267888831296, 0.8676841155720769, 0.8649214368964326, 0.6436015498104043, 0.3568483840532935, 0.9588127691208762, 0.07684440709914246, 0.9221328851897096, 0.9306983245915142, 0.9701259519842141, 0.9685551174084808, 0.9441607122395778, 0.9336676117488713, 0.925528970522121, 0.059784463875981846, 0.9266591900777187, 0.9811707168329342, 0.9603285632107084, 0.7176220910978872, 0.2870488364391549, 0.9878241893241404, 0.013170989190988538, 0.9525499245654485, 0.9277948654658362, 0.9370216059221006, 0.5277284786676978, 0.2885421897751441, 0.17337842104909976, 0.00885875144046495, 0.7413627585003862, 0.8856938638875221, 0.9597007145762158, 0.6755660915568802, 0.21228918098023075, 0.10282757203729928, 0.0022113456352107373, 0.006634036905632211, 0.9484002107960461, 0.873177990496593, 0.1983399195341795, 0.793359678136718, 0.706628212453181, 0.7142006128418201, 0.5133527759217971, 0.4644620353578164, 0.24724176662874484, 0.6181044165718621, 0.9868795131864156, 0.9994609346885692, 0.9746500743060182, 0.9644445459839384, 0.9580906098837941, 0.7358617480329646, 0.9858135281599255, 0.8924866103198565, 0.9419722863012155, 0.9956424566836228, 0.9905441163714912, 0.9925324451368693, 0.9852915084679021, 0.5996413573191943, 0.35433352932497847, 0.027256425332690654, 0.9975581605903604, 0.6102842987955921, 0.13490495026007826, 0.25053776476871675, 0.9655354326281738, 0.6420041595548093, 0.22718809167344484, 0.12998323652958288, 0.9094431414520212, 0.9554161536772643, 0.9119341044874563, 0.913054942829698, 0.08376650851648605, 0.5807052782593062, 0.17421158347779186, 0.17421158347779186, 0.6974920688058465, 0.12742643564722195, 0.16431303543983883, 0.006706654507748524, 0.003353327253874262, 0.431373453039169, 0.4263574826549926, 0.14044717075693874, 0.03918530106658246, 0.2742971074660772, 0.6661501181319018, 0.9919893011225768, 0.005975839163389017, 0.20757260841402114, 0.526172425979728, 0.2654998479714224, 0.9682000700274344, 0.9377509656271517, 0.46941598092707965, 0.05215733121411996, 0.4172586497129597, 0.057952590237911064, 0.8417253974364358, 0.14512506852352342, 0.01290000609097986, 0.4925042297729024, 0.4925042297729024, 0.9994652709862136, 0.9953766276875903, 0.7418695130027216, 0.17941952895989735, 0.07459014125299103, 0.002015949763594352, 0.8547991395386395, 0.7092986193255437, 0.9551816826063072, 0.37513581229604964, 0.4407845794478583, 0.18444177437889106, 0.9961623762418297, 0.451260123501048, 0.402210110077021, 0.14715004027208087, 0.8531514885194111, 0.5088613393519841, 0.2748594095769841, 0.11142949036904762, 0.10400085767777777, 0.26178379688097625, 0.7199054414226846, 0.9513203143951529, 0.02408405859228235, 0.012042029296141175, 0.733367608222809, 0.16989540632868333, 0.091350796367684, 0.000853745760445645, 0.00341498304178258, 0.000853745760445645, 0.9569934076111887, 0.816045737334048, 0.7418846055005559, 0.2587969554071706, 0.8774082580941487, 0.7933736619390088, 0.13222894365650148, 0.6683252857213021, 0.24505260476447743, 0.0857684116675671, 0.8504866515158058, 0.9254447470261792, 0.9942962409972568, 0.886448715815103, 0.9893637262385382, 0.7024788818390586, 0.2341596272796862, 0.9046599334688947, 0.733259047284799, 0.7748504857374751, 0.9289081245011309, 0.068808009222306, 0.48083792749412835, 0.6911793757794148, 0.25919226591728056, 0.982413794664762, 0.9210847642341502, 0.6647097787798054, 0.19627257247435198, 0.00523393526598272, 0.13346534928255935, 0.8861797510144591, 0.9959342218523564, 0.47354771249014743, 0.3829487696972758, 0.5956980861957624, 0.1868525909914887, 0.8096945609631178, 0.9689348041997823, 0.5456912430182278, 0.337508456664453, 0.11355424710205896, 0.9235244879174549, 0.8339234993851139, 0.12303789335190206, 0.04556959013033409, 0.49421265987098223, 0.2645784946784046, 0.19968188277615442, 0.039936376555230885, 0.28318314525075344, 0.7079578631268836, 0.9949608315426935, 0.764393900657395, 0.4657686991204719, 0.9822696860332828, 0.013769820223142283, 0.977657235843102, 0.9920724355059238, 0.9983558572172264, 0.0014282630289230707, 0.8471143478478445, 0.9518183377031891, 0.9616901617349188, 0.4614167658076168, 0.4032200566066561, 0.041569078000686197, 0.08729506380144102, 0.9103149476531233, 0.9968719714727914, 0.9728710500510868, 0.9532322367690984, 0.31376432513131797, 0.1996682069017478, 0.4563844729182807, 0.8063301018067832, 0.8063418999537074, 0.44902301523542193, 0.08844392724334069, 0.27213516074874056, 0.1904946125241184, 0.7835472211682863, 0.8708246710344655, 0.9970449960714374, 0.7331474336926734, 0.7721087297438229, 0.9798786732160476, 0.9321756744687263, 0.9614118467834757, 0.9950197800523123, 0.9143733644216654, 0.9509442779373048, 0.9959193865894274, 0.7862467468751054, 0.21291510600533034, 0.017141271900042967, 0.977052498302449, 0.9509084605464495, 0.8829332210327762, 0.08614400612078389, 0.8614400612078389, 0.022040954401202937, 0.9698019936529293, 0.011020477200601468, 0.8506669442321988, 0.43063356672216624, 0.1435445222407221, 0.38278539264192557, 0.9151965344087832, 0.10768879035687075, 0.2153775807137415, 0.6461327421412245, 0.9042120800198582, 0.7350246837827031, 0.6963559571177409, 0.13762134595640188, 0.6002825813756214, 0.2616616380355273, 0.6928375977088209, 0.07698195530098009, 0.15396391060196019, 0.9172397868280395, 0.9645610340562946, 0.9954599975663201, 0.6800790243719003, 0.3182256566872288, 0.8964257506527699, 0.4688176843381184, 0.9884428016778745, 0.18797868855683608, 0.7989094263665534, 0.4058731047630731, 0.5411641396840974, 0.03865458140600696, 0.9361049623715917, 0.7924360427168763, 0.1485817580094143, 0.635090256825699, 0.2684402116479759, 0.09493617241208903, 0.9801436957619208, 0.9326817059771945, 0.5323245146924529, 0.08247281213545045, 0.13495551076710074, 0.18743820939875103, 0.05248269863165029, 0.6676680770009578, 0.8658291307507724, 0.5087253247497439, 0.3339325208613704, 0.1539220213345379, 0.002608847819229456, 0.7644354844984215, 0.4680399074679958, 0.684755942934159, 0.228251980978053, 0.5077374540397792, 0.3231056525707686, 0.1615528262853843, 0.9409461730448035, 0.14582902463057704, 0.24304837438429508, 0.5833160985223081, 0.7713171273014395, 0.030852685092057578, 0.18511611055234548, 0.7784028103500864, 0.13352796346485368, 0.8679317625215489, 0.9212269343093092, 0.6732381714504782, 0.9506830008463235, 0.5578426401804093, 0.23281862255463365, 0.2074621389100696, 0.9113307741507727, 0.9509971323375922, 0.04134770140598227, 0.996414791233497, 0.46292897774965536, 0.7506643348270039, 0.1450283935751736, 0.8494520195117311, 0.14764187533517328, 0.8120303143434531, 0.07382093766758664, 0.6653542295868181, 0.9734517942281394, 0.16100139792969215, 0.8050069896484607, 0.8128321526010048, 0.18062936724466774, 0.9004111880952163, 0.09904523069047379, 0.9568017543405137, 0.943429302111102, 0.048918556405760844, 0.991130053059997, 0.9839163142072523, 0.19356354168772505, 0.5484300347818877, 0.08065147570321878, 0.16130295140643755, 0.9662988680367863, 0.9586573010493151, 0.7955252225127961, 0.41982601806867204, 0.43556949374624726, 0.0157434756775752, 0.1259478054206016, 0.9973960861232752, 0.9915388469869765, 0.8218961102997564, 0.027234274274310626, 0.958646454455734, 0.013617137137155313, 0.9684652396524255, 0.9521755871238595, 0.9609517217045955, 0.6499415111372193, 0.9104061179378096, 0.984227168984691, 0.9845377310493755, 0.006884879238107521, 0.0034424396190537603, 0.9435681101126507, 0.6308566260875436, 0.3532797106090244, 0.9920630199971642, 0.9851215242494639, 0.941717380707601, 0.7103227195972993, 0.444693013090514, 0.5248835564347051, 0.02187014818477938, 0.03598265249746534, 0.9355489649340988, 0.9985047472708196, 0.6465973672062348, 0.9559440999288481, 0.3145303476314535, 0.629060695262907, 0.3876025195854419, 0.6081349876254347, 0.8663734707781101, 0.981646648761717, 0.9753469087404041, 0.06787135127136154, 0.9162632421633808, 0.9629982892453771, 0.9413557053926587, 0.9781992540742714, 0.9022388989025842, 0.8185916289992329, 0.9759259706285649, 0.7603981160280917, 0.11182325235707231, 0.044729300942828926, 0.08945860188565785, 0.9634836010457561, 0.39753400996367616, 0.5300453466182349, 0.9602160401706494, 0.9336222881660357, 0.6558565528085667, 0.9020514477041027, 0.46487116339876866, 0.9053886358953971, 0.0905388635895397, 0.7337824620655093, 0.1507772182326389, 0.1085595971275, 0.006031088729305556, 0.0020103629097685187, 0.9262415431483443, 0.7219836494873175, 0.8086671953881517, 0.6405607692420842, 0.21074211181384553, 0.144066641409465, 0.0023812668001564467, 0.0011906334000782233, 0.8700901020900618, 0.6327946910018246, 0.7621549129317458, 0.926605436241659, 0.07297847111211157, 0.900460906275682, 0.3335024892506929, 0.6670049785013858, 0.883965449108674, 0.8988091770406582, 0.3801287211844936, 0.31647080136890854, 0.3019204196967748, 0.49761882723390827, 0.04327120236816594, 0.43271202368165934, 0.4644358388361707, 0.5307838158127665, 0.2814752392512348, 0.43947313298188073, 0.27749209907315125, 0.0013277133926945038, 0.9129548223852245, 0.8688035998850506, 0.27254659806158177, 0.6813664951539544, 0.8771586689768511, 0.7637549374610263, 0.23640033778555578, 0.9706347243002322, 0.8809996775123331, 0.9925294995359126, 0.9198044877915439, 0.7292147684134658, 0.2625173166288477, 0.8778983706967012, 0.9664629258867253, 0.02013464428930678, 0.7120657873828669, 0.8810551857033462, 0.7938591687885858, 0.9940762532298484, 0.9544702650792279, 0.015325312845469456, 0.9808200221100452, 0.2712306624286282, 0.725247206059158, 0.2923893191499516, 0.42673035767830775, 0.2607796630256325, 0.019756035077699432, 0.8849624413235259, 0.9921096825956772, 0.11819441897370124, 0.8470600026448589, 0.03939813965790041, 0.9863491067374868, 0.5120430147500088, 0.3939719195841244, 0.09397495329529573, 0.3275875896095903, 0.3275875896095903, 0.3275875896095903, 0.7430504487181453, 0.12662470193511463, 0.10992693904257206, 0.01948072337463302, 0.001391480241045216, 0.33094710911218217, 0.14478936023657968, 0.28957872047315936, 0.20684194319511384, 0.9959165411435987, 0.6565470597282418, 0.9897069456712877, 0.4745350185308986, 0.8624181250312649], \"Term\": [\"addition\", \"addition\", \"addition\", \"adhesive\", \"age\", \"ago\", \"ago\", \"ago\", \"ago\", \"angel\", \"angel eye\", \"apparent\", \"arm\", \"arm\", \"arm\", \"arrive\", \"arrive\", \"arrive\", \"articulation\", \"artist\", \"ask\", \"attract\", \"awesome\", \"awesome\", \"baby\", \"baby\", \"baby\", \"baby love\", \"baby month\", \"bad\", \"bad\", \"bad\", \"bad\", \"bad\", \"bag\", \"bag\", \"ball\", \"ball\", \"ball\", \"bark\", \"bark\", \"barking\", \"barking\", \"bat\", \"battery\", \"battle\", \"battle\", \"battle\", \"beat\", \"beat\", \"beat\", \"beware\", \"bikini\", \"bikini\", \"bikini area\", \"birthday love\", \"biscuit\", \"black dragon\", \"blend\", \"blow\", \"board\", \"board game\", \"bottle\", \"bottle\", \"bowl\", \"bowl\", \"box\", \"box\", \"box\", \"box\", \"box easy\", \"breakout\", \"broad\", \"brush\", \"brush\", \"buy\", \"buy\", \"buy\", \"buy daughter\", \"buy daughter\", \"buy large\", \"camera\", \"car\", \"card\", \"card\", \"card game\", \"careful\", \"careful\", \"careful\", \"carrier\", \"cat\", \"cat\", \"cat\", \"cat\", \"cat\", \"cat attract\", \"cat large\", \"cat litter\", \"cat love\", \"cat love\", \"cd\", \"character\", \"character\", \"character\", \"charge\", \"chew\", \"chicken\", \"child\", \"choice\", \"choice\", \"city\", \"city\", \"clean\", \"clean\", \"clean\", \"cleanser\", \"clicker\", \"clue\", \"clue\", \"clump\", \"clump\", \"coffee\", \"collar\", \"collar\", \"cologne\", \"color\", \"color\", \"color\", \"color\", \"comb\", \"come\", \"come\", \"come\", \"come\", \"compliment\", \"compliment\", \"conditioner\", \"conditioner\", \"confine\", \"cootie\", \"cord\", \"cord\", \"corn\", \"cover litter\", \"cover litter\", \"cover litter box\", \"cream\", \"creep\", \"curl\", \"curly\", \"curly hair\", \"customer\", \"customer\", \"customer\", \"customer service\", \"customer service\", \"cute\", \"cutter\", \"dancing\", \"dark\", \"dark\", \"daughter\", \"daughter\", \"daughter month\", \"daughter month old\", \"day\", \"day\", \"day\", \"day\", \"day recommend\", \"decent\", \"deck card\", \"department\", \"department\", \"department store\", \"difference\", \"difference\", \"difference\", \"difference\", \"difficult time\", \"disk\", \"disorder\", \"dog\", \"dog\", \"dog size\", \"dog try\", \"doll\", \"doll\", \"dot\", \"dragon\", \"dragon look\", \"dragon make\", \"driger\", \"drink\", \"dry\", \"dry\", \"dry hair\", \"dry skin\", \"dryer\", \"durable\", \"easy\", \"easy\", \"easy\", \"easy clean\", \"easy learn\", \"eat\", \"eat\", \"eat\", \"edition\", \"edition\", \"educational\", \"effective\", \"enjoy\", \"enjoy\", \"este\", \"excited\", \"excited\", \"excited\", \"expansion\", \"eye\", \"eye\", \"eye\", \"eye\", \"eye black\", \"face\", \"face\", \"face\", \"factor\", \"fade\", \"familiar\", \"family\", \"favorite\", \"favorite\", \"favorite\", \"favorite\", \"feed\", \"feed\", \"feed\", \"feel\", \"feel\", \"feel\", \"female\", \"female cat\", \"field\", \"figure\", \"figure\", \"figure\", \"fish\", \"flat\", \"flat\", \"flat iron\", \"flea\", \"floor\", \"floral\", \"food\", \"food\", \"food\", \"forehead\", \"forehead\", \"fortunately\", \"foster\", \"foster\", \"foul\", \"fountain\", \"fragrance\", \"frown\", \"frownie\", \"fun\", \"fun\", \"fun family\", \"game\", \"game\", \"game board\", \"game fun\", \"game game\", \"game good\", \"game kid\", \"game lot\", \"game play\", \"game play\", \"game time\", \"gel\", \"german\", \"german\", \"gift\", \"gift\", \"gift friend\", \"girly\", \"glad make\", \"good\", \"good\", \"good\", \"good\", \"good choice\", \"good game\", \"grateful\", \"great\", \"great\", \"great\", \"great\", \"great\", \"great choice\", \"great item\", \"great product\", \"great product\", \"great say\", \"great shape\", \"great toy\", \"great toy\", \"groomer\", \"groomer\", \"grow\", \"hair\", \"hair feel\", \"hair look\", \"hair use\", \"hall\", \"heat\", \"help daughter\", \"horrendous\", \"hot\", \"hurt\", \"husband\", \"indoor\", \"ingredient\", \"ingredient\", \"ingredient\", \"iron\", \"item\", \"item\", \"item\", \"item arrive\", \"just\", \"just\", \"just\", \"just great\", \"just need\", \"just regular\", \"kid\", \"kid\", \"kitten\", \"kitten\", \"kitten\", \"know\", \"know\", \"know\", \"know\", \"know\", \"large\", \"large\", \"large\", \"large size\", \"large size\", \"large size\", \"learn\", \"learn\", \"leave\", \"leave\", \"leave\", \"leave hair\", \"life live\", \"light\", \"light\", \"light\", \"light\", \"like\", \"like\", \"like\", \"likely\", \"likely\", \"litter\", \"litter box\", \"little\", \"little\", \"little\", \"little\", \"little kid\", \"little large\", \"live far\", \"long\", \"long\", \"long\", \"long hair\", \"look\", \"look\", \"look\", \"look work\", \"lot\", \"lot\", \"lot\", \"lot\", \"lot fun\", \"lot fun\", \"lotion\", \"lotion\", \"lotion\", \"love\", \"love\", \"love\", \"love\", \"love\", \"love\", \"love music\", \"love taste\", \"love toy\", \"love toy\", \"lover\", \"mail\", \"mail\", \"make\", \"make\", \"make\", \"make cheap\", \"make difference\", \"make hair\", \"make hair grow\", \"makeup\", \"male\", \"male\", \"member\", \"mesh\", \"miniature\", \"miss\", \"miss\", \"miss rubber\", \"mobile\", \"mobile\", \"moisturizer\", \"monopoly\", \"month\", \"month\", \"month\", \"month\", \"month month\", \"month old\", \"month old favorite\", \"movie\", \"movie\", \"music\", \"music\", \"music play\", \"need\", \"need\", \"need\", \"neighborhood\", \"new\", \"new\", \"new\", \"nice\", \"nice\", \"nice\", \"nice\", \"note\", \"note\", \"number\", \"object game\", \"obtain\", \"odor\", \"oil\", \"oil\", \"oily\", \"old\", \"old\", \"old time\", \"omega\", \"omega paw\", \"order\", \"order\", \"order\", \"order\", \"organic\", \"pad\", \"panel\", \"patch\", \"paw\", \"paw\", \"paw\", \"peanut\", \"peanut butter\", \"people\", \"people\", \"people\", \"people\", \"perfect solution\", \"perfect time\", \"perfume\", \"perfume girlfriend\", \"perfume wear\", \"photo\", \"physical\", \"piano\", \"piece\", \"piece cardboard\", \"pill\", \"place\", \"play\", \"play\", \"play game\", \"play game\", \"play like\", \"play music\", \"play play\", \"play play\", \"player\", \"player\", \"player\", \"playset\", \"plenty\", \"plenty\", \"plenty\", \"plenty room\", \"pooh\", \"pooh\", \"pooh\", \"pose\", \"preschool\", \"price pay\", \"product\", \"product\", \"product\", \"professional\", \"professional\", \"professional\", \"property\", \"pug\", \"puppy\", \"purchase\", \"purchase\", \"purchase different\", \"purchase unit\", \"push\", \"puzzle\", \"puzzle\", \"question\", \"question\", \"question\", \"rabbit\", \"rating\", \"rating\", \"really\", \"really\", \"really\", \"reasoning\", \"reccomend\", \"receive\", \"receive\", \"receive\", \"receive\", \"receive\", \"recipient\", \"recomend\", \"recommend\", \"recommend\", \"recommend\", \"recommend\", \"red eye\", \"red eye black\", \"resort\", \"resort\", \"return\", \"return\", \"return\", \"rich\", \"risk\", \"risk\", \"risk\", \"room\", \"room\", \"room\", \"rottweiler\", \"rule\", \"rule\", \"run away\", \"runny\", \"sample\", \"say\", \"say\", \"say\", \"say day\", \"scalp\", \"scalp\", \"scent\", \"schnoodle\", \"scleraderma\", \"scoop\", \"scoop\", \"score\", \"score\", \"score\", \"second time use\", \"sensitive skin\", \"sequence\", \"sequence\", \"service\", \"service\", \"set\", \"set\", \"set game\", \"shampoo\", \"shampoo\", \"shape\", \"shiny\", \"shipping\", \"shipping\", \"shipping\", \"shipping\", \"significant\", \"silly\", \"simple make\", \"size\", \"size\", \"size\", \"size\", \"skin\", \"sleep\", \"small think\", \"smell\", \"smell\", \"smell\", \"smell good\", \"smell great\", \"smell nice\", \"smile face\", \"soak\", \"soap\", \"son\", \"son\", \"son\", \"son birthday\", \"song\", \"song\", \"sound\", \"spice\", \"spinner\", \"sport\", \"spray\", \"spray\", \"spray\", \"stain\", \"stain\", \"stand\", \"star rating\", \"sticky\", \"stool\", \"stool\", \"stop\", \"stop\", \"stop bark\", \"straightener\", \"strategic\", \"strategy\", \"strategy\", \"stretch\", \"stretch mark\", \"subtle\", \"sugar\", \"supervision\", \"sweet\", \"switch\", \"switch\", \"switch\", \"switch\", \"tape\", \"taste\", \"taste\", \"tennis\", \"tennis ball\", \"therapist\", \"therapy\", \"therapy hand\", \"thing\", \"thing\", \"think\", \"think\", \"think\", \"think\", \"think\", \"think fun\", \"think maybe\", \"tho\", \"time\", \"time\", \"time\", \"time\", \"time\", \"time come\", \"tissue\", \"tongue\", \"toy\", \"toy\", \"toy baby\", \"toy month\", \"toy month\", \"toy month old\", \"toy son\", \"try\", \"try\", \"try\", \"twice\", \"twice\", \"twice\", \"twice day\", \"twice day\", \"use\", \"use\", \"use\", \"use\", \"use follow\", \"use lotion\", \"use make\", \"use make\", \"use old\", \"use product\", \"use product\", \"used\", \"vader\", \"vanilla\", \"vehicle\", \"version\", \"version\", \"version game\", \"vet\", \"vet\", \"vinyl\", \"voice\", \"volume control\", \"walk\", \"warranty\", \"water\", \"water\", \"wear\", \"wear\", \"week\", \"week\", \"week\", \"week\", \"wellness\", \"wet\", \"woman\", \"woman\", \"woman\", \"word\", \"work\", \"work\", \"work\", \"yard\", \"yard\", \"yard\", \"year\", \"year\", \"year\", \"year\", \"year\", \"year ago\", \"year ago\", \"year ago\", \"year ago\", \"year old\", \"year worth\", \"young\", \"young woman\", \"zoid\"]}, \"R\": 30, \"lambda.step\": 0.01, \"plot.opts\": {\"xlab\": \"PC1\", \"ylab\": \"PC2\"}, \"topic.order\": [10, 3, 7, 4, 5, 1, 9, 8, 6, 2]};\n",
              "\n",
              "function LDAvis_load_lib(url, callback){\n",
              "  var s = document.createElement('script');\n",
              "  s.src = url;\n",
              "  s.async = true;\n",
              "  s.onreadystatechange = s.onload = callback;\n",
              "  s.onerror = function(){console.warn(\"failed to load library \" + url);};\n",
              "  document.getElementsByTagName(\"head\")[0].appendChild(s);\n",
              "}\n",
              "\n",
              "if(typeof(LDAvis) !== \"undefined\"){\n",
              "   // already loaded: just create the visualization\n",
              "   !function(LDAvis){\n",
              "       new LDAvis(\"#\" + \"ldavis_el6031401980879209769315781181\", ldavis_el6031401980879209769315781181_data);\n",
              "   }(LDAvis);\n",
              "}else if(typeof define === \"function\" && define.amd){\n",
              "   // require.js is available: use it to load d3/LDAvis\n",
              "   require.config({paths: {d3: \"https://d3js.org/d3.v5\"}});\n",
              "   require([\"d3\"], function(d3){\n",
              "      window.d3 = d3;\n",
              "      LDAvis_load_lib(\"https://cdn.jsdelivr.net/gh/bmabey/pyLDAvis@3.3.1/pyLDAvis/js/ldavis.v3.0.0.js\", function(){\n",
              "        new LDAvis(\"#\" + \"ldavis_el6031401980879209769315781181\", ldavis_el6031401980879209769315781181_data);\n",
              "      });\n",
              "    });\n",
              "}else{\n",
              "    // require.js not available: dynamically load d3 & LDAvis\n",
              "    LDAvis_load_lib(\"https://d3js.org/d3.v5.js\", function(){\n",
              "         LDAvis_load_lib(\"https://cdn.jsdelivr.net/gh/bmabey/pyLDAvis@3.3.1/pyLDAvis/js/ldavis.v3.0.0.js\", function(){\n",
              "                 new LDAvis(\"#\" + \"ldavis_el6031401980879209769315781181\", ldavis_el6031401980879209769315781181_data);\n",
              "            })\n",
              "         });\n",
              "}\n",
              "</script>"
            ]
          },
          "metadata": {},
          "execution_count": 12
        }
      ]
    },
    {
      "cell_type": "markdown",
      "source": [
        "*From the above visualization, the topics are well separated. Now we have to optimize the number of topics present and classify the reviews based on the optimum number of topics.*"
      ],
      "metadata": {
        "id": "mpG3U3im6opV"
      }
    },
    {
      "cell_type": "markdown",
      "source": [
        "- To find out the optimum number of topics, Kmeans clustering and PCA is used here to plot the elbow curve and obtain the k value(It is the value after which there is a linear change in the curve with minimal deflection)"
      ],
      "metadata": {
        "id": "9ZvoeQbs8dkm"
      }
    },
    {
      "cell_type": "code",
      "source": [
        "cv_norm = normalize(data_vectorized)\n",
        "cv_array = cv_norm.toarray()"
      ],
      "metadata": {
        "id": "HcgeXt32jz5C"
      },
      "execution_count": 13,
      "outputs": []
    },
    {
      "cell_type": "code",
      "source": [
        "sklearn_pca = PCA(n_components = 2)\n",
        "Y_sklearn = sklearn_pca.fit_transform(cv_array)\n",
        "kmeans = KMeans(n_clusters=3, max_iter=600, algorithm = 'auto')\n",
        "fitted = kmeans.fit(Y_sklearn)\n",
        "prediction = kmeans.predict(Y_sklearn)"
      ],
      "metadata": {
        "id": "WY8ZAOENjsKP"
      },
      "execution_count": 14,
      "outputs": []
    },
    {
      "cell_type": "code",
      "source": [
        "number_clusters = range(1, 10)\n",
        "\n",
        "kmeans = [KMeans(n_clusters=i, max_iter = 600) for i in number_clusters]\n",
        "kmeans\n",
        "\n",
        "score = [kmeans[i].fit(Y_sklearn).score(Y_sklearn) for i in range(len(kmeans))]\n",
        "score\n",
        "\n",
        "plt.plot(number_clusters, score)\n",
        "plt.xlabel('Number of Clusters')\n",
        "plt.ylabel('Score')\n",
        "plt.title('Elbow Method')\n",
        "plt.show()"
      ],
      "metadata": {
        "colab": {
          "base_uri": "https://localhost:8080/",
          "height": 299
        },
        "id": "MY97C1k4i_4x",
        "outputId": "d4843016-4380-4891-b48b-fc6d0cbb9d16"
      },
      "execution_count": 15,
      "outputs": [
        {
          "output_type": "display_data",
          "data": {
            "text/plain": [
              "<Figure size 432x288 with 1 Axes>"
            ],
            "image/png": "[encoded data removed]"
          },
          "metadata": {}
        }
      ]
    },
    {
      "cell_type": "markdown",
      "source": [
        "*Based on above elbow method, the optimum number of topics = 4. Hence, update the LDA model with n_components=4.*"
      ],
      "metadata": {
        "id": "sUkK1OJU8A2A"
      }
    },
    {
      "cell_type": "code",
      "source": [
        "# Build LDA Model\n",
        "lda_model_final = LatentDirichletAllocation(n_components=4,      # Number of topics\n",
        "                                      max_iter=10,               # Max learning iterations\n",
        "                                      learning_method='online',   \n",
        "                                      random_state=100,          # Random state\n",
        "                                      batch_size=128,            # n docs in each learning iter\n",
        "                                      evaluate_every = -1,       # compute perplexity every n iters, default: Don't\n",
        "                                      n_jobs = -1,               # Use all available CPUs\n",
        "                                     )\n",
        "lda_output = lda_model_final.fit_transform(data_vectorized)\n",
        "\n",
        "print(lda_model_final)  # Model attributes"
      ],
      "metadata": {
        "colab": {
          "base_uri": "https://localhost:8080/"
        },
        "id": "VCzglwiQnXjZ",
        "outputId": "c4ef8d3d-8e81-4ac6-8c03-0fe8ee50c9fa"
      },
      "execution_count": 16,
      "outputs": [
        {
          "output_type": "stream",
          "name": "stdout",
          "text": [
            "LatentDirichletAllocation(learning_method='online', n_components=4, n_jobs=-1,\n",
            "                          random_state=100)\n"
          ]
        }
      ]
    },
    {
      "cell_type": "code",
      "source": [
        "pyLDAvis.enable_notebook()\n",
        "panel_final = pyLDAvis.sklearn.prepare(lda_model_final, data_vectorized, vectorizer, mds='tsne')\n",
        "panel_final"
      ],
      "metadata": {
        "colab": {
          "base_uri": "https://localhost:8080/",
          "height": 1000
        },
        "id": "z0dDhJNL0drF",
        "outputId": "f5237a8f-12e6-4c8b-d19c-378decca8c63"
      },
      "execution_count": 17,
      "outputs": [
        {
          "output_type": "stream",
          "name": "stderr",
          "text": [
            "/usr/local/lib/python3.7/dist-packages/sklearn/utils/deprecation.py:87: FutureWarning: Function get_feature_names is deprecated; get_feature_names is deprecated in 1.0 and will be removed in 1.2. Please use get_feature_names_out instead.\n",
            "  warnings.warn(msg, category=FutureWarning)\n",
            "/usr/local/lib/python3.7/dist-packages/pyLDAvis/_prepare.py:247: FutureWarning: In a future version of pandas all arguments of DataFrame.drop except for the argument 'labels' will be keyword-only\n",
            "  by='saliency', ascending=False).head(R).drop('saliency', 1)\n",
            "/usr/local/lib/python3.7/dist-packages/sklearn/manifold/_t_sne.py:783: FutureWarning: The default initialization in TSNE will change from 'random' to 'pca' in 1.2.\n",
            "  FutureWarning,\n",
            "/usr/local/lib/python3.7/dist-packages/sklearn/manifold/_t_sne.py:793: FutureWarning: The default learning rate in TSNE will change from 200.0 to 'auto' in 1.2.\n",
            "  FutureWarning,\n",
            "/usr/local/lib/python3.7/dist-packages/sklearn/manifold/_t_sne.py:827: FutureWarning: 'square_distances' has been introduced in 0.24 to help phase out legacy squaring behavior. The 'legacy' setting will be removed in 1.1 (renaming of 0.26), and the default setting will be changed to True. In 1.3, 'square_distances' will be removed altogether, and distances will be squared by default. Set 'square_distances'=True to silence this warning.\n",
            "  FutureWarning,\n"
          ]
        },
        {
          "output_type": "execute_result",
          "data": {
            "text/plain": [
              "PreparedData(topic_coordinates=                x           y  topics  cluster       Freq\n",
              "topic                                                    \n",
              "2      269.562408 -124.803398       1        1  45.145165\n",
              "0        1.782994 -295.079681       2        1  35.350312\n",
              "3      220.811432 -343.832123       3        1  10.606227\n",
              "1       50.533993  -76.050934       4        1   8.898296, topic_info=          Term         Freq        Total Category  logprob  loglift\n",
              "13670      toy   900.000000   900.000000  Default  30.0000  30.0000\n",
              "14207      use  1433.000000  1433.000000  Default  29.0000  29.0000\n",
              "4902      game   809.000000   809.000000  Default  28.0000  28.0000\n",
              "9586      play   790.000000   790.000000  Default  27.0000  27.0000\n",
              "10068  product  1039.000000  1039.000000  Default  26.0000  26.0000\n",
              "...        ...          ...          ...      ...      ...      ...\n",
              "2866       day    40.563224   432.942560   Topic4  -5.7029   0.0516\n",
              "7493      look    37.928495   490.136424   Topic4  -5.7700  -0.1397\n",
              "12127    smell    35.643245   326.853616   Topic4  -5.8322   0.2034\n",
              "5358     great    37.171199   863.364169   Topic4  -5.7902  -0.7260\n",
              "7668      love    34.823951  1116.523258   Topic4  -5.8554  -1.0484\n",
              "\n",
              "[294 rows x 6 columns], token_table=       Topic      Freq      Term\n",
              "term                            \n",
              "69         4  0.988008      acne\n",
              "160        2  0.993896     adult\n",
              "187        1  0.035354       age\n",
              "187        2  0.848504       age\n",
              "187        3  0.026516       age\n",
              "...      ...       ...       ...\n",
              "15289      3  0.081252      year\n",
              "15289      4  0.043528      year\n",
              "15326      1  0.053961  year old\n",
              "15326      2  0.937565  year old\n",
              "15326      3  0.006745  year old\n",
              "\n",
              "[437 rows x 3 columns], R=30, lambda_step=0.01, plot_opts={'xlab': 'PC1', 'ylab': 'PC2'}, topic_order=[3, 1, 4, 2])"
            ],
            "text/html": [
              "\n",
              "<link rel=\"stylesheet\" type=\"text/css\" href=\"https://cdn.jsdelivr.net/gh/bmabey/pyLDAvis@3.3.1/pyLDAvis/js/ldavis.v1.0.0.css\">\n",
              "\n",
              "\n",
              "<div id=\"ldavis_el6031401981073804328087292891\"></div>\n",
              "<script type=\"text/javascript\">\n",
              "\n",
              "var ldavis_el6031401981073804328087292891_data = {\"mdsDat\": {\"x\": [269.5624084472656, 1.782994270324707, 220.81143188476562, 50.533992767333984], \"y\": [-124.80339813232422, -295.0796813964844, -343.8321228027344, -76.05093383789062], \"topics\": [1, 2, 3, 4], \"cluster\": [1, 1, 1, 1], \"Freq\": [45.14516542037979, 35.35031216027884, 10.60622651315005, 8.89829590619132]}, \"tinfo\": {\"Term\": [\"toy\", \"use\", \"game\", \"play\", \"product\", \"hair\", \"dog\", \"skin\", \"smell\", \"cat\", \"old\", \"scent\", \"dry\", \"fun\", \"good\", \"shampoo\", \"work\", \"son\", \"perfume\", \"wear\", \"fragrance\", \"love\", \"bottle\", \"kid\", \"year old\", \"buy\", \"feel\", \"child\", \"brush\", \"litter\", \"dog\", \"litter\", \"food\", \"treat\", \"water\", \"iron\", \"litter box\", \"collar\", \"cat\", \"dryer\", \"bowl\", \"curl\", \"heat\", \"bark\", \"dog love\", \"flat\", \"fountain\", \"make sure\", \"vet\", \"scoop\", \"medium\", \"pet\", \"paw\", \"blow\", \"scratch\", \"drink\", \"straight\", \"container\", \"local\", \"clump\", \"pound\", \"lab\", \"eat\", \"cover\", \"hair\", \"bag\", \"box\", \"large\", \"use\", \"clean\", \"door\", \"size\", \"work\", \"product\", \"small\", \"stop\", \"try\", \"day\", \"color\", \"just\", \"need\", \"make\", \"easy\", \"time\", \"buy\", \"look\", \"problem\", \"week\", \"great\", \"purchase\", \"good\", \"love\", \"come\", \"really\", \"year\", \"little\", \"say\", \"recommend\", \"game\", \"play\", \"fun\", \"kid\", \"child\", \"son\", \"player\", \"toy\", \"music\", \"play game\", \"educational\", \"adult\", \"birthday\", \"cute\", \"old love\", \"teach\", \"love toy\", \"letter\", \"great toy\", \"son love\", \"old son\", \"song\", \"quot\", \"card\", \"parent\", \"game play\", \"old daughter\", \"daughter love\", \"leash\", \"love play\", \"tv\", \"year old\", \"month old\", \"baby\", \"family\", \"figure\", \"board\", \"old\", \"daughter\", \"learn\", \"boy\", \"enjoy\", \"walk\", \"gift\", \"love\", \"age\", \"piece\", \"set\", \"year\", \"sound\", \"great\", \"month\", \"buy\", \"make\", \"little\", \"think\", \"time\", \"just\", \"really\", \"good\", \"like\", \"thing\", \"come\", \"look\", \"perfume\", \"fragrance\", \"cologne\", \"man\", \"service\", \"subtle\", \"floral\", \"smell good\", \"customer service\", \"spice\", \"vanilla\", \"stock\", \"smell great\", \"gate\", \"sexy\", \"musk\", \"discontinue\", \"pleasantly\", \"vendor\", \"incense\", \"fake\", \"citrus\", \"boyfriend\", \"lavender\", \"buy bottle\", \"clothe\", \"overpower\", \"scent\", \"angel\", \"make feel\", \"compliment\", \"smell\", \"delivery\", \"note\", \"lady\", \"blend\", \"bottle\", \"wear\", \"sweet\", \"nail\", \"woman\", \"seat\", \"sample\", \"oil\", \"strong\", \"favorite\", \"good\", \"thank\", \"order\", \"product\", \"fresh\", \"price\", \"love\", \"buy\", \"great\", \"spray\", \"time\", \"say\", \"people\", \"purchase\", \"really\", \"long\", \"year\", \"just\", \"make\", \"try\", \"review\", \"use\", \"think\", \"like\", \"day\", \"shampoo\", \"flea\", \"skin\", \"conditioner\", \"moisturizer\", \"furminator\", \"dry skin\", \"oily\", \"frontline\", \"cleanser\", \"irritate\", \"sensitive skin\", \"undercoat\", \"breakout\", \"acne\", \"allergy\", \"makeup\", \"lather\", \"bikini\", \"tea\", \"shampoo conditioner\", \"toner\", \"bikini area\", \"allergic\", \"use frontline\", \"pore\", \"skin dry\", \"shedding\", \"skin feel\", \"use shampoo\", \"scalp\", \"cream\", \"lotion\", \"beat\", \"treatment\", \"brush\", \"comb\", \"sensitive\", \"face\", \"hair feel\", \"dry\", \"use product\", \"wash\", \"use\", \"product\", \"feel\", \"natural\", \"hair\", \"soft\", \"work\", \"week\", \"smooth\", \"try\", \"really\", \"leave\", \"good\", \"day\", \"look\", \"smell\", \"great\", \"love\"], \"Freq\": [900.0, 1433.0, 809.0, 790.0, 1039.0, 903.0, 847.0, 266.0, 326.0, 647.0, 674.0, 177.0, 216.0, 328.0, 743.0, 120.0, 795.0, 282.0, 114.0, 151.0, 110.0, 1116.0, 149.0, 235.0, 296.0, 893.0, 206.0, 199.0, 97.0, 260.0, 845.4966083428019, 260.1583600460852, 199.17012980742066, 128.84490890865797, 195.19441689798512, 97.09506038985971, 80.04151769015314, 139.72807857496943, 641.860796646459, 72.62114710227888, 71.69830926689554, 70.96233075361786, 67.70490629012842, 68.76634350295997, 59.21673660927858, 56.255143804750716, 54.068979909654075, 68.19677982261547, 49.52989655892228, 47.88108938001098, 45.24089199214595, 156.7605559599344, 40.40638161031018, 41.64261127279192, 39.5678086734401, 49.336608628896784, 45.28982947128541, 37.898434121532254, 42.95032692315467, 35.60838140337497, 53.13703577949018, 50.65422273992234, 112.17818136570779, 100.0948860014158, 797.2183453303348, 83.30256611589913, 299.2796560632396, 181.5285049142535, 986.3621009183261, 169.2772081184019, 93.63600634527418, 165.37297500377053, 564.1832432658505, 661.4203971669797, 231.38869461764955, 125.43750236115888, 344.14880113314524, 293.2790308324565, 189.90618870086476, 468.2307399553092, 217.31461808519614, 462.8418189560169, 218.18346498105223, 423.2115231466157, 451.60466400609397, 277.2288725890924, 177.33258613279463, 168.93405636500353, 360.6220446528998, 217.53410854071586, 304.70031032093794, 347.05308897963397, 213.59893757982877, 243.61954473630686, 252.26556780931423, 224.0408435657488, 211.99840058974326, 196.23590696222632, 808.8918734873231, 789.5771253048915, 327.7691956192917, 234.63114737308277, 199.26136896263662, 280.92864094878195, 107.12083700244479, 894.1518872647099, 83.21492305440508, 68.76815909626819, 64.35545011789775, 58.72163250533222, 65.89326994578404, 71.75156949381432, 52.068258307855494, 53.24771866303375, 61.40567580964669, 49.09027762756635, 47.08095344029284, 46.48381825675049, 45.75892508746503, 43.72285231820469, 44.31038828886891, 213.22137231569974, 43.830354928447086, 38.89184951031372, 39.61232291610051, 38.490820502630314, 37.83763020181882, 34.40728426040299, 37.079973746918, 278.2565906033257, 133.08846144118266, 132.3303252436929, 105.29090233725707, 174.13206032267726, 92.22843828184111, 563.1216400644131, 217.79562574045184, 140.89350603407934, 56.75258041025354, 145.54508491590786, 81.42070142373888, 118.09168241339887, 606.6582598565789, 96.48286472270202, 127.05298427454362, 153.58129828095232, 351.7267190022443, 94.94425600586604, 372.4079201116256, 216.21299005018588, 337.2371731600049, 326.84259470161425, 228.7367998166558, 214.46611045344815, 283.4307737887495, 289.47202237582354, 226.44297001865374, 238.9226194630873, 158.6232994872793, 164.69554106019598, 151.54835026815826, 145.75216314778515, 113.69813878547019, 109.82694784383379, 85.981555804626, 40.3420990998858, 41.538700217872865, 26.213685677677393, 23.93367053444368, 21.993020267790566, 20.142751229630242, 15.443034922004891, 15.328540558892158, 16.12954601942551, 15.065186052883302, 15.197685115183559, 12.804651631510174, 11.84922276002192, 13.13487417475903, 11.219238834934904, 10.983067213731799, 10.465500923063715, 11.29567012082094, 10.664605373338743, 11.044940398076559, 10.070723750057045, 10.342199907867014, 10.055839212205925, 12.649817897003752, 165.83488162824398, 9.85014963785045, 9.073782079903227, 33.97257847013887, 247.79051544227028, 17.57319971114991, 51.13582196928907, 15.091667186762818, 14.455896767452355, 105.5484126248566, 105.44950976063956, 29.016222740318025, 36.03258845520071, 34.49804667978455, 32.79107616532345, 15.351780619705414, 37.3279317731993, 38.263934343973794, 52.33363463252848, 150.97887959238471, 40.54227784162113, 66.16794421964384, 137.94516120053146, 30.440635704469777, 66.64819678468619, 127.9879580545974, 103.42963913884572, 93.16300490628176, 41.091852017454414, 79.39551060874065, 62.10387783906081, 40.99750463572951, 50.61328055286854, 55.40355217857123, 47.86056282044751, 55.63890275944973, 56.212493257579105, 52.76604898862549, 48.70830241506125, 43.794644310565154, 50.9924189220021, 42.92719894841476, 41.746859825482694, 41.709395299397116, 119.48167853106679, 62.95689393763395, 263.307274335754, 57.64386901144648, 37.722274668506415, 25.97021872117127, 26.04024023635597, 24.865559816690663, 23.691144687476157, 20.557888802942113, 20.548465482939903, 18.497133639315336, 17.374087731563723, 17.48368848378433, 16.53722945036869, 14.71500379386681, 13.888450085410604, 12.272284604681746, 10.771579475462515, 11.584155027476935, 10.405258586487824, 10.309019137898247, 9.97667225268184, 10.3562560992792, 10.393435291506753, 9.824635821963946, 9.69894336322006, 9.804251452619761, 9.563711447490402, 10.043466894240973, 36.71211740796999, 54.8004230141156, 59.43888341660578, 13.832157413630386, 17.583783724316223, 68.72218042252548, 38.19366444193539, 34.00381191555185, 64.59629882886726, 18.022442714162803, 99.29023161210249, 50.622242348359094, 55.137655504779644, 258.5318400065342, 208.08586881913152, 68.17428599025621, 24.370767015104096, 105.5399300674122, 38.68614580003034, 88.14587928604662, 49.50911081740024, 25.84827394042759, 54.26926709592514, 52.753156180697914, 37.14660464232262, 49.33850360012234, 40.56322373131988, 37.92849525231838, 35.643245055819364, 37.17119924078107, 34.82395116035867], \"Total\": [900.0, 1433.0, 809.0, 790.0, 1039.0, 903.0, 847.0, 266.0, 326.0, 647.0, 674.0, 177.0, 216.0, 328.0, 743.0, 120.0, 795.0, 282.0, 114.0, 151.0, 110.0, 1116.0, 149.0, 235.0, 296.0, 893.0, 206.0, 199.0, 97.0, 260.0, 847.3727638697582, 260.7891643941369, 200.23466277013603, 129.56572654425224, 196.46998847127466, 97.73565778639278, 80.66941856117438, 140.85901429927713, 647.0825534958842, 73.25451454308245, 72.3322203876568, 71.6003952329751, 68.35213697830389, 69.44735957257262, 59.88870362490129, 56.894090384965644, 54.705380460792895, 69.05846004486895, 50.169150398780154, 48.5128169252498, 45.8819572805147, 159.22408328790604, 41.054188193603096, 42.337030774095375, 40.23739751815302, 50.18651880507294, 46.07302088857501, 38.55636615832963, 43.69730483823732, 36.236857418369816, 54.11741215807993, 51.567577132135476, 115.18720656080944, 104.24005686962019, 903.2157494218426, 87.11575304927018, 346.03008347263346, 206.8682607044241, 1433.963460361906, 198.98928164342007, 102.79047921054462, 197.01327568074765, 795.3427858905803, 1039.072287872992, 302.4084038396291, 147.7682278088209, 524.3516491894663, 432.94256021325623, 252.19716888652962, 848.5568758166364, 309.0727858235817, 863.5383180257567, 321.04313537630185, 804.7457641520862, 893.4923436368633, 490.1364236172662, 255.45935854665063, 241.5470875968598, 863.3641689115883, 371.0916872835094, 743.9403129765323, 1116.523258051169, 396.2174511705569, 578.2192231142297, 689.2102052228998, 478.7722177821153, 410.99530177097864, 367.0129606775282, 809.5370114903673, 790.6183644694229, 328.41075325740206, 235.35606914787758, 199.89597426580545, 282.01807124337256, 107.78201404748505, 900.9363501457228, 83.88786612991652, 69.39463641683803, 64.98199014574223, 59.36237466889803, 66.6523317707192, 72.61155334161384, 52.6973922353808, 53.89212797225289, 62.20015376335954, 49.7492971839097, 47.71582123182369, 47.113550954283504, 46.38866148685288, 44.35532068057372, 44.95731524170074, 216.3858657932506, 44.53253592234658, 39.518270338258404, 40.25475240408106, 39.13048660806203, 38.51166223346923, 35.0455188895742, 37.81410865024608, 296.51270980217623, 142.6306178563003, 142.10423067908812, 111.87488606061132, 191.73732548163377, 97.99572749600708, 674.1475593462975, 249.91493126003098, 161.44013286649826, 58.8848747737528, 175.4527763306518, 90.17344439540648, 143.60792394010048, 1116.523258051169, 113.14035368870687, 164.782030853624, 215.08813834329743, 689.2102052228998, 112.95009788302326, 863.3641689115883, 392.36113378965854, 893.4923436368633, 863.5383180257567, 478.7722177821153, 474.1049068995528, 804.7457641520862, 848.5568758166364, 578.2192231142297, 743.9403129765323, 295.14077413152626, 337.8066293132643, 396.2174511705569, 490.1364236172662, 114.36633529618362, 110.5542225616542, 86.64269423259464, 41.047089084297376, 42.584155430515736, 26.87623318094036, 24.604751827036385, 22.659384368935648, 20.87797007835178, 16.108770285051683, 15.989369165977493, 16.826568178516936, 15.745679399714078, 15.894607734186204, 13.47245073234751, 12.511573975058415, 13.88587930250382, 11.90200866778875, 11.65231801657651, 11.12363005314959, 12.008494077241497, 11.341519031922545, 11.757552200519925, 10.752071377210484, 11.043883543818982, 10.76331935074527, 13.541196952519407, 177.6515240479161, 10.560423718177146, 9.767684258496816, 38.29930096773978, 326.85361627643147, 19.570216292000854, 62.221067984534564, 16.62690633571052, 15.947830305879911, 149.19805616062123, 151.49190216366793, 35.82258868669571, 46.21159338959603, 45.16769461849451, 44.393604036417926, 17.583417558071435, 62.51331617049242, 76.19975570267026, 130.32722512902606, 743.9403129765323, 90.05445097729434, 232.22331426572615, 1039.072287872992, 59.524978086560225, 287.5298049419924, 1116.523258051169, 893.4923436368633, 863.3641689115883, 131.3771360672512, 804.7457641520862, 410.99530177097864, 142.92391791458104, 371.0916872835094, 578.2192231142297, 303.4467532585607, 689.2102052228998, 848.5568758166364, 863.5383180257567, 524.3516491894663, 217.8757226184964, 1433.963460361906, 474.1049068995528, 295.14077413152626, 432.94256021325623, 120.15722990371702, 63.63313845157166, 266.27821037150113, 58.32690622058506, 38.58671184880553, 26.643920976828113, 26.71583469734162, 25.55808128215817, 24.370961835609425, 21.230601480388124, 21.243341107957814, 19.1650054508076, 18.052576044493925, 18.166812510501842, 17.206334155941136, 15.412748695087608, 14.647859460198232, 12.9441857937878, 11.438920658601724, 12.312990866850631, 11.078703379967248, 10.983447338339221, 10.644382818591993, 11.050834110488953, 11.114551372997882, 10.508128252161269, 10.377434184863903, 10.490337828353512, 10.237024607333538, 10.753861841233517, 41.463976195109055, 64.85147280698365, 71.37160529713606, 15.200341176051356, 19.97479414942849, 97.72483540319075, 50.583213604536795, 46.86758761677696, 106.99828163674326, 22.358406573622936, 216.91521741355115, 100.5059477133637, 117.36591645494366, 1433.963460361906, 1039.072287872992, 206.79809850176767, 41.217087342114624, 903.2157494218426, 109.14924538073018, 795.3427858905803, 241.5470875968598, 52.37196672525086, 524.3516491894663, 578.2192231142297, 196.68937301363445, 743.9403129765323, 432.94256021325623, 490.1364236172662, 326.85361627643147, 863.3641689115883, 1116.523258051169], \"Category\": [\"Default\", \"Default\", \"Default\", \"Default\", \"Default\", \"Default\", \"Default\", \"Default\", \"Default\", \"Default\", \"Default\", \"Default\", \"Default\", \"Default\", \"Default\", \"Default\", \"Default\", \"Default\", \"Default\", \"Default\", \"Default\", \"Default\", \"Default\", \"Default\", \"Default\", \"Default\", \"Default\", \"Default\", \"Default\", \"Default\", \"Topic1\", \"Topic1\", \"Topic1\", \"Topic1\", \"Topic1\", \"Topic1\", \"Topic1\", \"Topic1\", \"Topic1\", \"Topic1\", \"Topic1\", \"Topic1\", \"Topic1\", \"Topic1\", \"Topic1\", \"Topic1\", \"Topic1\", \"Topic1\", \"Topic1\", \"Topic1\", \"Topic1\", \"Topic1\", \"Topic1\", \"Topic1\", \"Topic1\", \"Topic1\", \"Topic1\", \"Topic1\", \"Topic1\", \"Topic1\", \"Topic1\", \"Topic1\", \"Topic1\", \"Topic1\", \"Topic1\", \"Topic1\", \"Topic1\", \"Topic1\", \"Topic1\", \"Topic1\", \"Topic1\", \"Topic1\", \"Topic1\", \"Topic1\", \"Topic1\", \"Topic1\", \"Topic1\", \"Topic1\", \"Topic1\", \"Topic1\", \"Topic1\", \"Topic1\", \"Topic1\", \"Topic1\", \"Topic1\", \"Topic1\", \"Topic1\", \"Topic1\", \"Topic1\", \"Topic1\", \"Topic1\", \"Topic1\", \"Topic1\", \"Topic1\", \"Topic1\", \"Topic1\", \"Topic1\", \"Topic1\", \"Topic2\", \"Topic2\", \"Topic2\", \"Topic2\", \"Topic2\", \"Topic2\", \"Topic2\", \"Topic2\", \"Topic2\", \"Topic2\", \"Topic2\", \"Topic2\", \"Topic2\", \"Topic2\", \"Topic2\", \"Topic2\", \"Topic2\", \"Topic2\", \"Topic2\", \"Topic2\", \"Topic2\", \"Topic2\", \"Topic2\", \"Topic2\", \"Topic2\", \"Topic2\", \"Topic2\", \"Topic2\", \"Topic2\", \"Topic2\", \"Topic2\", \"Topic2\", \"Topic2\", \"Topic2\", \"Topic2\", \"Topic2\", \"Topic2\", \"Topic2\", \"Topic2\", \"Topic2\", \"Topic2\", \"Topic2\", \"Topic2\", \"Topic2\", \"Topic2\", \"Topic2\", \"Topic2\", \"Topic2\", \"Topic2\", \"Topic2\", \"Topic2\", \"Topic2\", \"Topic2\", \"Topic2\", \"Topic2\", \"Topic2\", \"Topic2\", \"Topic2\", \"Topic2\", \"Topic2\", \"Topic2\", \"Topic2\", \"Topic2\", \"Topic2\", \"Topic3\", \"Topic3\", \"Topic3\", \"Topic3\", \"Topic3\", \"Topic3\", \"Topic3\", \"Topic3\", \"Topic3\", \"Topic3\", \"Topic3\", \"Topic3\", \"Topic3\", \"Topic3\", \"Topic3\", \"Topic3\", \"Topic3\", \"Topic3\", \"Topic3\", \"Topic3\", \"Topic3\", \"Topic3\", \"Topic3\", \"Topic3\", \"Topic3\", \"Topic3\", \"Topic3\", \"Topic3\", \"Topic3\", \"Topic3\", \"Topic3\", \"Topic3\", \"Topic3\", \"Topic3\", \"Topic3\", \"Topic3\", \"Topic3\", \"Topic3\", \"Topic3\", \"Topic3\", \"Topic3\", \"Topic3\", \"Topic3\", \"Topic3\", \"Topic3\", \"Topic3\", \"Topic3\", \"Topic3\", \"Topic3\", \"Topic3\", \"Topic3\", \"Topic3\", \"Topic3\", \"Topic3\", \"Topic3\", \"Topic3\", \"Topic3\", \"Topic3\", \"Topic3\", \"Topic3\", \"Topic3\", \"Topic3\", \"Topic3\", \"Topic3\", \"Topic3\", \"Topic3\", \"Topic3\", \"Topic3\", \"Topic3\", \"Topic3\", \"Topic3\", \"Topic4\", \"Topic4\", \"Topic4\", \"Topic4\", \"Topic4\", \"Topic4\", \"Topic4\", \"Topic4\", \"Topic4\", \"Topic4\", \"Topic4\", \"Topic4\", \"Topic4\", \"Topic4\", \"Topic4\", \"Topic4\", \"Topic4\", \"Topic4\", \"Topic4\", \"Topic4\", \"Topic4\", \"Topic4\", \"Topic4\", \"Topic4\", \"Topic4\", \"Topic4\", \"Topic4\", \"Topic4\", \"Topic4\", \"Topic4\", \"Topic4\", \"Topic4\", \"Topic4\", \"Topic4\", \"Topic4\", \"Topic4\", \"Topic4\", \"Topic4\", \"Topic4\", \"Topic4\", \"Topic4\", \"Topic4\", \"Topic4\", \"Topic4\", \"Topic4\", \"Topic4\", \"Topic4\", \"Topic4\", \"Topic4\", \"Topic4\", \"Topic4\", \"Topic4\", \"Topic4\", \"Topic4\", \"Topic4\", \"Topic4\", \"Topic4\", \"Topic4\", \"Topic4\", \"Topic4\", \"Topic4\"], \"logprob\": [30.0, 29.0, 28.0, 27.0, 26.0, 25.0, 24.0, 23.0, 22.0, 21.0, 20.0, 19.0, 18.0, 17.0, 16.0, 15.0, 14.0, 13.0, 12.0, 11.0, 10.0, 9.0, 8.0, 7.0, 6.0, 5.0, 4.0, 3.0, 2.0, 1.0, -4.2898, -5.4685, -5.7356, -6.1712, -5.7558, -6.4541, -6.6472, -6.0901, -4.5654, -6.7445, -6.7573, -6.7676, -6.8146, -6.799, -6.9486, -6.9999, -7.0395, -6.8074, -7.1272, -7.161, -7.2178, -5.975, -7.3308, -7.3006, -7.3517, -7.1311, -7.2167, -7.3948, -7.2697, -7.4572, -7.0569, -7.1047, -6.3097, -6.4236, -4.3486, -6.6073, -5.3284, -5.8283, -4.1357, -5.8982, -6.4903, -5.9216, -4.6944, -4.5354, -5.5857, -6.198, -5.1887, -5.3486, -5.7832, -4.8808, -5.6484, -4.8924, -5.6444, -4.9819, -4.917, -5.4049, -5.8517, -5.9003, -5.1419, -5.6474, -5.3104, -5.1803, -5.6657, -5.5342, -5.4993, -5.6179, -5.6732, -5.7504, -4.0895, -4.1137, -4.9929, -5.3272, -5.4906, -5.1471, -6.1112, -3.9893, -6.3638, -6.5544, -6.6208, -6.7124, -6.5971, -6.512, -6.8326, -6.8102, -6.6677, -6.8915, -6.9333, -6.9461, -6.9618, -7.0073, -6.994, -5.4229, -7.0049, -7.1244, -7.106, -7.1348, -7.1519, -7.2469, -7.1721, -5.1566, -5.8942, -5.8999, -6.1285, -5.6254, -6.2609, -4.4517, -5.4016, -5.8372, -6.7465, -5.8047, -6.3856, -6.0137, -4.3772, -6.2158, -5.9406, -5.751, -4.9223, -6.2319, -4.8652, -5.4089, -4.9644, -4.9957, -5.3526, -5.417, -5.1382, -5.1171, -5.3627, -5.309, -5.7187, -5.6811, -5.7643, -5.8033, -4.8478, -4.8824, -5.1272, -5.8839, -5.8547, -6.315, -6.406, -6.4906, -6.5785, -6.8442, -6.8516, -6.8007, -6.8689, -6.8602, -7.0315, -7.1091, -7.006, -7.1637, -7.185, -7.2332, -7.1569, -7.2144, -7.1793, -7.2717, -7.2451, -7.2732, -7.0437, -4.4703, -7.2938, -7.3759, -6.0558, -4.0687, -6.7149, -5.6468, -6.8672, -6.9102, -4.9221, -4.9231, -6.2135, -5.9969, -6.0404, -6.0912, -6.8501, -5.9616, -5.9368, -5.6237, -4.5642, -5.879, -5.3891, -4.6545, -6.1655, -5.3819, -4.7294, -4.9424, -5.047, -5.8655, -5.2069, -5.4525, -5.8678, -5.6571, -5.5667, -5.713, -5.5624, -5.5522, -5.6154, -5.6955, -5.8018, -5.6496, -5.8218, -5.8497, -5.8506, -4.6226, -5.2633, -3.8324, -5.3515, -5.7755, -6.1488, -6.1461, -6.1923, -6.2406, -6.3825, -6.3829, -6.4881, -6.5508, -6.5445, -6.6001, -6.7169, -6.7747, -6.8984, -7.0288, -6.9561, -7.0634, -7.0727, -7.1055, -7.0681, -7.0646, -7.1208, -7.1337, -7.1229, -7.1478, -7.0988, -5.8026, -5.402, -5.3208, -6.7787, -6.5388, -5.1757, -5.7631, -5.8793, -5.2376, -6.5141, -4.8077, -5.4813, -5.3959, -3.8507, -4.0678, -5.1837, -6.2124, -4.7466, -5.7503, -4.9267, -5.5036, -6.1535, -5.4118, -5.4401, -5.7909, -5.507, -5.7029, -5.77, -5.8322, -5.7902, -5.8554], \"loglift\": [30.0, 29.0, 28.0, 27.0, 26.0, 25.0, 24.0, 23.0, 22.0, 21.0, 20.0, 19.0, 18.0, 17.0, 16.0, 15.0, 14.0, 13.0, 12.0, 11.0, 10.0, 9.0, 8.0, 7.0, 6.0, 5.0, 4.0, 3.0, 2.0, 1.0, 0.7931, 0.7929, 0.79, 0.7897, 0.7888, 0.7887, 0.7875, 0.7872, 0.7872, 0.7866, 0.7865, 0.7863, 0.7858, 0.7854, 0.784, 0.784, 0.7836, 0.7827, 0.7825, 0.7822, 0.7812, 0.7797, 0.7794, 0.7787, 0.7785, 0.7782, 0.7781, 0.7781, 0.778, 0.7778, 0.777, 0.7774, 0.7688, 0.7547, 0.6705, 0.7505, 0.6501, 0.6646, 0.4211, 0.6336, 0.702, 0.6202, 0.4519, 0.3436, 0.5276, 0.6314, 0.3742, 0.4058, 0.5116, 0.2007, 0.4431, 0.1716, 0.409, 0.1526, 0.113, 0.2254, 0.4303, 0.4377, -0.0777, 0.2612, -0.0973, -0.3732, 0.1774, -0.0691, -0.2098, 0.0359, 0.1333, 0.1692, 1.0391, 1.0385, 1.0379, 1.0368, 1.0367, 1.036, 1.0337, 1.0323, 1.0318, 1.0308, 1.0302, 1.029, 1.0284, 1.0279, 1.0279, 1.0278, 1.027, 1.0265, 1.0265, 1.0264, 1.0262, 1.0255, 1.0254, 1.0251, 1.024, 1.0239, 1.0238, 1.0234, 1.0222, 1.0215, 1.0203, 0.9763, 0.9706, 0.9686, 0.9792, 0.9436, 0.9792, 0.8599, 0.9023, 0.9037, 1.003, 0.853, 0.9378, 0.8442, 0.4299, 0.8806, 0.7798, 0.703, 0.3672, 0.8662, 0.199, 0.4439, 0.0655, 0.0683, 0.3012, 0.2466, -0.0037, -0.0356, 0.1024, -0.096, 0.4189, 0.3215, 0.0788, -0.1729, 2.2379, 2.2371, 2.2361, 2.2264, 2.2189, 2.2188, 2.2161, 2.2139, 2.2079, 2.2015, 2.2015, 2.2014, 2.1995, 2.1989, 2.1929, 2.1893, 2.1881, 2.1847, 2.1846, 2.1827, 2.1825, 2.1822, 2.1812, 2.1783, 2.1781, 2.1757, 2.1756, 2.1749, 2.1741, 2.17, 2.1239, 1.9668, 2.1361, 2.0475, 2.1468, 2.1455, 1.8976, 1.8814, 2.033, 1.9949, 1.9742, 1.9408, 2.108, 1.7281, 1.5549, 1.3313, 0.6489, 1.4457, 0.9882, 0.2245, 1.5731, 0.7818, 0.0777, 0.0875, 0.0172, 1.0815, -0.0724, 0.354, 0.9949, 0.2515, -0.1016, 0.3968, -0.2729, -0.4707, -0.5514, -0.1326, 0.6393, -1.0928, -0.1582, 0.2879, -0.0961, 2.4137, 2.4086, 2.4081, 2.4075, 2.3967, 2.3937, 2.3937, 2.3918, 2.391, 2.3871, 2.3861, 2.3838, 2.381, 2.381, 2.3796, 2.373, 2.3661, 2.366, 2.3592, 2.3583, 2.3566, 2.3559, 2.3545, 2.3544, 2.3522, 2.3521, 2.3517, 2.3517, 2.3513, 2.351, 2.2976, 2.2509, 2.2364, 2.325, 2.2918, 2.0672, 2.1384, 2.0985, 1.9147, 2.2037, 1.6379, 1.7335, 1.6638, 0.7061, 0.8112, 1.3096, 1.8938, 0.2724, 1.3821, 0.2195, 0.8344, 1.7132, 0.1511, 0.025, 0.7526, -0.2939, 0.0516, -0.1397, 0.2034, -0.726, -1.0484]}, \"token.table\": {\"Topic\": [4, 2, 1, 2, 3, 4, 4, 4, 3, 1, 2, 1, 2, 1, 3, 4, 4, 4, 2, 3, 4, 1, 2, 3, 1, 3, 4, 1, 1, 2, 1, 2, 3, 4, 1, 4, 1, 2, 3, 4, 3, 2, 3, 1, 2, 2, 3, 1, 3, 4, 4, 3, 1, 1, 2, 3, 1, 2, 4, 1, 4, 1, 2, 3, 4, 3, 4, 4, 1, 1, 2, 3, 1, 3, 4, 1, 3, 2, 1, 2, 4, 2, 1, 2, 3, 4, 1, 3, 3, 1, 2, 1, 1, 2, 1, 1, 4, 4, 1, 1, 2, 1, 2, 2, 1, 2, 3, 1, 2, 3, 4, 3, 1, 2, 4, 1, 2, 3, 1, 2, 3, 4, 1, 2, 1, 4, 3, 1, 2, 1, 3, 1, 3, 4, 4, 2, 4, 2, 2, 3, 1, 2, 3, 1, 2, 3, 4, 1, 2, 3, 4, 2, 1, 4, 1, 4, 1, 3, 1, 4, 1, 2, 3, 4, 2, 1, 2, 1, 3, 1, 2, 3, 4, 3, 1, 2, 3, 2, 1, 2, 3, 4, 2, 1, 2, 3, 4, 1, 1, 1, 2, 3, 4, 1, 1, 2, 3, 4, 1, 2, 3, 4, 3, 4, 1, 2, 3, 4, 2, 2, 1, 2, 3, 4, 3, 1, 4, 3, 1, 4, 1, 2, 4, 1, 2, 2, 3, 1, 3, 1, 4, 1, 2, 3, 4, 1, 2, 3, 1, 3, 4, 4, 1, 2, 3, 2, 2, 2, 1, 2, 3, 3, 2, 1, 1, 2, 3, 4, 3, 1, 2, 1, 2, 1, 2, 2, 2, 3, 4, 1, 2, 1, 2, 3, 4, 1, 2, 3, 4, 1, 2, 3, 4, 1, 2, 3, 4, 2, 1, 2, 3, 4, 1, 2, 3, 4, 1, 2, 3, 1, 3, 4, 1, 2, 3, 4, 1, 4, 3, 4, 1, 1, 2, 3, 1, 2, 4, 4, 1, 3, 1, 2, 3, 4, 4, 4, 1, 2, 1, 3, 4, 4, 4, 1, 2, 3, 1, 3, 4, 3, 3, 1, 4, 1, 2, 3, 4, 1, 2, 2, 2, 1, 2, 3, 1, 3, 4, 3, 1, 2, 1, 1, 2, 3, 4, 3, 2, 3, 4, 2, 1, 2, 3, 1, 2, 3, 4, 1, 2, 3, 4, 1, 2, 3, 4, 4, 1, 2, 1, 3, 4, 1, 2, 3, 4, 2, 4, 1, 2, 3, 4, 4, 1, 4, 4, 3, 3, 1, 2, 3, 1, 3, 4, 1, 2, 1, 2, 3, 4, 1, 2, 3, 4, 2, 3, 4, 1, 2, 3, 4, 1, 2, 3, 4, 1, 2, 3], \"Freq\": [0.98800824428544, 0.9938955496487595, 0.03535431762044475, 0.8485036228906739, 0.02651573821533356, 0.07954721464600067, 0.9049090684031218, 0.9732203059134312, 0.9469317014986325, 0.06333379349081145, 0.9288956378652347, 0.9527553524453559, 0.03443694044983214, 0.9935582925639508, 0.06578799702045723, 0.9210319582864013, 0.9616291893526101, 0.9394626415101792, 0.9902129189873928, 0.8778623631854326, 0.06270445451324519, 0.9920393384247062, 0.9388164397651787, 0.05102263259593363, 0.18096750517267313, 0.7104650203075316, 0.11394250325686826, 0.9954070207457161, 0.8640867204358175, 0.13293641852858729, 0.033964579319976325, 0.9679905106193253, 0.9355688847814407, 0.935772304039174, 0.2967515870490086, 0.7060641209097102, 0.5058801043108923, 0.37717167069197055, 0.11527798837172987, 0.0011192037705993192, 0.9054785810012257, 0.984352648076905, 0.013864121803900072, 0.9921454326524096, 0.007726989350875464, 0.9955177973488648, 0.9698877168956571, 0.849291974945869, 0.10050792602909693, 0.050253963014548465, 0.9891382502468833, 0.9290814175561541, 0.993463632465829, 0.9939016022258113, 0.007099297158755794, 0.9925822455281769, 0.753378798179476, 0.1903272753295518, 0.05551212197111928, 0.2372328514715744, 0.751237362993319, 0.5401074570738201, 0.3836277265197227, 0.053001199058645906, 0.025238666218402813, 0.8877446621973293, 0.10444054849380345, 0.9943952758380714, 0.9855700571976896, 0.9593241120836733, 0.0287797233625102, 0.009593241120836734, 0.046259550788134755, 0.10793895183898108, 0.8480917644491371, 0.9916146380055372, 0.9579475363238431, 0.9915777405458236, 0.09603267751548837, 0.872296820765686, 0.03201089250516279, 0.9711098249458233, 0.6767641413116692, 0.13165718790022235, 0.09701055950542699, 0.0947007842791073, 0.10219611118030829, 0.9197650006227747, 0.9362028660047417, 0.9971998582313145, 0.001180118175421674, 0.9851607470005116, 0.914481581581703, 0.08755674717271623, 0.9763578181287799, 0.5393812448710699, 0.4563995148909053, 0.9732056023908229, 0.9965256128626343, 0.6790364782118058, 0.3177143154935972, 0.9723302035358687, 0.0173630393488548, 0.9848882722191208, 0.10829124735075896, 0.8321327428005688, 0.05699539334250471, 0.23364861208588783, 0.1495351117349682, 0.018691888966871024, 0.6074863914233083, 0.9160182725032279, 0.03575422635812017, 0.9385484419006545, 0.017877113179060086, 0.13044089585402993, 0.4680526262997544, 0.39899568143585623, 0.3530013115636845, 0.14990466655444135, 0.16924720417436928, 0.32882313953877457, 0.08866296615589542, 0.9074915359485767, 0.9842850043138767, 0.9900501772036041, 0.9754213401017983, 0.9938339208953377, 0.004994140306006723, 0.9871058302702339, 0.994986871158674, 0.47039076535707197, 0.5039901057397199, 0.016799670191323997, 0.984778531183476, 0.9987492697686421, 0.975832349248141, 0.999336643683062, 0.9868852980198211, 0.943716274780278, 0.020890212167201258, 0.8216816785765829, 0.16015829328187633, 0.40997912692711047, 0.3212623322478013, 0.20297327267538912, 0.06586549908009316, 0.4181317837814598, 0.4308726414590112, 0.1077181603647528, 0.04285561218812746, 0.9849982413936474, 0.8824026823161217, 0.11735844959285936, 0.17890362565993198, 0.8050663154696939, 0.9948481935770982, 0.8989871069263544, 0.9924729847523961, 0.9885450642287781, 0.5515246100028415, 0.3405782313906436, 0.06599439777811779, 0.041246498611323616, 0.9984871044576554, 0.9889935272568434, 0.019392029946212617, 0.06014347947893621, 0.9021521921840431, 0.8797869686739612, 0.1111818696675885, 0.009667988666746827, 0.9270571506907035, 0.9300533496453033, 0.09910794618356195, 0.8733887757426396, 0.024776986545890486, 0.9867140963595032, 0.6812772746533243, 0.061009905192835015, 0.07117822272497419, 0.18811387434457463, 0.9849385372995372, 0.29138637402121553, 0.5387259705741078, 0.14230497335919828, 0.027105709211275864, 0.9969739371803645, 0.9917017058866399, 0.46786340493537215, 0.4783067845098224, 0.027152786893570705, 0.027152786893570705, 0.9840423833731011, 0.5701164970204519, 0.18454638053841216, 0.15818261189006755, 0.08568224810711993, 0.5651487762441861, 0.2978762502947696, 0.059167200401015876, 0.0775294350082277, 0.1541229170088654, 0.82665928213846, 0.31078618156657994, 0.5436519083888012, 0.11464158858940124, 0.0313473093799144, 0.9701668309472447, 0.9807049711175069, 0.5361661322204235, 0.378674568544446, 0.061375388785491244, 0.024318550273496532, 0.9214057049572405, 0.9846729851175187, 0.9557710488717739, 0.9744905398249558, 0.9807776883814577, 0.9847949768017434, 0.4434690009160793, 0.5505132425165122, 0.005097344838115854, 0.06310005618195849, 0.9324786080222754, 0.9894160363008699, 0.9591119409853446, 0.21639591423937735, 0.7790252912617585, 0.3881885167478, 0.5822827751217, 0.7020999905305907, 0.2620741900137228, 0.03235483827329911, 0.003235483827329911, 0.09643036023572173, 0.0803586335297681, 0.8196580620036347, 0.01599659178650357, 0.5918738961006321, 0.3839182028760857, 0.978164194878441, 0.15278554163998798, 0.8351287373137207, 0.010383483412426366, 0.9936714949448991, 0.986766095895869, 0.9916216274754331, 0.5641121797534103, 0.1507169945906058, 0.2842091897994281, 0.9600333002749277, 0.9880416439055887, 0.9743220304678353, 0.22389534562804883, 0.4617841503578507, 0.28686591158593755, 0.027986918203506104, 0.9967968257858845, 0.9860317406639767, 0.01256091389380862, 0.22453904596470914, 0.7707151037167044, 0.0012648327498325836, 0.9992178723677411, 0.9943131567911454, 0.9927444847417629, 0.9242137446740464, 0.9516442662320229, 0.979352077020684, 0.018478341075861965, 0.5321187486315269, 0.20867401907118702, 0.23301932129615882, 0.027823202542824936, 0.6928695077251483, 0.2035548836254673, 0.02348710195678469, 0.07829033985594896, 0.6361443835183827, 0.030796702379104757, 0.13281077900988927, 0.20017856546418092, 0.5874558969396982, 0.2667804302616061, 0.13743234286203948, 0.010779007283297216, 0.9787061296575653, 0.4219852786730972, 0.3908552171316392, 0.0951196324877883, 0.09166073676095964, 0.5340410857376048, 0.3051663347072027, 0.10626327726411523, 0.051769288923543315, 0.5186442924522833, 0.2799761224742414, 0.20194998998142002, 0.05687176549708695, 0.8530764824563043, 0.05687176549708695, 0.515820981618262, 0.2773754335117069, 0.1508533059449634, 0.055961710269905776, 0.09646928170077007, 0.8923408557321232, 0.9344135992620393, 0.06191897344507489, 0.9894292486449515, 0.9941000777188456, 0.24778344175382203, 0.743350325261466, 0.1493569512738105, 0.12802024394898043, 0.7254480490442223, 0.9392118382748225, 0.02348291259719106, 0.9862823290820245, 0.2836046676950602, 0.7159855545088405, 0.9649320868390225, 0.9903690364313132, 0.9026327050223419, 0.9532581470323848, 0.8375070128135734, 0.15734980240739865, 0.0037554706357866775, 0.007510941271573355, 0.9876887772118962, 0.9636293347526682, 0.976846338030316, 0.76386766064379, 0.20502075740222936, 0.02645429127770701, 0.13155736347623398, 0.7587494451652564, 0.11014104849173077, 0.9709001640027072, 0.9526422848589424, 0.4964487993433373, 0.4964487993433373, 0.4489266034692232, 0.018323534835478498, 0.18323534835478497, 0.3573089292918307, 0.0035458720627056274, 0.9963900496202812, 0.9763645292760031, 0.9919892207942183, 0.15050894438007523, 0.8410793950651262, 0.9311697748846428, 0.5937106130862242, 0.31207865559660497, 0.09134009432095756, 0.9508771979082316, 0.8459193282179853, 0.14888180176636542, 0.9767104290563007, 0.4068254512647167, 0.07874040992220324, 0.4986892628406205, 0.01312340165370054, 0.9673974706559045, 0.16749208306736255, 0.809545068158919, 0.9745804353925679, 0.9834460429413325, 0.3886537491503295, 0.16656589249299836, 0.45528010614752884, 0.44996156620432426, 0.4884451212086415, 0.04736437538992887, 0.014801367309352772, 0.40286442350715135, 0.45137689335356224, 0.09069722623459428, 0.0548401833046384, 0.5256318440466605, 0.35166385783736387, 0.09816764936096024, 0.0236099409855474, 0.9104609592922284, 0.006659737948224116, 0.9923009542853933, 0.9956336713470362, 0.10012618828701286, 0.9011356945831158, 0.6560482846420893, 0.14684801720186302, 0.09344873821936737, 0.10298432375195589, 0.9784707697918782, 0.941693858987235, 0.6876046895582344, 0.09623676182458048, 0.035565759804736266, 0.18061827038091552, 0.899721425040545, 0.48753333623344114, 0.5074326560797041, 0.9298985004305165, 0.9381233145781203, 0.94401817598451, 0.9966283981802437, 0.8982688921676172, 0.08871791527581403, 0.511221671608842, 0.0170407223869614, 0.46861986564143854, 0.9925179999107621, 0.005089835896978267, 0.23103545140113763, 0.05940911607457825, 0.6931063542034129, 0.013202025794350722, 0.6996565418418941, 0.07865961121299402, 0.016559918150104002, 0.20699897687630003, 0.06641915256776489, 0.7527503957680021, 0.15497802265811808, 0.709128202336637, 0.16848081403033574, 0.011315875569201654, 0.1106441166766384, 0.3656359091759238, 0.5107295239282745, 0.0812524242613164, 0.043528084425705216, 0.053960587425323815, 0.9375652065150013, 0.006745073428165477], \"Term\": [\"acne\", \"adult\", \"age\", \"age\", \"age\", \"age\", \"allergic\", \"allergy\", \"angel\", \"baby\", \"baby\", \"bag\", \"bag\", \"bark\", \"beat\", \"beat\", \"bikini\", \"bikini area\", \"birthday\", \"blend\", \"blend\", \"blow\", \"board\", \"board\", \"bottle\", \"bottle\", \"bottle\", \"bowl\", \"box\", \"box\", \"boy\", \"boy\", \"boyfriend\", \"breakout\", \"brush\", \"brush\", \"buy\", \"buy\", \"buy\", \"buy\", \"buy bottle\", \"card\", \"card\", \"cat\", \"cat\", \"child\", \"citrus\", \"clean\", \"clean\", \"clean\", \"cleanser\", \"clothe\", \"clump\", \"collar\", \"collar\", \"cologne\", \"color\", \"color\", \"color\", \"comb\", \"comb\", \"come\", \"come\", \"come\", \"come\", \"compliment\", \"compliment\", \"conditioner\", \"container\", \"cover\", \"cover\", \"cover\", \"cream\", \"cream\", \"cream\", \"curl\", \"customer service\", \"cute\", \"daughter\", \"daughter\", \"daughter\", \"daughter love\", \"day\", \"day\", \"day\", \"day\", \"delivery\", \"delivery\", \"discontinue\", \"dog\", \"dog\", \"dog love\", \"door\", \"door\", \"drink\", \"dry\", \"dry\", \"dry skin\", \"dryer\", \"easy\", \"easy\", \"eat\", \"eat\", \"educational\", \"enjoy\", \"enjoy\", \"enjoy\", \"face\", \"face\", \"face\", \"face\", \"fake\", \"family\", \"family\", \"family\", \"favorite\", \"favorite\", \"favorite\", \"feel\", \"feel\", \"feel\", \"feel\", \"figure\", \"figure\", \"flat\", \"flea\", \"floral\", \"food\", \"food\", \"fountain\", \"fragrance\", \"fresh\", \"fresh\", \"fresh\", \"frontline\", \"fun\", \"furminator\", \"game\", \"game play\", \"gate\", \"gift\", \"gift\", \"gift\", \"good\", \"good\", \"good\", \"good\", \"great\", \"great\", \"great\", \"great\", \"great toy\", \"hair\", \"hair\", \"hair feel\", \"hair feel\", \"heat\", \"incense\", \"iron\", \"irritate\", \"just\", \"just\", \"just\", \"just\", \"kid\", \"lab\", \"lab\", \"lady\", \"lady\", \"large\", \"large\", \"large\", \"lather\", \"lavender\", \"learn\", \"learn\", \"learn\", \"leash\", \"leave\", \"leave\", \"leave\", \"leave\", \"letter\", \"like\", \"like\", \"like\", \"like\", \"litter\", \"litter box\", \"little\", \"little\", \"little\", \"little\", \"local\", \"long\", \"long\", \"long\", \"long\", \"look\", \"look\", \"look\", \"look\", \"lotion\", \"lotion\", \"love\", \"love\", \"love\", \"love\", \"love play\", \"love toy\", \"make\", \"make\", \"make\", \"make\", \"make feel\", \"make sure\", \"makeup\", \"man\", \"medium\", \"moisturizer\", \"month\", \"month\", \"month\", \"month old\", \"month old\", \"music\", \"musk\", \"nail\", \"nail\", \"natural\", \"natural\", \"need\", \"need\", \"need\", \"need\", \"note\", \"note\", \"note\", \"oil\", \"oil\", \"oil\", \"oily\", \"old\", \"old\", \"old\", \"old daughter\", \"old love\", \"old son\", \"order\", \"order\", \"order\", \"overpower\", \"parent\", \"paw\", \"people\", \"people\", \"people\", \"people\", \"perfume\", \"pet\", \"pet\", \"piece\", \"piece\", \"play\", \"play\", \"play game\", \"player\", \"pleasantly\", \"pore\", \"pound\", \"pound\", \"price\", \"price\", \"price\", \"price\", \"problem\", \"problem\", \"problem\", \"problem\", \"product\", \"product\", \"product\", \"product\", \"purchase\", \"purchase\", \"purchase\", \"purchase\", \"quot\", \"really\", \"really\", \"really\", \"really\", \"recommend\", \"recommend\", \"recommend\", \"recommend\", \"review\", \"review\", \"review\", \"sample\", \"sample\", \"sample\", \"say\", \"say\", \"say\", \"say\", \"scalp\", \"scalp\", \"scent\", \"scent\", \"scoop\", \"scratch\", \"seat\", \"seat\", \"sensitive\", \"sensitive\", \"sensitive\", \"sensitive skin\", \"service\", \"service\", \"set\", \"set\", \"sexy\", \"shampoo\", \"shampoo conditioner\", \"shedding\", \"size\", \"size\", \"skin\", \"skin\", \"skin\", \"skin dry\", \"skin feel\", \"small\", \"small\", \"small\", \"smell\", \"smell\", \"smell\", \"smell good\", \"smell great\", \"smooth\", \"smooth\", \"soft\", \"soft\", \"soft\", \"soft\", \"son\", \"son\", \"son love\", \"song\", \"sound\", \"sound\", \"spice\", \"spray\", \"spray\", \"spray\", \"stock\", \"stop\", \"stop\", \"straight\", \"strong\", \"strong\", \"strong\", \"strong\", \"subtle\", \"sweet\", \"sweet\", \"tea\", \"teach\", \"thank\", \"thank\", \"thank\", \"thing\", \"thing\", \"thing\", \"thing\", \"think\", \"think\", \"think\", \"think\", \"time\", \"time\", \"time\", \"time\", \"toner\", \"toy\", \"toy\", \"treat\", \"treatment\", \"treatment\", \"try\", \"try\", \"try\", \"try\", \"tv\", \"undercoat\", \"use\", \"use\", \"use\", \"use\", \"use frontline\", \"use product\", \"use product\", \"use shampoo\", \"vanilla\", \"vendor\", \"vet\", \"walk\", \"walk\", \"wash\", \"wash\", \"wash\", \"water\", \"water\", \"wear\", \"wear\", \"wear\", \"wear\", \"week\", \"week\", \"week\", \"week\", \"woman\", \"woman\", \"woman\", \"work\", \"work\", \"work\", \"work\", \"year\", \"year\", \"year\", \"year\", \"year old\", \"year old\", \"year old\"]}, \"R\": 30, \"lambda.step\": 0.01, \"plot.opts\": {\"xlab\": \"PC1\", \"ylab\": \"PC2\"}, \"topic.order\": [3, 1, 4, 2]};\n",
              "\n",
              "function LDAvis_load_lib(url, callback){\n",
              "  var s = document.createElement('script');\n",
              "  s.src = url;\n",
              "  s.async = true;\n",
              "  s.onreadystatechange = s.onload = callback;\n",
              "  s.onerror = function(){console.warn(\"failed to load library \" + url);};\n",
              "  document.getElementsByTagName(\"head\")[0].appendChild(s);\n",
              "}\n",
              "\n",
              "if(typeof(LDAvis) !== \"undefined\"){\n",
              "   // already loaded: just create the visualization\n",
              "   !function(LDAvis){\n",
              "       new LDAvis(\"#\" + \"ldavis_el6031401981073804328087292891\", ldavis_el6031401981073804328087292891_data);\n",
              "   }(LDAvis);\n",
              "}else if(typeof define === \"function\" && define.amd){\n",
              "   // require.js is available: use it to load d3/LDAvis\n",
              "   require.config({paths: {d3: \"https://d3js.org/d3.v5\"}});\n",
              "   require([\"d3\"], function(d3){\n",
              "      window.d3 = d3;\n",
              "      LDAvis_load_lib(\"https://cdn.jsdelivr.net/gh/bmabey/pyLDAvis@3.3.1/pyLDAvis/js/ldavis.v3.0.0.js\", function(){\n",
              "        new LDAvis(\"#\" + \"ldavis_el6031401981073804328087292891\", ldavis_el6031401981073804328087292891_data);\n",
              "      });\n",
              "    });\n",
              "}else{\n",
              "    // require.js not available: dynamically load d3 & LDAvis\n",
              "    LDAvis_load_lib(\"https://d3js.org/d3.v5.js\", function(){\n",
              "         LDAvis_load_lib(\"https://cdn.jsdelivr.net/gh/bmabey/pyLDAvis@3.3.1/pyLDAvis/js/ldavis.v3.0.0.js\", function(){\n",
              "                 new LDAvis(\"#\" + \"ldavis_el6031401981073804328087292891\", ldavis_el6031401981073804328087292891_data);\n",
              "            })\n",
              "         });\n",
              "}\n",
              "</script>"
            ]
          },
          "metadata": {},
          "execution_count": 17
        }
      ]
    },
    {
      "cell_type": "markdown",
      "source": [
        "**Mapping the topics against the reviews**"
      ],
      "metadata": {
        "id": "T-SIHwkc9weJ"
      }
    },
    {
      "cell_type": "code",
      "source": [
        "topic_results = lda_model_final.transform(data_vectorized)"
      ],
      "metadata": {
        "id": "uaiiCvJf0d1P"
      },
      "execution_count": 18,
      "outputs": []
    },
    {
      "cell_type": "code",
      "source": [
        "df['Topic'] = topic_results.argmax(axis=1)"
      ],
      "metadata": {
        "id": "zGNvrX_30d3w"
      },
      "execution_count": 19,
      "outputs": []
    },
    {
      "cell_type": "code",
      "source": [
        "df.head()"
      ],
      "metadata": {
        "colab": {
          "base_uri": "https://localhost:8080/",
          "height": 206
        },
        "id": "7a6pGtDo1MAX",
        "outputId": "af98ad44-8fe7-4939-c194-310f633628cf"
      },
      "execution_count": 20,
      "outputs": [
        {
          "output_type": "execute_result",
          "data": {
            "text/plain": [
              "                                                Text  Topic\n",
              "0  I absolutly love this modle. It is soooooooo c...      0\n",
              "1  I love this parfum spray. I was very pleased a...      3\n",
              "2  We love this collar! It's sturdy, convenient, ...      2\n",
              "3  The game that made me the most competitive foo...      0\n",
              "4  Got this for my boyfriend after smelling it in...      3"
            ],
            "text/html": [
              "\n",
              "  <div id=\"df-8f2e8615-fc05-46d8-8464-7aa7c4b52869\">\n",
              "    <div class=\"colab-df-container\">\n",
              "      <div>\n",
              "<style scoped>\n",
              "    .dataframe tbody tr th:only-of-type {\n",
              "        vertical-align: middle;\n",
              "    }\n",
              "\n",
              "    .dataframe tbody tr th {\n",
              "        vertical-align: top;\n",
              "    }\n",
              "\n",
              "    .dataframe thead th {\n",
              "        text-align: right;\n",
              "    }\n",
              "</style>\n",
              "<table border=\"1\" class=\"dataframe\">\n",
              "  <thead>\n",
              "    <tr style=\"text-align: right;\">\n",
              "      <th></th>\n",
              "      <th>Text</th>\n",
              "      <th>Topic</th>\n",
              "    </tr>\n",
              "  </thead>\n",
              "  <tbody>\n",
              "    <tr>\n",
              "      <th>0</th>\n",
              "      <td>I absolutly love this modle. It is soooooooo c...</td>\n",
              "      <td>0</td>\n",
              "    </tr>\n",
              "    <tr>\n",
              "      <th>1</th>\n",
              "      <td>I love this parfum spray. I was very pleased a...</td>\n",
              "      <td>3</td>\n",
              "    </tr>\n",
              "    <tr>\n",
              "      <th>2</th>\n",
              "      <td>We love this collar! It's sturdy, convenient, ...</td>\n",
              "      <td>2</td>\n",
              "    </tr>\n",
              "    <tr>\n",
              "      <th>3</th>\n",
              "      <td>The game that made me the most competitive foo...</td>\n",
              "      <td>0</td>\n",
              "    </tr>\n",
              "    <tr>\n",
              "      <th>4</th>\n",
              "      <td>Got this for my boyfriend after smelling it in...</td>\n",
              "      <td>3</td>\n",
              "    </tr>\n",
              "  </tbody>\n",
              "</table>\n",
              "</div>\n",
              "      <button class=\"colab-df-convert\" onclick=\"convertToInteractive('df-8f2e8615-fc05-46d8-8464-7aa7c4b52869')\"\n",
              "              title=\"Convert this dataframe to an interactive table.\"\n",
              "              style=\"display:none;\">\n",
              "        \n",
              "  <svg xmlns=\"http://www.w3.org/2000/svg\" height=\"24px\"viewBox=\"0 0 24 24\"\n",
              "       width=\"24px\">\n",
              "    <path d=\"M0 0h24v24H0V0z\" fill=\"none\"/>\n",
              "    <path d=\"M18.56 5.44l.94 2.06.94-2.06 2.06-.94-2.06-.94-.94-2.06-.94 2.06-2.06.94zm-11 1L8.5 8.5l.94-2.06 2.06-.94-2.06-.94L8.5 2.5l-.94 2.06-2.06.94zm10 10l.94 2.06.94-2.06 2.06-.94-2.06-.94-.94-2.06-.94 2.06-2.06.94z\"/><path d=\"M17.41 7.96l-1.37-1.37c-.4-.4-.92-.59-1.43-.59-.52 0-1.04.2-1.43.59L10.3 9.45l-7.72 7.72c-.78.78-.78 2.05 0 2.83L4 21.41c.39.39.9.59 1.41.59.51 0 1.02-.2 1.41-.59l7.78-7.78 2.81-2.81c.8-.78.8-2.07 0-2.86zM5.41 20L4 18.59l7.72-7.72 1.47 1.35L5.41 20z\"/>\n",
              "  </svg>\n",
              "      </button>\n",
              "      \n",
              "  <style>\n",
              "    .colab-df-container {\n",
              "      display:flex;\n",
              "      flex-wrap:wrap;\n",
              "      gap: 12px;\n",
              "    }\n",
              "\n",
              "    .colab-df-convert {\n",
              "      background-color: #E8F0FE;\n",
              "      border: none;\n",
              "      border-radius: 50%;\n",
              "      cursor: pointer;\n",
              "      display: none;\n",
              "      fill: #1967D2;\n",
              "      height: 32px;\n",
              "      padding: 0 0 0 0;\n",
              "      width: 32px;\n",
              "    }\n",
              "\n",
              "    .colab-df-convert:hover {\n",
              "      background-color: #E2EBFA;\n",
              "      box-shadow: 0px 1px 2px rgba(60, 64, 67, 0.3), 0px 1px 3px 1px rgba(60, 64, 67, 0.15);\n",
              "      fill: #174EA6;\n",
              "    }\n",
              "\n",
              "    [theme=dark] .colab-df-convert {\n",
              "      background-color: #3B4455;\n",
              "      fill: #D2E3FC;\n",
              "    }\n",
              "\n",
              "    [theme=dark] .colab-df-convert:hover {\n",
              "      background-color: #434B5C;\n",
              "      box-shadow: 0px 1px 3px 1px rgba(0, 0, 0, 0.15);\n",
              "      filter: drop-shadow(0px 1px 2px rgba(0, 0, 0, 0.3));\n",
              "      fill: #FFFFFF;\n",
              "    }\n",
              "  </style>\n",
              "\n",
              "      <script>\n",
              "        const buttonEl =\n",
              "          document.querySelector('#df-8f2e8615-fc05-46d8-8464-7aa7c4b52869 button.colab-df-convert');\n",
              "        buttonEl.style.display =\n",
              "          google.colab.kernel.accessAllowed ? 'block' : 'none';\n",
              "\n",
              "        async function convertToInteractive(key) {\n",
              "          const element = document.querySelector('#df-8f2e8615-fc05-46d8-8464-7aa7c4b52869');\n",
              "          const dataTable =\n",
              "            await google.colab.kernel.invokeFunction('convertToInteractive',\n",
              "                                                     [key], {});\n",
              "          if (!dataTable) return;\n",
              "\n",
              "          const docLinkHtml = 'Like what you see? Visit the ' +\n",
              "            '<a target=\"_blank\" href=https://colab.research.google.com/notebooks/data_table.ipynb>data table notebook</a>'\n",
              "            + ' to learn more about interactive tables.';\n",
              "          element.innerHTML = '';\n",
              "          dataTable['output_type'] = 'display_data';\n",
              "          await google.colab.output.renderOutput(dataTable, element);\n",
              "          const docLink = document.createElement('div');\n",
              "          docLink.innerHTML = docLinkHtml;\n",
              "          element.appendChild(docLink);\n",
              "        }\n",
              "      </script>\n",
              "    </div>\n",
              "  </div>\n",
              "  "
            ]
          },
          "metadata": {},
          "execution_count": 20
        }
      ]
    },
    {
      "cell_type": "code",
      "source": [
        "# Checking the top 15 words of each topic to compare and map the results according to the above visualization\n",
        "for index,topic in enumerate(lda_model_final.components_):\n",
        "    print(f'THE TOP 15 WORDS FOR TOPIC #{index}')\n",
        "    print([vectorizer.get_feature_names()[i] for i in topic.argsort()[-15:]])\n",
        "    print('\\n')"
      ],
      "metadata": {
        "colab": {
          "base_uri": "https://localhost:8080/"
        },
        "id": "h_7ER9Kd3K5Q",
        "outputId": "a0242297-bb08-4d4a-c721-23e5da3f257e"
      },
      "execution_count": 21,
      "outputs": [
        {
          "output_type": "stream",
          "name": "stdout",
          "text": [
            "THE TOP 15 WORDS FOR TOPIC #0\n",
            "['good', 'year old', 'son', 'time', 'just', 'make', 'fun', 'buy', 'year', 'great', 'old', 'love', 'play', 'game', 'toy']\n",
            "\n",
            "\n",
            "THE TOP 15 WORDS FOR TOPIC #1\n"
          ]
        },
        {
          "output_type": "stream",
          "name": "stderr",
          "text": [
            "/usr/local/lib/python3.7/dist-packages/sklearn/utils/deprecation.py:87: FutureWarning: Function get_feature_names is deprecated; get_feature_names is deprecated in 1.0 and will be removed in 1.2. Please use get_feature_names_out instead.\n",
            "  warnings.warn(msg, category=FutureWarning)\n"
          ]
        },
        {
          "output_type": "stream",
          "name": "stdout",
          "text": [
            "['cream', 'wash', 'conditioner', 'lotion', 'flea', 'face', 'feel', 'brush', 'work', 'dry', 'hair', 'shampoo', 'product', 'use', 'skin']\n",
            "\n",
            "\n",
            "THE TOP 15 WORDS FOR TOPIC #2\n",
            "['box', 'good', 'try', 'love', 'great', 'time', 'buy', 'make', 'just', 'work', 'cat', 'product', 'hair', 'dog', 'use']\n",
            "\n",
            "\n",
            "THE TOP 15 WORDS FOR TOPIC #3\n",
            "['order', 'price', 'time', 'cologne', 'great', 'buy', 'wear', 'bottle', 'fragrance', 'perfume', 'love', 'product', 'good', 'scent', 'smell']\n",
            "\n",
            "\n"
          ]
        }
      ]
    },
    {
      "cell_type": "code",
      "source": [
        "# Numbering the model topics based on the visualization\n",
        "visual_topics = {0:2, 1:4, 2:1, 3:3}"
      ],
      "metadata": {
        "id": "DmMsNtLk3ZW3"
      },
      "execution_count": 22,
      "outputs": []
    },
    {
      "cell_type": "code",
      "source": [
        "df['visual_topics'] = df['Topic'].map(visual_topics)"
      ],
      "metadata": {
        "id": "rUfoCJkg4VVh"
      },
      "execution_count": 23,
      "outputs": []
    },
    {
      "cell_type": "code",
      "source": [
        "df.head()"
      ],
      "metadata": {
        "colab": {
          "base_uri": "https://localhost:8080/",
          "height": 206
        },
        "id": "LmpdRWbR4k51",
        "outputId": "896ede29-b5b2-4d00-ebf1-e728fabd279e"
      },
      "execution_count": 24,
      "outputs": [
        {
          "output_type": "execute_result",
          "data": {
            "text/plain": [
              "                                                Text  Topic  visual_topics\n",
              "0  I absolutly love this modle. It is soooooooo c...      0              2\n",
              "1  I love this parfum spray. I was very pleased a...      3              3\n",
              "2  We love this collar! It's sturdy, convenient, ...      2              1\n",
              "3  The game that made me the most competitive foo...      0              2\n",
              "4  Got this for my boyfriend after smelling it in...      3              3"
            ],
            "text/html": [
              "\n",
              "  <div id=\"df-c1731d6d-eb66-421c-808f-8b34086f997b\">\n",
              "    <div class=\"colab-df-container\">\n",
              "      <div>\n",
              "<style scoped>\n",
              "    .dataframe tbody tr th:only-of-type {\n",
              "        vertical-align: middle;\n",
              "    }\n",
              "\n",
              "    .dataframe tbody tr th {\n",
              "        vertical-align: top;\n",
              "    }\n",
              "\n",
              "    .dataframe thead th {\n",
              "        text-align: right;\n",
              "    }\n",
              "</style>\n",
              "<table border=\"1\" class=\"dataframe\">\n",
              "  <thead>\n",
              "    <tr style=\"text-align: right;\">\n",
              "      <th></th>\n",
              "      <th>Text</th>\n",
              "      <th>Topic</th>\n",
              "      <th>visual_topics</th>\n",
              "    </tr>\n",
              "  </thead>\n",
              "  <tbody>\n",
              "    <tr>\n",
              "      <th>0</th>\n",
              "      <td>I absolutly love this modle. It is soooooooo c...</td>\n",
              "      <td>0</td>\n",
              "      <td>2</td>\n",
              "    </tr>\n",
              "    <tr>\n",
              "      <th>1</th>\n",
              "      <td>I love this parfum spray. I was very pleased a...</td>\n",
              "      <td>3</td>\n",
              "      <td>3</td>\n",
              "    </tr>\n",
              "    <tr>\n",
              "      <th>2</th>\n",
              "      <td>We love this collar! It's sturdy, convenient, ...</td>\n",
              "      <td>2</td>\n",
              "      <td>1</td>\n",
              "    </tr>\n",
              "    <tr>\n",
              "      <th>3</th>\n",
              "      <td>The game that made me the most competitive foo...</td>\n",
              "      <td>0</td>\n",
              "      <td>2</td>\n",
              "    </tr>\n",
              "    <tr>\n",
              "      <th>4</th>\n",
              "      <td>Got this for my boyfriend after smelling it in...</td>\n",
              "      <td>3</td>\n",
              "      <td>3</td>\n",
              "    </tr>\n",
              "  </tbody>\n",
              "</table>\n",
              "</div>\n",
              "      <button class=\"colab-df-convert\" onclick=\"convertToInteractive('df-c1731d6d-eb66-421c-808f-8b34086f997b')\"\n",
              "              title=\"Convert this dataframe to an interactive table.\"\n",
              "              style=\"display:none;\">\n",
              "        \n",
              "  <svg xmlns=\"http://www.w3.org/2000/svg\" height=\"24px\"viewBox=\"0 0 24 24\"\n",
              "       width=\"24px\">\n",
              "    <path d=\"M0 0h24v24H0V0z\" fill=\"none\"/>\n",
              "    <path d=\"M18.56 5.44l.94 2.06.94-2.06 2.06-.94-2.06-.94-.94-2.06-.94 2.06-2.06.94zm-11 1L8.5 8.5l.94-2.06 2.06-.94-2.06-.94L8.5 2.5l-.94 2.06-2.06.94zm10 10l.94 2.06.94-2.06 2.06-.94-2.06-.94-.94-2.06-.94 2.06-2.06.94z\"/><path d=\"M17.41 7.96l-1.37-1.37c-.4-.4-.92-.59-1.43-.59-.52 0-1.04.2-1.43.59L10.3 9.45l-7.72 7.72c-.78.78-.78 2.05 0 2.83L4 21.41c.39.39.9.59 1.41.59.51 0 1.02-.2 1.41-.59l7.78-7.78 2.81-2.81c.8-.78.8-2.07 0-2.86zM5.41 20L4 18.59l7.72-7.72 1.47 1.35L5.41 20z\"/>\n",
              "  </svg>\n",
              "      </button>\n",
              "      \n",
              "  <style>\n",
              "    .colab-df-container {\n",
              "      display:flex;\n",
              "      flex-wrap:wrap;\n",
              "      gap: 12px;\n",
              "    }\n",
              "\n",
              "    .colab-df-convert {\n",
              "      background-color: #E8F0FE;\n",
              "      border: none;\n",
              "      border-radius: 50%;\n",
              "      cursor: pointer;\n",
              "      display: none;\n",
              "      fill: #1967D2;\n",
              "      height: 32px;\n",
              "      padding: 0 0 0 0;\n",
              "      width: 32px;\n",
              "    }\n",
              "\n",
              "    .colab-df-convert:hover {\n",
              "      background-color: #E2EBFA;\n",
              "      box-shadow: 0px 1px 2px rgba(60, 64, 67, 0.3), 0px 1px 3px 1px rgba(60, 64, 67, 0.15);\n",
              "      fill: #174EA6;\n",
              "    }\n",
              "\n",
              "    [theme=dark] .colab-df-convert {\n",
              "      background-color: #3B4455;\n",
              "      fill: #D2E3FC;\n",
              "    }\n",
              "\n",
              "    [theme=dark] .colab-df-convert:hover {\n",
              "      background-color: #434B5C;\n",
              "      box-shadow: 0px 1px 3px 1px rgba(0, 0, 0, 0.15);\n",
              "      filter: drop-shadow(0px 1px 2px rgba(0, 0, 0, 0.3));\n",
              "      fill: #FFFFFF;\n",
              "    }\n",
              "  </style>\n",
              "\n",
              "      <script>\n",
              "        const buttonEl =\n",
              "          document.querySelector('#df-c1731d6d-eb66-421c-808f-8b34086f997b button.colab-df-convert');\n",
              "        buttonEl.style.display =\n",
              "          google.colab.kernel.accessAllowed ? 'block' : 'none';\n",
              "\n",
              "        async function convertToInteractive(key) {\n",
              "          const element = document.querySelector('#df-c1731d6d-eb66-421c-808f-8b34086f997b');\n",
              "          const dataTable =\n",
              "            await google.colab.kernel.invokeFunction('convertToInteractive',\n",
              "                                                     [key], {});\n",
              "          if (!dataTable) return;\n",
              "\n",
              "          const docLinkHtml = 'Like what you see? Visit the ' +\n",
              "            '<a target=\"_blank\" href=https://colab.research.google.com/notebooks/data_table.ipynb>data table notebook</a>'\n",
              "            + ' to learn more about interactive tables.';\n",
              "          element.innerHTML = '';\n",
              "          dataTable['output_type'] = 'display_data';\n",
              "          await google.colab.output.renderOutput(dataTable, element);\n",
              "          const docLink = document.createElement('div');\n",
              "          docLink.innerHTML = docLinkHtml;\n",
              "          element.appendChild(docLink);\n",
              "        }\n",
              "      </script>\n",
              "    </div>\n",
              "  </div>\n",
              "  "
            ]
          },
          "metadata": {},
          "execution_count": 24
        }
      ]
    },
    {
      "cell_type": "code",
      "source": [
        "# Labeling the topics based on the top words\n",
        "topic_names = {1:'Pet_care', 2:'Kids_games', 3:'Perfumes', 4:'Hair_products'}"
      ],
      "metadata": {
        "id": "VtxlORJO4mQY"
      },
      "execution_count": 25,
      "outputs": []
    },
    {
      "cell_type": "code",
      "source": [
        "df['topic_names'] = df['visual_topics'].map(topic_names)"
      ],
      "metadata": {
        "id": "pcAkMs4F5J8W"
      },
      "execution_count": 26,
      "outputs": []
    },
    {
      "cell_type": "code",
      "source": [
        "df.head()"
      ],
      "metadata": {
        "colab": {
          "base_uri": "https://localhost:8080/",
          "height": 206
        },
        "id": "yRGfdaZc5UuH",
        "outputId": "40dea8ad-2805-4c88-89f1-088e76fec102"
      },
      "execution_count": 27,
      "outputs": [
        {
          "output_type": "execute_result",
          "data": {
            "text/plain": [
              "                                                Text  Topic  visual_topics  \\\n",
              "0  I absolutly love this modle. It is soooooooo c...      0              2   \n",
              "1  I love this parfum spray. I was very pleased a...      3              3   \n",
              "2  We love this collar! It's sturdy, convenient, ...      2              1   \n",
              "3  The game that made me the most competitive foo...      0              2   \n",
              "4  Got this for my boyfriend after smelling it in...      3              3   \n",
              "\n",
              "  topic_names  \n",
              "0  Kids_games  \n",
              "1    Perfumes  \n",
              "2    Pet_care  \n",
              "3  Kids_games  \n",
              "4    Perfumes  "
            ],
            "text/html": [
              "\n",
              "  <div id=\"df-3429bee4-f2fb-4712-8bce-eb32996aec1a\">\n",
              "    <div class=\"colab-df-container\">\n",
              "      <div>\n",
              "<style scoped>\n",
              "    .dataframe tbody tr th:only-of-type {\n",
              "        vertical-align: middle;\n",
              "    }\n",
              "\n",
              "    .dataframe tbody tr th {\n",
              "        vertical-align: top;\n",
              "    }\n",
              "\n",
              "    .dataframe thead th {\n",
              "        text-align: right;\n",
              "    }\n",
              "</style>\n",
              "<table border=\"1\" class=\"dataframe\">\n",
              "  <thead>\n",
              "    <tr style=\"text-align: right;\">\n",
              "      <th></th>\n",
              "      <th>Text</th>\n",
              "      <th>Topic</th>\n",
              "      <th>visual_topics</th>\n",
              "      <th>topic_names</th>\n",
              "    </tr>\n",
              "  </thead>\n",
              "  <tbody>\n",
              "    <tr>\n",
              "      <th>0</th>\n",
              "      <td>I absolutly love this modle. It is soooooooo c...</td>\n",
              "      <td>0</td>\n",
              "      <td>2</td>\n",
              "      <td>Kids_games</td>\n",
              "    </tr>\n",
              "    <tr>\n",
              "      <th>1</th>\n",
              "      <td>I love this parfum spray. I was very pleased a...</td>\n",
              "      <td>3</td>\n",
              "      <td>3</td>\n",
              "      <td>Perfumes</td>\n",
              "    </tr>\n",
              "    <tr>\n",
              "      <th>2</th>\n",
              "      <td>We love this collar! It's sturdy, convenient, ...</td>\n",
              "      <td>2</td>\n",
              "      <td>1</td>\n",
              "      <td>Pet_care</td>\n",
              "    </tr>\n",
              "    <tr>\n",
              "      <th>3</th>\n",
              "      <td>The game that made me the most competitive foo...</td>\n",
              "      <td>0</td>\n",
              "      <td>2</td>\n",
              "      <td>Kids_games</td>\n",
              "    </tr>\n",
              "    <tr>\n",
              "      <th>4</th>\n",
              "      <td>Got this for my boyfriend after smelling it in...</td>\n",
              "      <td>3</td>\n",
              "      <td>3</td>\n",
              "      <td>Perfumes</td>\n",
              "    </tr>\n",
              "  </tbody>\n",
              "</table>\n",
              "</div>\n",
              "      <button class=\"colab-df-convert\" onclick=\"convertToInteractive('df-3429bee4-f2fb-4712-8bce-eb32996aec1a')\"\n",
              "              title=\"Convert this dataframe to an interactive table.\"\n",
              "              style=\"display:none;\">\n",
              "        \n",
              "  <svg xmlns=\"http://www.w3.org/2000/svg\" height=\"24px\"viewBox=\"0 0 24 24\"\n",
              "       width=\"24px\">\n",
              "    <path d=\"M0 0h24v24H0V0z\" fill=\"none\"/>\n",
              "    <path d=\"M18.56 5.44l.94 2.06.94-2.06 2.06-.94-2.06-.94-.94-2.06-.94 2.06-2.06.94zm-11 1L8.5 8.5l.94-2.06 2.06-.94-2.06-.94L8.5 2.5l-.94 2.06-2.06.94zm10 10l.94 2.06.94-2.06 2.06-.94-2.06-.94-.94-2.06-.94 2.06-2.06.94z\"/><path d=\"M17.41 7.96l-1.37-1.37c-.4-.4-.92-.59-1.43-.59-.52 0-1.04.2-1.43.59L10.3 9.45l-7.72 7.72c-.78.78-.78 2.05 0 2.83L4 21.41c.39.39.9.59 1.41.59.51 0 1.02-.2 1.41-.59l7.78-7.78 2.81-2.81c.8-.78.8-2.07 0-2.86zM5.41 20L4 18.59l7.72-7.72 1.47 1.35L5.41 20z\"/>\n",
              "  </svg>\n",
              "      </button>\n",
              "      \n",
              "  <style>\n",
              "    .colab-df-container {\n",
              "      display:flex;\n",
              "      flex-wrap:wrap;\n",
              "      gap: 12px;\n",
              "    }\n",
              "\n",
              "    .colab-df-convert {\n",
              "      background-color: #E8F0FE;\n",
              "      border: none;\n",
              "      border-radius: 50%;\n",
              "      cursor: pointer;\n",
              "      display: none;\n",
              "      fill: #1967D2;\n",
              "      height: 32px;\n",
              "      padding: 0 0 0 0;\n",
              "      width: 32px;\n",
              "    }\n",
              "\n",
              "    .colab-df-convert:hover {\n",
              "      background-color: #E2EBFA;\n",
              "      box-shadow: 0px 1px 2px rgba(60, 64, 67, 0.3), 0px 1px 3px 1px rgba(60, 64, 67, 0.15);\n",
              "      fill: #174EA6;\n",
              "    }\n",
              "\n",
              "    [theme=dark] .colab-df-convert {\n",
              "      background-color: #3B4455;\n",
              "      fill: #D2E3FC;\n",
              "    }\n",
              "\n",
              "    [theme=dark] .colab-df-convert:hover {\n",
              "      background-color: #434B5C;\n",
              "      box-shadow: 0px 1px 3px 1px rgba(0, 0, 0, 0.15);\n",
              "      filter: drop-shadow(0px 1px 2px rgba(0, 0, 0, 0.3));\n",
              "      fill: #FFFFFF;\n",
              "    }\n",
              "  </style>\n",
              "\n",
              "      <script>\n",
              "        const buttonEl =\n",
              "          document.querySelector('#df-3429bee4-f2fb-4712-8bce-eb32996aec1a button.colab-df-convert');\n",
              "        buttonEl.style.display =\n",
              "          google.colab.kernel.accessAllowed ? 'block' : 'none';\n",
              "\n",
              "        async function convertToInteractive(key) {\n",
              "          const element = document.querySelector('#df-3429bee4-f2fb-4712-8bce-eb32996aec1a');\n",
              "          const dataTable =\n",
              "            await google.colab.kernel.invokeFunction('convertToInteractive',\n",
              "                                                     [key], {});\n",
              "          if (!dataTable) return;\n",
              "\n",
              "          const docLinkHtml = 'Like what you see? Visit the ' +\n",
              "            '<a target=\"_blank\" href=https://colab.research.google.com/notebooks/data_table.ipynb>data table notebook</a>'\n",
              "            + ' to learn more about interactive tables.';\n",
              "          element.innerHTML = '';\n",
              "          dataTable['output_type'] = 'display_data';\n",
              "          await google.colab.output.renderOutput(dataTable, element);\n",
              "          const docLink = document.createElement('div');\n",
              "          docLink.innerHTML = docLinkHtml;\n",
              "          element.appendChild(docLink);\n",
              "        }\n",
              "      </script>\n",
              "    </div>\n",
              "  </div>\n",
              "  "
            ]
          },
          "metadata": {},
          "execution_count": 27
        }
      ]
    },
    {
      "cell_type": "code",
      "source": [
        "df_submission = df[['Text','topic_names']]"
      ],
      "metadata": {
        "id": "iHpsh3yo5Ye_"
      },
      "execution_count": 28,
      "outputs": []
    },
    {
      "cell_type": "code",
      "source": [
        "df_submission.head()"
      ],
      "metadata": {
        "colab": {
          "base_uri": "https://localhost:8080/",
          "height": 206
        },
        "id": "VhBCg9zX-q8P",
        "outputId": "72739ebb-4c46-40c7-9896-7179854af400"
      },
      "execution_count": 29,
      "outputs": [
        {
          "output_type": "execute_result",
          "data": {
            "text/plain": [
              "                                                Text topic_names\n",
              "0  I absolutly love this modle. It is soooooooo c...  Kids_games\n",
              "1  I love this parfum spray. I was very pleased a...    Perfumes\n",
              "2  We love this collar! It's sturdy, convenient, ...    Pet_care\n",
              "3  The game that made me the most competitive foo...  Kids_games\n",
              "4  Got this for my boyfriend after smelling it in...    Perfumes"
            ],
            "text/html": [
              "\n",
              "  <div id=\"df-0c2b575a-1992-494e-a8d6-738cb14f085f\">\n",
              "    <div class=\"colab-df-container\">\n",
              "      <div>\n",
              "<style scoped>\n",
              "    .dataframe tbody tr th:only-of-type {\n",
              "        vertical-align: middle;\n",
              "    }\n",
              "\n",
              "    .dataframe tbody tr th {\n",
              "        vertical-align: top;\n",
              "    }\n",
              "\n",
              "    .dataframe thead th {\n",
              "        text-align: right;\n",
              "    }\n",
              "</style>\n",
              "<table border=\"1\" class=\"dataframe\">\n",
              "  <thead>\n",
              "    <tr style=\"text-align: right;\">\n",
              "      <th></th>\n",
              "      <th>Text</th>\n",
              "      <th>topic_names</th>\n",
              "    </tr>\n",
              "  </thead>\n",
              "  <tbody>\n",
              "    <tr>\n",
              "      <th>0</th>\n",
              "      <td>I absolutly love this modle. It is soooooooo c...</td>\n",
              "      <td>Kids_games</td>\n",
              "    </tr>\n",
              "    <tr>\n",
              "      <th>1</th>\n",
              "      <td>I love this parfum spray. I was very pleased a...</td>\n",
              "      <td>Perfumes</td>\n",
              "    </tr>\n",
              "    <tr>\n",
              "      <th>2</th>\n",
              "      <td>We love this collar! It's sturdy, convenient, ...</td>\n",
              "      <td>Pet_care</td>\n",
              "    </tr>\n",
              "    <tr>\n",
              "      <th>3</th>\n",
              "      <td>The game that made me the most competitive foo...</td>\n",
              "      <td>Kids_games</td>\n",
              "    </tr>\n",
              "    <tr>\n",
              "      <th>4</th>\n",
              "      <td>Got this for my boyfriend after smelling it in...</td>\n",
              "      <td>Perfumes</td>\n",
              "    </tr>\n",
              "  </tbody>\n",
              "</table>\n",
              "</div>\n",
              "      <button class=\"colab-df-convert\" onclick=\"convertToInteractive('df-0c2b575a-1992-494e-a8d6-738cb14f085f')\"\n",
              "              title=\"Convert this dataframe to an interactive table.\"\n",
              "              style=\"display:none;\">\n",
              "        \n",
              "  <svg xmlns=\"http://www.w3.org/2000/svg\" height=\"24px\"viewBox=\"0 0 24 24\"\n",
              "       width=\"24px\">\n",
              "    <path d=\"M0 0h24v24H0V0z\" fill=\"none\"/>\n",
              "    <path d=\"M18.56 5.44l.94 2.06.94-2.06 2.06-.94-2.06-.94-.94-2.06-.94 2.06-2.06.94zm-11 1L8.5 8.5l.94-2.06 2.06-.94-2.06-.94L8.5 2.5l-.94 2.06-2.06.94zm10 10l.94 2.06.94-2.06 2.06-.94-2.06-.94-.94-2.06-.94 2.06-2.06.94z\"/><path d=\"M17.41 7.96l-1.37-1.37c-.4-.4-.92-.59-1.43-.59-.52 0-1.04.2-1.43.59L10.3 9.45l-7.72 7.72c-.78.78-.78 2.05 0 2.83L4 21.41c.39.39.9.59 1.41.59.51 0 1.02-.2 1.41-.59l7.78-7.78 2.81-2.81c.8-.78.8-2.07 0-2.86zM5.41 20L4 18.59l7.72-7.72 1.47 1.35L5.41 20z\"/>\n",
              "  </svg>\n",
              "      </button>\n",
              "      \n",
              "  <style>\n",
              "    .colab-df-container {\n",
              "      display:flex;\n",
              "      flex-wrap:wrap;\n",
              "      gap: 12px;\n",
              "    }\n",
              "\n",
              "    .colab-df-convert {\n",
              "      background-color: #E8F0FE;\n",
              "      border: none;\n",
              "      border-radius: 50%;\n",
              "      cursor: pointer;\n",
              "      display: none;\n",
              "      fill: #1967D2;\n",
              "      height: 32px;\n",
              "      padding: 0 0 0 0;\n",
              "      width: 32px;\n",
              "    }\n",
              "\n",
              "    .colab-df-convert:hover {\n",
              "      background-color: #E2EBFA;\n",
              "      box-shadow: 0px 1px 2px rgba(60, 64, 67, 0.3), 0px 1px 3px 1px rgba(60, 64, 67, 0.15);\n",
              "      fill: #174EA6;\n",
              "    }\n",
              "\n",
              "    [theme=dark] .colab-df-convert {\n",
              "      background-color: #3B4455;\n",
              "      fill: #D2E3FC;\n",
              "    }\n",
              "\n",
              "    [theme=dark] .colab-df-convert:hover {\n",
              "      background-color: #434B5C;\n",
              "      box-shadow: 0px 1px 3px 1px rgba(0, 0, 0, 0.15);\n",
              "      filter: drop-shadow(0px 1px 2px rgba(0, 0, 0, 0.3));\n",
              "      fill: #FFFFFF;\n",
              "    }\n",
              "  </style>\n",
              "\n",
              "      <script>\n",
              "        const buttonEl =\n",
              "          document.querySelector('#df-0c2b575a-1992-494e-a8d6-738cb14f085f button.colab-df-convert');\n",
              "        buttonEl.style.display =\n",
              "          google.colab.kernel.accessAllowed ? 'block' : 'none';\n",
              "\n",
              "        async function convertToInteractive(key) {\n",
              "          const element = document.querySelector('#df-0c2b575a-1992-494e-a8d6-738cb14f085f');\n",
              "          const dataTable =\n",
              "            await google.colab.kernel.invokeFunction('convertToInteractive',\n",
              "                                                     [key], {});\n",
              "          if (!dataTable) return;\n",
              "\n",
              "          const docLinkHtml = 'Like what you see? Visit the ' +\n",
              "            '<a target=\"_blank\" href=https://colab.research.google.com/notebooks/data_table.ipynb>data table notebook</a>'\n",
              "            + ' to learn more about interactive tables.';\n",
              "          element.innerHTML = '';\n",
              "          dataTable['output_type'] = 'display_data';\n",
              "          await google.colab.output.renderOutput(dataTable, element);\n",
              "          const docLink = document.createElement('div');\n",
              "          docLink.innerHTML = docLinkHtml;\n",
              "          element.appendChild(docLink);\n",
              "        }\n",
              "      </script>\n",
              "    </div>\n",
              "  </div>\n",
              "  "
            ]
          },
          "metadata": {},
          "execution_count": 29
        }
      ]
    },
    {
      "cell_type": "code",
      "source": [
        "df_submission.to_csv('submission.csv')"
      ],
      "metadata": {
        "id": "RCVynvsOGIfW"
      },
      "execution_count": 30,
      "outputs": []
    },
    {
      "cell_type": "markdown",
      "source": [
        "**Saving the model and vectorizer**"
      ],
      "metadata": {
        "id": "GzDkcijf_DKW"
      }
    },
    {
      "cell_type": "code",
      "source": [
        "from sklearn.pipeline import Pipeline\n",
        "model = Pipeline([('cv', vectorizer),\n",
        "                  ('clf', lda_model_final),\n",
        "])"
      ],
      "metadata": {
        "id": "K_TkwAnf-tX5"
      },
      "execution_count": 31,
      "outputs": []
    },
    {
      "cell_type": "code",
      "source": [
        "filename = 'topic_model.pkl'\n",
        "pickle.dump(model, open(filename, 'wb'))"
      ],
      "metadata": {
        "id": "0m0PWa8aBNRZ"
      },
      "execution_count": 32,
      "outputs": []
    },
    {
      "cell_type": "code",
      "source": [
        "loaded_model = pickle.load(open(filename, 'rb'))"
      ],
      "metadata": {
        "id": "0zBaji_iCN4m"
      },
      "execution_count": 33,
      "outputs": []
    },
    {
      "cell_type": "code",
      "source": [
        "res = loaded_model.transform(df['Text'])"
      ],
      "metadata": {
        "id": "9-KKV5QIClPN"
      },
      "execution_count": 34,
      "outputs": []
    },
    {
      "cell_type": "code",
      "source": [
        "df1 = df.copy()"
      ],
      "metadata": {
        "id": "TS2kpvcFCp9r"
      },
      "execution_count": 35,
      "outputs": []
    },
    {
      "cell_type": "code",
      "source": [
        "df1['results'] = res.argmax(axis=1)"
      ],
      "metadata": {
        "id": "JFgf0ZKLDJQx"
      },
      "execution_count": 36,
      "outputs": []
    },
    {
      "cell_type": "code",
      "source": [
        "df1"
      ],
      "metadata": {
        "colab": {
          "base_uri": "https://localhost:8080/",
          "height": 424
        },
        "id": "QtCpWGkxDPjD",
        "outputId": "d4dd86ca-8e9c-4cab-eb17-166965ce8d6f"
      },
      "execution_count": 37,
      "outputs": [
        {
          "output_type": "execute_result",
          "data": {
            "text/plain": [
              "                                                   Text  Topic  visual_topics  \\\n",
              "0     I absolutly love this modle. It is soooooooo c...      0              2   \n",
              "1     I love this parfum spray. I was very pleased a...      3              3   \n",
              "2     We love this collar! It's sturdy, convenient, ...      2              1   \n",
              "3     The game that made me the most competitive foo...      0              2   \n",
              "4     Got this for my boyfriend after smelling it in...      3              3   \n",
              "...                                                 ...    ...            ...   \n",
              "3222  My dog loves the squirrel but the squeaker bro...      2              1   \n",
              "3223  I have been using Adams Plus Flea & Tick mist ...      2              1   \n",
              "3224  Great product, and sprinkling it on top of her...      2              1   \n",
              "3225  I really like this pen because it looks much b...      2              1   \n",
              "3226  Purchased March '11... daily use... worked gre...      2              1   \n",
              "\n",
              "     topic_names  results  \n",
              "0     Kids_games        0  \n",
              "1       Perfumes        3  \n",
              "2       Pet_care        2  \n",
              "3     Kids_games        0  \n",
              "4       Perfumes        3  \n",
              "...          ...      ...  \n",
              "3222    Pet_care        2  \n",
              "3223    Pet_care        1  \n",
              "3224    Pet_care        2  \n",
              "3225    Pet_care        2  \n",
              "3226    Pet_care        2  \n",
              "\n",
              "[3227 rows x 5 columns]"
            ],
            "text/html": [
              "\n",
              "  <div id=\"df-8a86461f-a14d-4684-9aed-efebe9320d6b\">\n",
              "    <div class=\"colab-df-container\">\n",
              "      <div>\n",
              "<style scoped>\n",
              "    .dataframe tbody tr th:only-of-type {\n",
              "        vertical-align: middle;\n",
              "    }\n",
              "\n",
              "    .dataframe tbody tr th {\n",
              "        vertical-align: top;\n",
              "    }\n",
              "\n",
              "    .dataframe thead th {\n",
              "        text-align: right;\n",
              "    }\n",
              "</style>\n",
              "<table border=\"1\" class=\"dataframe\">\n",
              "  <thead>\n",
              "    <tr style=\"text-align: right;\">\n",
              "      <th></th>\n",
              "      <th>Text</th>\n",
              "      <th>Topic</th>\n",
              "      <th>visual_topics</th>\n",
              "      <th>topic_names</th>\n",
              "      <th>results</th>\n",
              "    </tr>\n",
              "  </thead>\n",
              "  <tbody>\n",
              "    <tr>\n",
              "      <th>0</th>\n",
              "      <td>I absolutly love this modle. It is soooooooo c...</td>\n",
              "      <td>0</td>\n",
              "      <td>2</td>\n",
              "      <td>Kids_games</td>\n",
              "      <td>0</td>\n",
              "    </tr>\n",
              "    <tr>\n",
              "      <th>1</th>\n",
              "      <td>I love this parfum spray. I was very pleased a...</td>\n",
              "      <td>3</td>\n",
              "      <td>3</td>\n",
              "      <td>Perfumes</td>\n",
              "      <td>3</td>\n",
              "    </tr>\n",
              "    <tr>\n",
              "      <th>2</th>\n",
              "      <td>We love this collar! It's sturdy, convenient, ...</td>\n",
              "      <td>2</td>\n",
              "      <td>1</td>\n",
              "      <td>Pet_care</td>\n",
              "      <td>2</td>\n",
              "    </tr>\n",
              "    <tr>\n",
              "      <th>3</th>\n",
              "      <td>The game that made me the most competitive foo...</td>\n",
              "      <td>0</td>\n",
              "      <td>2</td>\n",
              "      <td>Kids_games</td>\n",
              "      <td>0</td>\n",
              "    </tr>\n",
              "    <tr>\n",
              "      <th>4</th>\n",
              "      <td>Got this for my boyfriend after smelling it in...</td>\n",
              "      <td>3</td>\n",
              "      <td>3</td>\n",
              "      <td>Perfumes</td>\n",
              "      <td>3</td>\n",
              "    </tr>\n",
              "    <tr>\n",
              "      <th>...</th>\n",
              "      <td>...</td>\n",
              "      <td>...</td>\n",
              "      <td>...</td>\n",
              "      <td>...</td>\n",
              "      <td>...</td>\n",
              "    </tr>\n",
              "    <tr>\n",
              "      <th>3222</th>\n",
              "      <td>My dog loves the squirrel but the squeaker bro...</td>\n",
              "      <td>2</td>\n",
              "      <td>1</td>\n",
              "      <td>Pet_care</td>\n",
              "      <td>2</td>\n",
              "    </tr>\n",
              "    <tr>\n",
              "      <th>3223</th>\n",
              "      <td>I have been using Adams Plus Flea &amp; Tick mist ...</td>\n",
              "      <td>2</td>\n",
              "      <td>1</td>\n",
              "      <td>Pet_care</td>\n",
              "      <td>1</td>\n",
              "    </tr>\n",
              "    <tr>\n",
              "      <th>3224</th>\n",
              "      <td>Great product, and sprinkling it on top of her...</td>\n",
              "      <td>2</td>\n",
              "      <td>1</td>\n",
              "      <td>Pet_care</td>\n",
              "      <td>2</td>\n",
              "    </tr>\n",
              "    <tr>\n",
              "      <th>3225</th>\n",
              "      <td>I really like this pen because it looks much b...</td>\n",
              "      <td>2</td>\n",
              "      <td>1</td>\n",
              "      <td>Pet_care</td>\n",
              "      <td>2</td>\n",
              "    </tr>\n",
              "    <tr>\n",
              "      <th>3226</th>\n",
              "      <td>Purchased March '11... daily use... worked gre...</td>\n",
              "      <td>2</td>\n",
              "      <td>1</td>\n",
              "      <td>Pet_care</td>\n",
              "      <td>2</td>\n",
              "    </tr>\n",
              "  </tbody>\n",
              "</table>\n",
              "<p>3227 rows × 5 columns</p>\n",
              "</div>\n",
              "      <button class=\"colab-df-convert\" onclick=\"convertToInteractive('df-8a86461f-a14d-4684-9aed-efebe9320d6b')\"\n",
              "              title=\"Convert this dataframe to an interactive table.\"\n",
              "              style=\"display:none;\">\n",
              "        \n",
              "  <svg xmlns=\"http://www.w3.org/2000/svg\" height=\"24px\"viewBox=\"0 0 24 24\"\n",
              "       width=\"24px\">\n",
              "    <path d=\"M0 0h24v24H0V0z\" fill=\"none\"/>\n",
              "    <path d=\"M18.56 5.44l.94 2.06.94-2.06 2.06-.94-2.06-.94-.94-2.06-.94 2.06-2.06.94zm-11 1L8.5 8.5l.94-2.06 2.06-.94-2.06-.94L8.5 2.5l-.94 2.06-2.06.94zm10 10l.94 2.06.94-2.06 2.06-.94-2.06-.94-.94-2.06-.94 2.06-2.06.94z\"/><path d=\"M17.41 7.96l-1.37-1.37c-.4-.4-.92-.59-1.43-.59-.52 0-1.04.2-1.43.59L10.3 9.45l-7.72 7.72c-.78.78-.78 2.05 0 2.83L4 21.41c.39.39.9.59 1.41.59.51 0 1.02-.2 1.41-.59l7.78-7.78 2.81-2.81c.8-.78.8-2.07 0-2.86zM5.41 20L4 18.59l7.72-7.72 1.47 1.35L5.41 20z\"/>\n",
              "  </svg>\n",
              "      </button>\n",
              "      \n",
              "  <style>\n",
              "    .colab-df-container {\n",
              "      display:flex;\n",
              "      flex-wrap:wrap;\n",
              "      gap: 12px;\n",
              "    }\n",
              "\n",
              "    .colab-df-convert {\n",
              "      background-color: #E8F0FE;\n",
              "      border: none;\n",
              "      border-radius: 50%;\n",
              "      cursor: pointer;\n",
              "      display: none;\n",
              "      fill: #1967D2;\n",
              "      height: 32px;\n",
              "      padding: 0 0 0 0;\n",
              "      width: 32px;\n",
              "    }\n",
              "\n",
              "    .colab-df-convert:hover {\n",
              "      background-color: #E2EBFA;\n",
              "      box-shadow: 0px 1px 2px rgba(60, 64, 67, 0.3), 0px 1px 3px 1px rgba(60, 64, 67, 0.15);\n",
              "      fill: #174EA6;\n",
              "    }\n",
              "\n",
              "    [theme=dark] .colab-df-convert {\n",
              "      background-color: #3B4455;\n",
              "      fill: #D2E3FC;\n",
              "    }\n",
              "\n",
              "    [theme=dark] .colab-df-convert:hover {\n",
              "      background-color: #434B5C;\n",
              "      box-shadow: 0px 1px 3px 1px rgba(0, 0, 0, 0.15);\n",
              "      filter: drop-shadow(0px 1px 2px rgba(0, 0, 0, 0.3));\n",
              "      fill: #FFFFFF;\n",
              "    }\n",
              "  </style>\n",
              "\n",
              "      <script>\n",
              "        const buttonEl =\n",
              "          document.querySelector('#df-8a86461f-a14d-4684-9aed-efebe9320d6b button.colab-df-convert');\n",
              "        buttonEl.style.display =\n",
              "          google.colab.kernel.accessAllowed ? 'block' : 'none';\n",
              "\n",
              "        async function convertToInteractive(key) {\n",
              "          const element = document.querySelector('#df-8a86461f-a14d-4684-9aed-efebe9320d6b');\n",
              "          const dataTable =\n",
              "            await google.colab.kernel.invokeFunction('convertToInteractive',\n",
              "                                                     [key], {});\n",
              "          if (!dataTable) return;\n",
              "\n",
              "          const docLinkHtml = 'Like what you see? Visit the ' +\n",
              "            '<a target=\"_blank\" href=https://colab.research.google.com/notebooks/data_table.ipynb>data table notebook</a>'\n",
              "            + ' to learn more about interactive tables.';\n",
              "          element.innerHTML = '';\n",
              "          dataTable['output_type'] = 'display_data';\n",
              "          await google.colab.output.renderOutput(dataTable, element);\n",
              "          const docLink = document.createElement('div');\n",
              "          docLink.innerHTML = docLinkHtml;\n",
              "          element.appendChild(docLink);\n",
              "        }\n",
              "      </script>\n",
              "    </div>\n",
              "  </div>\n",
              "  "
            ]
          },
          "metadata": {},
          "execution_count": 37
        }
      ]
    },
    {
      "cell_type": "code",
      "source": [
        "df1.to_csv('evaluate.csv')"
      ],
      "metadata": {
        "id": "U635fGFsDR4t"
      },
      "execution_count": 38,
      "outputs": []
    },
    {
      "cell_type": "code",
      "source": [
        "pyLDAvis.save_html(panel, 'lda_10topics.html')\n",
        "pyLDAvis.save_html(panel_final, 'lda_4topics.html')"
      ],
      "metadata": {
        "id": "3xPoz6zPLuTs"
      },
      "execution_count": 39,
      "outputs": []
    },
    {
      "cell_type": "code",
      "source": [
        ""
      ],
      "metadata": {
        "id": "330Uj3eYQCrK"
      },
      "execution_count": null,
      "outputs": []
    }
  ]
}